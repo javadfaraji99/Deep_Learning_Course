{
  "cells": [
    {
      "attachments": {},
      "cell_type": "markdown",
      "metadata": {
        "id": "4462c0f9"
      },
      "source": [
        "## Introduction to Python\n",
        "Open an interactive python environment (python shell, ipython shell, or jupyter notebook), run the following commands and observe the output:"
      ]
    },
    {
      "cell_type": "code",
      "execution_count": null,
      "metadata": {},
      "outputs": [],
      "source": []
    },
    {
      "attachments": {},
      "cell_type": "markdown",
      "metadata": {
        "id": "3e6c9439"
      },
      "source": [
        "### Integer, float, string, and boolean types"
      ]
    },
    {
      "cell_type": "code",
      "execution_count": null,
      "metadata": {
        "colab": {
          "base_uri": "https://localhost:8080/"
        },
        "id": "fb239abe",
        "outputId": "252859bb-71a7-4198-bd27-de41c7b2d493"
      },
      "outputs": [
        {
          "name": "stdout",
          "output_type": "stream",
          "text": [
            "type(i) : <class 'int'>\n",
            "type(f) : <class 'float'>\n",
            "type(s) : <class 'str'>\n",
            "type(t) : <class 'bool'>\n"
          ]
        }
      ],
      "source": [
        "i = 1\n",
        "f = 1.1\n",
        "s = \"hello!\"\n",
        "t = True\n",
        "print(f'type(i) : {type(i)}')\n",
        "print(f'type(f) : {type(f)}')\n",
        "print(f'type(s) : {type(s)}')\n",
        "print(f'type(t) : {type(t)}')"
      ]
    },
    {
      "attachments": {},
      "cell_type": "markdown",
      "metadata": {
        "id": "e8bb73c4"
      },
      "source": [
        "### Conversion between types (Casting)"
      ]
    },
    {
      "cell_type": "code",
      "execution_count": null,
      "metadata": {
        "colab": {
          "base_uri": "https://localhost:8080/"
        },
        "id": "5dffdb98",
        "outputId": "8c290828-1e19-45af-a3e9-3ea679ade2ac"
      },
      "outputs": [
        {
          "name": "stdout",
          "output_type": "stream",
          "text": [
            "str(i) : 1\n",
            "str(f) : 1.1\n",
            "int(f) : 1\n",
            "int(\"123\") : 123\n",
            "float(i) : 1.0\n",
            "float(\"1.1\") : 1.1\n",
            "int(t) : 1\n",
            "int(False) : 0\n"
          ]
        }
      ],
      "source": [
        "print(f'str(i) : {str(i)}')\n",
        "print(f'str(f) : {str(f)}')\n",
        "print(f'int(f) : {int(f)}')\n",
        "print(f'int(\"123\") : {int(\"123\")}')\n",
        "print(f'float(i) : {float(i)}')\n",
        "print(f'float(\"1.1\") : {float(\"1.1\")}')\n",
        "print(f'int(t) : {int(t)}')\n",
        "print(f'int(False) : {int(False)}')"
      ]
    },
    {
      "cell_type": "code",
      "execution_count": null,
      "metadata": {
        "colab": {
          "base_uri": "https://localhost:8080/"
        },
        "id": "ap05BFdT2Uwg",
        "outputId": "742f81f6-a54b-443c-aeb2-dc15a4cf871e"
      },
      "outputs": [
        {
          "name": "stdout",
          "output_type": "stream",
          "text": [
            "<class 'str'>\n"
          ]
        }
      ],
      "source": [
        "print(type(str(i)))"
      ]
    },
    {
      "attachments": {},
      "cell_type": "markdown",
      "metadata": {
        "id": "36ea9478"
      },
      "source": [
        "### Basic operation"
      ]
    },
    {
      "cell_type": "code",
      "execution_count": null,
      "metadata": {
        "colab": {
          "base_uri": "https://localhost:8080/"
        },
        "id": "ad4329c6",
        "outputId": "ae71aef5-7da5-4209-ffc0-370fc3587ce5"
      },
      "outputs": [
        {
          "name": "stdout",
          "output_type": "stream",
          "text": [
            "a*b : 30\n",
            "a+b : 13\n",
            "b**a : 1000\n",
            "b/a : 3.3333333333333335\n",
            "b//a : 3\n",
            "b%a : 1\n"
          ]
        }
      ],
      "source": [
        "a = 3\n",
        "b = 10\n",
        "print(f'a*b : {a*b}')\n",
        "print(f'a+b : {a+b}')\n",
        "print(f'b**a : {b**a}')\n",
        "print(f'b/a : {b/a}')\n",
        "print(f'b//a : {b//a}')\n",
        "print(f'b%a : {b%a}')"
      ]
    },
    {
      "cell_type": "code",
      "execution_count": null,
      "metadata": {
        "colab": {
          "base_uri": "https://localhost:8080/"
        },
        "id": "68eabc75",
        "outputId": "68296e96-fd50-43ed-f035-27494b061042"
      },
      "outputs": [
        {
          "name": "stdout",
          "output_type": "stream",
          "text": [
            "c : 12\n"
          ]
        }
      ],
      "source": [
        "c = 4\n",
        "c *= 3\n",
        "print(f'c : {c}')"
      ]
    },
    {
      "cell_type": "code",
      "execution_count": null,
      "metadata": {
        "colab": {
          "base_uri": "https://localhost:8080/"
        },
        "id": "nsw5vBRS2leD",
        "outputId": "dac7c47f-1f61-4e5a-b759-ae822f0ec642"
      },
      "outputs": [
        {
          "name": "stdout",
          "output_type": "stream",
          "text": [
            "12\n"
          ]
        }
      ],
      "source": [
        "c = 4\n",
        "c = c * 3\n",
        "print(c)"
      ]
    },
    {
      "cell_type": "code",
      "execution_count": null,
      "metadata": {
        "colab": {
          "base_uri": "https://localhost:8080/"
        },
        "id": "0007b776",
        "outputId": "4985c84b-8464-4399-8b11-a3cd267225c6"
      },
      "outputs": [
        {
          "name": "stdout",
          "output_type": "stream",
          "text": [
            "a == b : False\n",
            "a != b : True\n",
            "a < b : True\n",
            "a > b : False\n",
            "a <= b : True\n",
            "a >= b : False\n",
            "not(a == b) : True\n",
            "a < 5 or a > 5 : True\n",
            "a < 5 and a > 5 : False\n"
          ]
        }
      ],
      "source": [
        "print(f'a == b : {a == b}')\n",
        "print(f'a != b : {a != b}')\n",
        "print(f'a < b : {a < b}')\n",
        "print(f'a > b : {a > b}')\n",
        "print(f'a <= b : {a <= b}')\n",
        "print(f'a >= b : {a >= b}')\n",
        "print(f'not(a == b) : {not(a == b)}')\n",
        "print(f'a < 5 or a > 5 : {a < 5 or a > 5}')\n",
        "print(f'a < 5 and a > 5 : {a < 5 and a > 5}')"
      ]
    },
    {
      "attachments": {},
      "cell_type": "markdown",
      "metadata": {
        "id": "51d9c86f"
      },
      "source": [
        "### String operation"
      ]
    },
    {
      "cell_type": "code",
      "execution_count": null,
      "metadata": {
        "id": "a0b4f641"
      },
      "outputs": [],
      "source": [
        "s = 'hello'\n",
        "s2 = 'hello'\n",
        "print(f's == s2 : {s == s2}')\n",
        "print(f'len(s) : {len(s)}')\n",
        "\n",
        "r = '123'\n",
        "print(f's + r : {s + r}')\n",
        "\n",
        "print(f's[0] : {s[0]}')\n",
        "print(f's[1] : {s[1]}')\n",
        "print(f's[-1] : {s[-1]}')\n",
        "print(f's[1:4] : {s[1:4]}')\n",
        "print(f's[1:] : {s[1:]}')\n",
        "print(f's[:-1] : {s[:-1]}')\n",
        "print(f's[::2] : {s[::2]}')"
      ]
    },
    {
      "attachments": {},
      "cell_type": "markdown",
      "metadata": {
        "id": "c49d386b"
      },
      "source": [
        "### Tuples"
      ]
    },
    {
      "cell_type": "code",
      "execution_count": 1,
      "metadata": {},
      "outputs": [
        {
          "data": {
            "text/plain": [
              "(1, 2, 3, 4, 5, 6)"
            ]
          },
          "execution_count": 1,
          "metadata": {},
          "output_type": "execute_result"
        }
      ],
      "source": [
        "a = (1,2,3)\n",
        "b = (4,5,6)\n",
        "c = a + b\n",
        "c"
      ]
    },
    {
      "cell_type": "code",
      "execution_count": 1,
      "metadata": {
        "id": "e362fa12"
      },
      "outputs": [
        {
          "name": "stdout",
          "output_type": "stream",
          "text": [
            "p : (2, 'abc', 13.2)\n",
            "p[0] : 2\n",
            "p[-1] : 13.2\n",
            "len(p) : 3\n"
          ]
        },
        {
          "ename": "TypeError",
          "evalue": "'tuple' object does not support item assignment",
          "output_type": "error",
          "traceback": [
            "\u001b[1;31m---------------------------------------------------------------------------\u001b[0m",
            "\u001b[1;31mTypeError\u001b[0m                                 Traceback (most recent call last)",
            "Cell \u001b[1;32mIn[1], line 7\u001b[0m\n\u001b[0;32m      5\u001b[0m \u001b[39mprint\u001b[39m(\u001b[39mf\u001b[39m\u001b[39m'\u001b[39m\u001b[39mp[-1] : \u001b[39m\u001b[39m{\u001b[39;00mp[\u001b[39m-\u001b[39m\u001b[39m1\u001b[39m]\u001b[39m}\u001b[39;00m\u001b[39m'\u001b[39m)\n\u001b[0;32m      6\u001b[0m \u001b[39mprint\u001b[39m(\u001b[39mf\u001b[39m\u001b[39m'\u001b[39m\u001b[39mlen(p) : \u001b[39m\u001b[39m{\u001b[39;00m\u001b[39mlen\u001b[39m(p)\u001b[39m}\u001b[39;00m\u001b[39m'\u001b[39m)\n\u001b[1;32m----> 7\u001b[0m p[\u001b[39m0\u001b[39;49m] \u001b[39m=\u001b[39m \u001b[39m100\u001b[39m   \u001b[39m# Pay attention to the error\u001b[39;00m\n",
            "\u001b[1;31mTypeError\u001b[0m: 'tuple' object does not support item assignment"
          ]
        }
      ],
      "source": [
        "t = (1,2,4)\n",
        "p =(2, 'abc', 13.2)\n",
        "print(f'p : {p}')\n",
        "print(f'p[0] : {p[0]}')\n",
        "print(f'p[-1] : {p[-1]}')\n",
        "print(f'len(p) : {len(p)}')\n",
        "p[0] = 100   # Pay attention to the error"
      ]
    },
    {
      "attachments": {},
      "cell_type": "markdown",
      "metadata": {
        "id": "34fcc3d0"
      },
      "source": [
        "### List"
      ]
    },
    {
      "cell_type": "code",
      "execution_count": null,
      "metadata": {
        "id": "7630a56a"
      },
      "outputs": [],
      "source": [
        "l = [1, 2, 3, 4]\n",
        "print(f'l : {l}')\n",
        "\n",
        "l = l + [True]\n",
        "print(f'l : {l}')\n",
        "\n",
        "print(f'len(l) : {len(l)}')\n",
        "\n",
        "l.append(5)\n",
        "print(f'l : {l}')\n",
        "\n",
        "l.insert(0,100)\n",
        "print(l)\n",
        "\n",
        "print(f'100 in l : {100 in l}')\n",
        "print(f'101 in l : {101 in l}')\n",
        "\n",
        "l.extend(['a', 'b', 'c'])\n",
        "print(f'l : {l}')\n",
        "\n",
        "l.append(['e', 'f', 'g'])\n",
        "print(f'l : {l}')\n",
        "\n",
        "print(f'l.pop() : {l.pop()}')\n",
        "print(f'l : {l}')\n",
        "print(f'l.pop(5) : {l.pop(5)}')\n",
        "print(f'l : {l}')"
      ]
    },
    {
      "cell_type": "code",
      "execution_count": null,
      "metadata": {
        "id": "5d98e8d1"
      },
      "outputs": [],
      "source": [
        "l=[100,101,102,103,104,105,106,107,108,109,110,111,112]\n",
        "\n",
        "print(f'l[0] : {l[0]}')\n",
        "print(f'l[1] : {l[1]}')\n",
        "print(f'l[-1] : {l[-1]}')\n",
        "print(f'l[1:5] : {l[1:5]}')\n",
        "print(f'l[::-1] : {l[::-1]}')\n",
        "\n",
        "l.reverse()\n",
        "print(f'l : {l}')\n",
        "\n",
        "l.sort()\n",
        "print(f'l : {l}')"
      ]
    },
    {
      "cell_type": "code",
      "execution_count": null,
      "metadata": {
        "id": "b97665df"
      },
      "outputs": [],
      "source": [
        "l[1] = 0\n",
        "print(f'l : {l}')"
      ]
    },
    {
      "attachments": {},
      "cell_type": "markdown",
      "metadata": {
        "id": "afc2f74d"
      },
      "source": [
        "### The range function"
      ]
    },
    {
      "cell_type": "code",
      "execution_count": 2,
      "metadata": {
        "id": "f7e20ed9"
      },
      "outputs": [
        {
          "name": "stdout",
          "output_type": "stream",
          "text": [
            "range(10) : range(0, 10)\n",
            "list(range(10)) : [0, 1, 2, 3, 4, 5, 6, 7, 8, 9]\n",
            "list(range(4,30,3)) : [4, 7, 10, 13, 16, 19, 22, 25, 28]\n"
          ]
        }
      ],
      "source": [
        "print(f'range(10) : {range(10)}')\n",
        "print(f'list(range(10)) : {list(range(10))}')\n",
        "print(f'list(range(4,30,3)) : {list(range(4,30,3))}')"
      ]
    },
    {
      "cell_type": "code",
      "execution_count": 6,
      "metadata": {},
      "outputs": [
        {
          "data": {
            "text/plain": [
              "0"
            ]
          },
          "execution_count": 6,
          "metadata": {},
          "output_type": "execute_result"
        }
      ],
      "source": [
        "a = range(10)[0]\n",
        "a"
      ]
    },
    {
      "attachments": {},
      "cell_type": "markdown",
      "metadata": {
        "id": "471d7998"
      },
      "source": [
        "### Dictionaries"
      ]
    },
    {
      "cell_type": "code",
      "execution_count": 7,
      "metadata": {
        "id": "f655f26f"
      },
      "outputs": [
        {
          "name": "stdout",
          "output_type": "stream",
          "text": [
            "d[1] : hello\n",
            "d[8] : 1.4\n"
          ]
        }
      ],
      "source": [
        "d = {1: 'hello', 8: 1.4}\n",
        "print(f'd[1] : {d[1]}')\n",
        "print(f'd[8] : {d[8]}')\n",
        "# print(f'd[2] : {d[2]}')    # Error\n"
      ]
    },
    {
      "cell_type": "code",
      "execution_count": 8,
      "metadata": {},
      "outputs": [
        {
          "data": {
            "text/plain": [
              "1.4"
            ]
          },
          "execution_count": 8,
          "metadata": {},
          "output_type": "execute_result"
        }
      ],
      "source": [
        "d.pop(8)"
      ]
    },
    {
      "cell_type": "code",
      "execution_count": 9,
      "metadata": {},
      "outputs": [
        {
          "data": {
            "text/plain": [
              "{1: 'hello'}"
            ]
          },
          "execution_count": 9,
          "metadata": {},
          "output_type": "execute_result"
        }
      ],
      "source": [
        "d"
      ]
    },
    {
      "cell_type": "code",
      "execution_count": null,
      "metadata": {
        "id": "f7e54a18"
      },
      "outputs": [],
      "source": [
        "d[2] = 444\n",
        "print(f'd : {d}')\n",
        "print(f'd[2] : {d[2]}')"
      ]
    },
    {
      "cell_type": "code",
      "execution_count": null,
      "metadata": {
        "id": "e4cc8081"
      },
      "outputs": [],
      "source": [
        "d['k'] = 99\n",
        "print(f'd : {d}')"
      ]
    },
    {
      "cell_type": "code",
      "execution_count": 4,
      "metadata": {
        "id": "a4bb9866"
      },
      "outputs": [
        {
          "name": "stdout",
          "output_type": "stream",
          "text": [
            "d.keys() : dict_keys([1, 8])\n",
            "d.values() : dict_values(['hello', 1.4])\n",
            "d.items() : dict_items([(1, 'hello'), (8, 1.4)])\n"
          ]
        }
      ],
      "source": [
        "print(f'd.keys() : {d.keys()}')\n",
        "print(f'd.values() : {d.values()}')\n",
        "print(f'd.items() : {d.items()}')"
      ]
    },
    {
      "cell_type": "code",
      "execution_count": null,
      "metadata": {
        "id": "4f9aa8ac"
      },
      "outputs": [],
      "source": [
        "print(f'd : {d}')\n",
        "del d['k']\n",
        "print(f'd : {d}')"
      ]
    },
    {
      "attachments": {},
      "cell_type": "markdown",
      "metadata": {
        "id": "a7627032"
      },
      "source": [
        "### Conditions"
      ]
    },
    {
      "cell_type": "code",
      "execution_count": null,
      "metadata": {
        "id": "af3a9ca8"
      },
      "outputs": [],
      "source": [
        "i = 12\n",
        "b = 1\n",
        "if i == 12:\n",
        "    b = 2\n",
        "    print(b)"
      ]
    },
    {
      "cell_type": "code",
      "execution_count": null,
      "metadata": {
        "id": "082544df"
      },
      "outputs": [],
      "source": [
        "i = 12\n",
        "if i == 10:\n",
        "    print('YES')\n",
        "    print('i equals 10')\n",
        "else:\n",
        "    print('NO')\n",
        "    print('i is not equal to 10')"
      ]
    },
    {
      "cell_type": "code",
      "execution_count": null,
      "metadata": {
        "id": "8f0cecda"
      },
      "outputs": [],
      "source": [
        "i = 11\n",
        "b = 'salam'\n",
        "if i == 12:\n",
        "    print('Twelve')\n",
        "elif i == 11 and b == 'hi':\n",
        "    print('Eleven-hi')\n",
        "elif i > 10 and b == 'salam':\n",
        "    print('SALAAAMM!!')\n",
        "else:\n",
        "    print('None')"
      ]
    },
    {
      "attachments": {},
      "cell_type": "markdown",
      "metadata": {
        "id": "00d1dd0c"
      },
      "source": [
        "### while loop"
      ]
    },
    {
      "cell_type": "code",
      "execution_count": null,
      "metadata": {
        "id": "6b4bef68"
      },
      "outputs": [],
      "source": [
        "i = 10\n",
        "while i > 0:\n",
        "    print(i*i)\n",
        "    i -= 2"
      ]
    },
    {
      "attachments": {},
      "cell_type": "markdown",
      "metadata": {
        "id": "ac5adb09"
      },
      "source": [
        "### For loop"
      ]
    },
    {
      "cell_type": "code",
      "execution_count": null,
      "metadata": {
        "id": "19b5cab8"
      },
      "outputs": [],
      "source": [
        "l = [10,20,30,40.2, 'salam']\n",
        "for k in l:\n",
        "    print(k)"
      ]
    },
    {
      "cell_type": "code",
      "execution_count": null,
      "metadata": {
        "id": "4b55f4b1"
      },
      "outputs": [],
      "source": [
        "for k in range(2,20):\n",
        "    print(k, k*k)"
      ]
    },
    {
      "cell_type": "code",
      "execution_count": null,
      "metadata": {
        "id": "39fb8b24"
      },
      "outputs": [],
      "source": [
        "p = [1,2,3]\n",
        "q = ['One','Two','Three']\n",
        "for i in range(len(p)):\n",
        "    print(p[i],q[i])"
      ]
    },
    {
      "attachments": {},
      "cell_type": "markdown",
      "metadata": {
        "id": "b804553f"
      },
      "source": [
        "### Functions"
      ]
    },
    {
      "cell_type": "code",
      "execution_count": null,
      "metadata": {
        "id": "c903865c"
      },
      "outputs": [],
      "source": [
        "def add(a,b):\n",
        "    return a+b\n",
        "\n",
        "print(add(2,3))\n",
        "print(add(2,3.1))\n",
        "print(add('abc', '123'))"
      ]
    },
    {
      "cell_type": "code",
      "execution_count": null,
      "metadata": {
        "id": "fe0b17fd"
      },
      "outputs": [],
      "source": [
        "def sum (l):\n",
        "    s = 0\n",
        "    for k in l:\n",
        "        s += k\n",
        "    return s\n",
        "\n",
        "l = [1,2,4,8,16]\n",
        "print(sum(l))\n",
        "print(sum(range(10)))\n",
        "print(sum(2))   # Error"
      ]
    },
    {
      "attachments": {},
      "cell_type": "markdown",
      "metadata": {
        "id": "ae1a63c9"
      },
      "source": [
        "#### Default argument values"
      ]
    },
    {
      "cell_type": "code",
      "execution_count": null,
      "metadata": {
        "id": "5300e509",
        "outputId": "152b2acf-485e-4f6b-9245-a002baf120ee"
      },
      "outputs": [
        {
          "name": "stdout",
          "output_type": "stream",
          "text": [
            "24\n",
            "21\n"
          ]
        }
      ],
      "source": [
        "def add(a,b=1):\n",
        "    return a+b\n",
        "\n",
        "\n",
        "print(add(20,4))\n",
        "print(add(20))"
      ]
    },
    {
      "attachments": {},
      "cell_type": "markdown",
      "metadata": {
        "id": "501fea4f"
      },
      "source": [
        "### Using python modules\n"
      ]
    },
    {
      "cell_type": "code",
      "execution_count": null,
      "metadata": {
        "id": "22b81c8b"
      },
      "outputs": [],
      "source": [
        "import math\n",
        "print(math.cos(0), math.exp(0))\n",
        "print(math.pi)\n",
        "print(math.cos(math.pi))"
      ]
    },
    {
      "cell_type": "code",
      "execution_count": null,
      "metadata": {
        "id": "31bf18d4"
      },
      "outputs": [],
      "source": [
        "import math as m\n",
        "print(m.tan(0))"
      ]
    },
    {
      "cell_type": "code",
      "execution_count": null,
      "metadata": {
        "id": "ae8faec6"
      },
      "outputs": [],
      "source": [
        "from math import sin, cos, exp, pi\n",
        "print(exp(1), sin(pi/2))"
      ]
    },
    {
      "cell_type": "code",
      "execution_count": null,
      "metadata": {
        "id": "9ae13184"
      },
      "outputs": [],
      "source": [
        "from math import *\n",
        "print(pi)\n",
        "print(e)\n",
        "print(log(e))\n",
        "print(cos(log(1)))\n",
        "print(tan(pi/4))"
      ]
    },
    {
      "attachments": {},
      "cell_type": "markdown",
      "metadata": {
        "id": "32e44068"
      },
      "source": [
        "### More practice"
      ]
    },
    {
      "attachments": {},
      "cell_type": "markdown",
      "metadata": {
        "id": "64532109"
      },
      "source": [
        "#### zip method"
      ]
    },
    {
      "cell_type": "code",
      "execution_count": null,
      "metadata": {
        "colab": {
          "base_uri": "https://localhost:8080/"
        },
        "id": "d8cbce13",
        "outputId": "f2658e0c-fee2-4441-8789-24fd8e54cc4f"
      },
      "outputs": [
        {
          "name": "stdout",
          "output_type": "stream",
          "text": [
            "[1, 2, 3]\n",
            "['One', 'Two']\n",
            "<zip object at 0x7a0a264a1d40>\n",
            "1 One\n",
            "2 Two\n"
          ]
        }
      ],
      "source": [
        "p = [1,2,3]\n",
        "q = ['One','Two']\n",
        "\n",
        "print(p)\n",
        "print(q)\n",
        "print(zip(p,q))\n",
        "\n",
        "for x,y in zip(p,q):\n",
        "    print(x,y)"
      ]
    },
    {
      "attachments": {},
      "cell_type": "markdown",
      "metadata": {
        "id": "74593588"
      },
      "source": [
        "#### enumerate method"
      ]
    },
    {
      "cell_type": "code",
      "execution_count": null,
      "metadata": {
        "id": "b3e9c062"
      },
      "outputs": [],
      "source": [
        "l = ['a', 'b', 'c']\n",
        "print(l)\n",
        "print()\n",
        "\n",
        "for i,k in enumerate(l):\n",
        "    print(i,k)"
      ]
    },
    {
      "attachments": {},
      "cell_type": "markdown",
      "metadata": {
        "id": "458122d9"
      },
      "source": [
        "#### Initialization of list"
      ]
    },
    {
      "cell_type": "code",
      "execution_count": null,
      "metadata": {
        "id": "9975158a"
      },
      "outputs": [],
      "source": [
        "l = [10,20,30]\n",
        "t = [2*k for k in l]\n",
        "print(t)"
      ]
    },
    {
      "cell_type": "code",
      "execution_count": null,
      "metadata": {
        "id": "84436588"
      },
      "outputs": [],
      "source": [
        "t = [k for k in range(10)]\n",
        "print(t)"
      ]
    },
    {
      "cell_type": "code",
      "execution_count": null,
      "metadata": {
        "id": "47e859fa"
      },
      "outputs": [],
      "source": [
        "t = [k for k in range(10) if k % 2 == 0]\n",
        "print(t)"
      ]
    },
    {
      "attachments": {},
      "cell_type": "markdown",
      "metadata": {
        "id": "a0396ab9"
      },
      "source": [
        "#### Lambda"
      ]
    },
    {
      "cell_type": "code",
      "execution_count": null,
      "metadata": {
        "id": "eeafd53d"
      },
      "outputs": [],
      "source": [
        "f = lambda x: 2*x+1\n",
        "print(f(1))\n",
        "print(f(2))"
      ]
    },
    {
      "attachments": {},
      "cell_type": "markdown",
      "metadata": {
        "id": "C6mowMA56ihf"
      },
      "source": [
        "# Numpy\n",
        "\n",
        "This notebook, outlines techniques for effectively loading, storing, and manipulating in-memory data in Python.\n",
        "The topic is very broad: datasets can come from a wide range of sources and a wide range of formats, including be collections of documents, collections of images, collections of sound clips, collections of numerical measurements, or nearly anything else.\n",
        "Despite this apparent heterogeneity, it will help us to think of all data fundamentally as arrays of numbers.\n",
        "\n",
        "For this reason, efficient storage and manipulation of numerical arrays is absolutely fundamental to the process of doing data science.\n",
        "We'll now take a look at the specialized tools that Python has for handling such numerical arrays: the NumPy package, and the Pandas package.\n",
        "\n",
        "This chapter will cover NumPy in detail. NumPy (short for *Numerical Python*) provides an efficient interface to store and operate on dense data buffers.\n",
        "In some ways, NumPy arrays are like Python's built-in ``list`` type, but NumPy arrays provide much more efficient storage and data operations as the arrays grow larger in size.\n",
        "NumPy arrays form the core of nearly the entire ecosystem of data science tools in Python, so time spent learning to use NumPy effectively will be valuable no matter what aspect of data science interests you.\n",
        "\n",
        "If you're more the do-it-yourself type, you can go to http://www.numpy.org/ and follow the installation instructions found there.\n",
        "Once you do, you can import NumPy and double-check the version:"
      ]
    },
    {
      "cell_type": "code",
      "execution_count": 5,
      "metadata": {},
      "outputs": [
        {
          "data": {
            "text/plain": [
              "'1.26.4'"
            ]
          },
          "execution_count": 5,
          "metadata": {},
          "output_type": "execute_result"
        }
      ],
      "source": [
        "import numpy\n",
        "numpy.__version__"
      ]
    },
    {
      "attachments": {},
      "cell_type": "markdown",
      "metadata": {
        "id": "BPvnO8RPOXNa"
      },
      "source": [
        "By convention, you'll find that most people in the SciPy/PyData world will import NumPy using ``np`` as an alias:"
      ]
    },
    {
      "cell_type": "code",
      "execution_count": 10,
      "metadata": {
        "id": "ZVJ3762GOXNa"
      },
      "outputs": [],
      "source": [
        "import numpy as np"
      ]
    },
    {
      "cell_type": "code",
      "execution_count": 13,
      "metadata": {},
      "outputs": [
        {
          "name": "stdout",
          "output_type": "stream",
          "text": [
            "[0.0378779  0.82287394 0.03443321 0.53032034] [0.19425448 0.17347535 0.92418829 0.81041408] [0.51567954 0.62108922]\n",
            "0.6753781784517578\n"
          ]
        }
      ],
      "source": [
        "input = np.random.random((4))\n",
        "a = np.random.random((4))\n",
        "b = np.random.random((4))\n",
        "c = np.random.random((2))\n",
        "\n",
        "n1 = np.dot(input,a)\n",
        "n2 = np.dot(input,b)\n",
        "n3 = np.array([n1,n2])\n",
        "\n",
        "output = np.dot(n3,c)\n",
        "print(a,b,c)\n",
        "print(output)"
      ]
    },
    {
      "cell_type": "code",
      "execution_count": 14,
      "metadata": {},
      "outputs": [
        {
          "data": {
            "text/plain": [
              "0.6627063753277934"
            ]
          },
          "execution_count": 14,
          "metadata": {},
          "output_type": "execute_result"
        }
      ],
      "source": [
        "def sigmoid(x):\n",
        "    return 1 / (1 + np.exp(-x))\n",
        "sigmoid(output)"
      ]
    },
    {
      "attachments": {},
      "cell_type": "markdown",
      "metadata": {
        "id": "dqmDnGYh7v-z"
      },
      "source": [
        "## Define a numpy array\n",
        "\n",
        "we can define a numpy array with `array` function"
      ]
    },
    {
      "cell_type": "code",
      "execution_count": null,
      "metadata": {
        "colab": {
          "base_uri": "https://localhost:8080/"
        },
        "id": "7Ye4yoAI6mNK",
        "outputId": "1900a3b5-0c14-4d66-d266-f4eaed7a2f9e"
      },
      "outputs": [
        {
          "name": "stdout",
          "output_type": "stream",
          "text": [
            "[1 2 3]\n",
            "==========\n",
            "(3,)\n"
          ]
        }
      ],
      "source": [
        "v = np.array([1, 2, 3])  # 1d vector (row vector)\n",
        "print(v)\n",
        "print(\"=\"*10)\n",
        "print(v.shape)"
      ]
    },
    {
      "cell_type": "code",
      "execution_count": null,
      "metadata": {
        "colab": {
          "base_uri": "https://localhost:8080/"
        },
        "id": "FaVBHBjP8EZR",
        "outputId": "15d3182c-6783-42f5-b68f-4fd3693899fd"
      },
      "outputs": [
        {
          "name": "stdout",
          "output_type": "stream",
          "text": [
            "[[1 2]\n",
            " [3 4]\n",
            " [5 6]]\n",
            "==========\n",
            "(3, 2)\n"
          ]
        }
      ],
      "source": [
        "A = np.array([[1, 2],\n",
        "              [3, 4],\n",
        "              [5, 6]])  # 3-by-2 matrix\n",
        "print(A)\n",
        "print(\"=\"*10)\n",
        "print(A.shape)"
      ]
    },
    {
      "attachments": {},
      "cell_type": "markdown",
      "metadata": {
        "id": "7egZVVDy8st4"
      },
      "source": [
        "You can also create a numpy array with a loop"
      ]
    },
    {
      "cell_type": "code",
      "execution_count": null,
      "metadata": {
        "colab": {
          "base_uri": "https://localhost:8080/"
        },
        "id": "0_ERLaaB84UQ",
        "outputId": "a40328ba-5ef1-4507-be1c-f873f7ff562a"
      },
      "outputs": [
        {
          "name": "stdout",
          "output_type": "stream",
          "text": [
            "[1.  1.2 1.4 1.6 1.8]\n"
          ]
        }
      ],
      "source": [
        "v = np.arange(1, 2, 0.2)\n",
        "print(v)"
      ]
    },
    {
      "cell_type": "code",
      "execution_count": null,
      "metadata": {
        "colab": {
          "base_uri": "https://localhost:8080/"
        },
        "id": "5T46oOUovXcb",
        "outputId": "5b11318f-7f9a-4da7-ffe7-1fbb0c671422"
      },
      "outputs": [
        {
          "name": "stdout",
          "output_type": "stream",
          "text": [
            "[1]\n"
          ]
        }
      ],
      "source": [
        "v = np.arange(1, 2, 20)\n",
        "print(v)"
      ]
    },
    {
      "cell_type": "code",
      "execution_count": null,
      "metadata": {
        "colab": {
          "base_uri": "https://localhost:8080/"
        },
        "id": "Znnh9ehV9A4w",
        "outputId": "39f61f04-9a3d-4caa-9d22-f7380ba8b787"
      },
      "outputs": [
        {
          "name": "stdout",
          "output_type": "stream",
          "text": [
            "[1.  1.1 1.2 1.3 1.4 1.5 1.6 1.7 1.8 1.9 2. ]\n"
          ]
        }
      ],
      "source": [
        "v = np.linspace(1, 2, num=11)\n",
        "print(v)"
      ]
    },
    {
      "cell_type": "code",
      "execution_count": null,
      "metadata": {
        "colab": {
          "base_uri": "https://localhost:8080/"
        },
        "id": "i2rHyoPn-Ssp",
        "outputId": "a1740d06-2c14-4cf8-c276-d7bc32a4ac3d"
      },
      "outputs": [
        {
          "data": {
            "text/plain": [
              "array([[1., 1., 1.],\n",
              "       [1., 1., 1.],\n",
              "       [1., 1., 1.],\n",
              "       [1., 1., 1.],\n",
              "       [1., 1., 1.]])"
            ]
          },
          "execution_count": 14,
          "metadata": {},
          "output_type": "execute_result"
        }
      ],
      "source": [
        "np.ones((5, 3))"
      ]
    },
    {
      "cell_type": "code",
      "execution_count": null,
      "metadata": {
        "colab": {
          "base_uri": "https://localhost:8080/"
        },
        "id": "KzZPQ3X9J2Gy",
        "outputId": "6605dbd9-e394-4eb0-ec1c-a720703078a3"
      },
      "outputs": [
        {
          "data": {
            "text/plain": [
              "array([[1, 1],\n",
              "       [1, 1],\n",
              "       [1, 1]])"
            ]
          },
          "execution_count": 15,
          "metadata": {},
          "output_type": "execute_result"
        }
      ],
      "source": [
        "A = np.array([[1, 2],\n",
        "              [3, 4],\n",
        "              [5, 6]])\n",
        "np.ones_like(A)"
      ]
    },
    {
      "cell_type": "code",
      "execution_count": null,
      "metadata": {
        "colab": {
          "base_uri": "https://localhost:8080/"
        },
        "id": "_BrWrPUh-_by",
        "outputId": "aad1a3f3-8ebc-4ce0-9aad-b2bc267827ed"
      },
      "outputs": [
        {
          "data": {
            "text/plain": [
              "array([[0., 0., 0.]])"
            ]
          },
          "execution_count": 16,
          "metadata": {},
          "output_type": "execute_result"
        }
      ],
      "source": [
        "np.zeros((1, 3))"
      ]
    },
    {
      "cell_type": "code",
      "execution_count": null,
      "metadata": {
        "colab": {
          "base_uri": "https://localhost:8080/"
        },
        "id": "Mpmj2p2yJoBC",
        "outputId": "94f1f94a-2c38-4da2-9781-35c84078cbfc"
      },
      "outputs": [
        {
          "data": {
            "text/plain": [
              "array([[0, 0],\n",
              "       [0, 0],\n",
              "       [0, 0]])"
            ]
          },
          "execution_count": 17,
          "metadata": {},
          "output_type": "execute_result"
        }
      ],
      "source": [
        "A = np.array([[1, 2],\n",
        "              [3, 4],\n",
        "              [5, 6]])\n",
        "np.zeros_like(A)"
      ]
    },
    {
      "cell_type": "code",
      "execution_count": null,
      "metadata": {
        "colab": {
          "base_uri": "https://localhost:8080/"
        },
        "id": "ql5ro4tmPhu1",
        "outputId": "37f21c24-50cf-4b70-cceb-97effb5ec0fd"
      },
      "outputs": [
        {
          "data": {
            "text/plain": [
              "array([[3.14, 3.14, 3.14, 3.14, 3.14],\n",
              "       [3.14, 3.14, 3.14, 3.14, 3.14],\n",
              "       [3.14, 3.14, 3.14, 3.14, 3.14]])"
            ]
          },
          "execution_count": 21,
          "metadata": {},
          "output_type": "execute_result"
        }
      ],
      "source": [
        "# Create a 3x5 array filled with 3.14\n",
        "np.full((3, 5), 3.14)"
      ]
    },
    {
      "cell_type": "code",
      "execution_count": null,
      "metadata": {
        "colab": {
          "base_uri": "https://localhost:8080/"
        },
        "id": "XK0bArL5xbuD",
        "outputId": "b42cd707-f03f-41fa-a89f-06bef0b18828"
      },
      "outputs": [
        {
          "data": {
            "text/plain": [
              "array([[3.14, 3.14, 3.14, 3.14, 3.14],\n",
              "       [3.14, 3.14, 3.14, 3.14, 3.14],\n",
              "       [3.14, 3.14, 3.14, 3.14, 3.14]])"
            ]
          },
          "execution_count": 20,
          "metadata": {},
          "output_type": "execute_result"
        }
      ],
      "source": [
        "3.14*np.ones((3, 5))"
      ]
    },
    {
      "cell_type": "code",
      "execution_count": null,
      "metadata": {
        "colab": {
          "base_uri": "https://localhost:8080/"
        },
        "id": "rf6XhmwgPmNC",
        "outputId": "0b2f09aa-3945-4b0e-c8c8-b5141304ab86"
      },
      "outputs": [
        {
          "data": {
            "text/plain": [
              "array([[1, 2],\n",
              "       [3, 4],\n",
              "       [5, 6]])"
            ]
          },
          "execution_count": 19,
          "metadata": {},
          "output_type": "execute_result"
        }
      ],
      "source": [
        "# Create an uninitialized array of three integers\n",
        "# The values will be whatever happens to already exist at that memory location\n",
        "# np.empty((3, 4))\n",
        "np.empty_like(A)"
      ]
    },
    {
      "attachments": {},
      "cell_type": "markdown",
      "metadata": {
        "id": "KHqeanWW-Nn5"
      },
      "source": [
        "## Random vectors and matrix"
      ]
    },
    {
      "cell_type": "code",
      "execution_count": null,
      "metadata": {
        "colab": {
          "base_uri": "https://localhost:8080/"
        },
        "id": "lfXLf0m3_JN5",
        "outputId": "f720c1a6-30a6-4535-cdc8-67d596ed61d7"
      },
      "outputs": [
        {
          "data": {
            "text/plain": [
              "array([[0.21673887, 0.19585201, 0.02554563],\n",
              "       [0.00182486, 0.00699516, 0.15991789],\n",
              "       [0.47969276, 0.92581631, 0.26434457]])"
            ]
          },
          "execution_count": 22,
          "metadata": {},
          "output_type": "execute_result"
        }
      ],
      "source": [
        "# Create a 3x3 array of uniformly distributed\n",
        "# random values between 0 and 1\n",
        "np.random.random((3, 3))"
      ]
    },
    {
      "cell_type": "code",
      "execution_count": null,
      "metadata": {
        "colab": {
          "base_uri": "https://localhost:8080/"
        },
        "id": "V5so-fhi_VPB",
        "outputId": "242fb837-66aa-4f5e-a902-7fd05d31d36a"
      },
      "outputs": [
        {
          "data": {
            "text/plain": [
              "array([[4, 8, 3],\n",
              "       [1, 8, 8],\n",
              "       [2, 2, 9]])"
            ]
          },
          "execution_count": 23,
          "metadata": {},
          "output_type": "execute_result"
        }
      ],
      "source": [
        "# Create a 3x3 array of random integers in the interval [0, 10)\n",
        "np.random.randint(0, 10, (3, 3))"
      ]
    },
    {
      "cell_type": "code",
      "execution_count": 19,
      "metadata": {
        "colab": {
          "base_uri": "https://localhost:8080/"
        },
        "id": "nd_vuzBt_YEi",
        "outputId": "d5ce3b22-8779-46f5-8690-30ce10596df6"
      },
      "outputs": [
        {
          "data": {
            "text/plain": [
              "array([[ 1.19682895,  1.74197959,  0.29164828],\n",
              "       [ 1.05945627, -4.03393031,  0.04303689],\n",
              "       [-0.39896154,  2.68574004,  1.44130534]])"
            ]
          },
          "execution_count": 19,
          "metadata": {},
          "output_type": "execute_result"
        }
      ],
      "source": [
        "# Create a 3x3 array of normally distributed random values\n",
        "# with mean 0 and standard deviation 1\n",
        "a = np.random.normal(0, 1, (3, 3))\n",
        "a"
      ]
    },
    {
      "cell_type": "code",
      "execution_count": 20,
      "metadata": {},
      "outputs": [
        {
          "name": "stdout",
          "output_type": "stream",
          "text": [
            "0.4474559458519618 1.8134259828726933\n"
          ]
        }
      ],
      "source": [
        "print(np.mean(a),np.var(a))"
      ]
    },
    {
      "attachments": {},
      "cell_type": "markdown",
      "metadata": {
        "id": "MaZiX-V-_hF1"
      },
      "source": [
        "## identity matrix"
      ]
    },
    {
      "cell_type": "code",
      "execution_count": null,
      "metadata": {},
      "outputs": [],
      "source": []
    },
    {
      "cell_type": "code",
      "execution_count": null,
      "metadata": {
        "colab": {
          "base_uri": "https://localhost:8080/"
        },
        "id": "fPzRwmgw_tkc",
        "outputId": "fa8e47f2-04f1-48b4-bb02-a263c6b99c9f"
      },
      "outputs": [
        {
          "data": {
            "text/plain": [
              "array([[1., 0., 0., 0., 0., 0., 0., 0., 0., 0.],\n",
              "       [0., 1., 0., 0., 0., 0., 0., 0., 0., 0.],\n",
              "       [0., 0., 1., 0., 0., 0., 0., 0., 0., 0.],\n",
              "       [0., 0., 0., 1., 0., 0., 0., 0., 0., 0.],\n",
              "       [0., 0., 0., 0., 1., 0., 0., 0., 0., 0.],\n",
              "       [0., 0., 0., 0., 0., 1., 0., 0., 0., 0.],\n",
              "       [0., 0., 0., 0., 0., 0., 1., 0., 0., 0.],\n",
              "       [0., 0., 0., 0., 0., 0., 0., 1., 0., 0.],\n",
              "       [0., 0., 0., 0., 0., 0., 0., 0., 1., 0.],\n",
              "       [0., 0., 0., 0., 0., 0., 0., 0., 0., 1.]])"
            ]
          },
          "execution_count": 26,
          "metadata": {},
          "output_type": "execute_result"
        }
      ],
      "source": [
        "np.eye(10)"
      ]
    },
    {
      "attachments": {},
      "cell_type": "markdown",
      "metadata": {
        "id": "nQihoI95QG_g"
      },
      "source": [
        "## NumPy Standard Data Types\n",
        "\n",
        "NumPy arrays contain values of a single type, so it is important to have detailed knowledge of those types and their limitations.\n",
        "Because NumPy is built in C, the types will be familiar to users of C, Fortran, and other related languages.\n",
        "\n",
        "The standard NumPy data types are listed in the following table.\n",
        "Note that when constructing an array, they can be specified using a string:\n",
        "\n",
        "```python\n",
        "np.zeros(10, dtype='int16')\n",
        "```\n",
        "\n",
        "Or using the associated NumPy object:\n",
        "\n",
        "```python\n",
        "np.zeros(10, dtype=np.int16)\n",
        "```"
      ]
    },
    {
      "attachments": {},
      "cell_type": "markdown",
      "metadata": {
        "id": "yNBGbE5XQApA"
      },
      "source": [
        "| Data type\t    | Description |\n",
        "|---------------|-------------|\n",
        "| ``bool_``     | Boolean (True or False) stored as a byte |\n",
        "| ``int_``      | Default integer type (same as C ``long``; normally either ``int64`` or ``int32``)|\n",
        "| ``intc``      | Identical to C ``int`` (normally ``int32`` or ``int64``)|\n",
        "| ``intp``      | Integer used for indexing (same as C ``ssize_t``; normally either ``int32`` or ``int64``)|\n",
        "| ``int8``      | Byte (-128 to 127)|\n",
        "| ``int16``     | Integer (-32768 to 32767)|\n",
        "| ``int32``     | Integer (-2147483648 to 2147483647)|\n",
        "| ``int64``     | Integer (-9223372036854775808 to 9223372036854775807)|\n",
        "| ``uint8``     | Unsigned integer (0 to 255)|\n",
        "| ``uint16``    | Unsigned integer (0 to 65535)|\n",
        "| ``uint32``    | Unsigned integer (0 to 4294967295)|\n",
        "| ``uint64``    | Unsigned integer (0 to 18446744073709551615)|\n",
        "| ``float_``    | Shorthand for ``float64``.|\n",
        "| ``float16``   | Half precision float: sign bit, 5 bits exponent, 10 bits mantissa|\n",
        "| ``float32``   | Single precision float: sign bit, 8 bits exponent, 23 bits mantissa|\n",
        "| ``float64``   | Double precision float: sign bit, 11 bits exponent, 52 bits mantissa|\n",
        "| ``complex_``  | Shorthand for ``complex128``.|\n",
        "| ``complex64`` | Complex number, represented by two 32-bit floats|\n",
        "| ``complex128``| Complex number, represented by two 64-bit floats|"
      ]
    },
    {
      "attachments": {},
      "cell_type": "markdown",
      "metadata": {
        "id": "QYGg2DKaQLPP"
      },
      "source": [
        "## NumPy Array Attributes"
      ]
    },
    {
      "attachments": {},
      "cell_type": "markdown",
      "metadata": {
        "id": "CcOGGCX9QLPQ"
      },
      "source": [
        "First let's discuss some useful array attributes.\n",
        "We'll start by defining three random arrays, a one-dimensional, two-dimensional, and three-dimensional array.\n",
        "We'll use NumPy's random number generator, which we will *seed* with a set value in order to ensure that the same random arrays are generated each time this code is run:"
      ]
    },
    {
      "cell_type": "code",
      "execution_count": null,
      "metadata": {
        "id": "_o_T79AiQLPQ"
      },
      "outputs": [],
      "source": [
        "np.random.seed(0)  # seed for reproducibility\n",
        "\n",
        "x1 = np.random.randint(10, size=6)  # One-dimensional array\n",
        "x2 = np.random.randint(10, size=(3, 4))  # Two-dimensional array\n",
        "x3 = np.random.randint(10, size=(3, 4, 5))  # Three-dimensional array"
      ]
    },
    {
      "attachments": {},
      "cell_type": "markdown",
      "metadata": {
        "id": "b5of_rg9QLPQ"
      },
      "source": [
        "Each array has attributes ``ndim`` (the number of dimensions), ``shape`` (the size of each dimension), and ``size`` (the total size of the array):"
      ]
    },
    {
      "cell_type": "code",
      "execution_count": null,
      "metadata": {
        "colab": {
          "base_uri": "https://localhost:8080/"
        },
        "id": "XhHbgHY5QLPQ",
        "outputId": "89f25baf-6070-4997-d22f-10de70446161"
      },
      "outputs": [
        {
          "name": "stdout",
          "output_type": "stream",
          "text": [
            "x3 ndim:  3\n",
            "x3 shape: (3, 4, 5)\n",
            "x3 size:  60\n"
          ]
        }
      ],
      "source": [
        "print(\"x3 ndim: \", x3.ndim)\n",
        "print(\"x3 shape:\", x3.shape)\n",
        "print(\"x3 size: \", x3.size)"
      ]
    },
    {
      "attachments": {},
      "cell_type": "markdown",
      "metadata": {
        "id": "OIeCFN6mQLPR"
      },
      "source": [
        "Another useful attribute is the ``dtype``, the data type of the array:"
      ]
    },
    {
      "cell_type": "code",
      "execution_count": null,
      "metadata": {
        "colab": {
          "base_uri": "https://localhost:8080/"
        },
        "id": "sID50lPeQLPR",
        "outputId": "ca50f38b-7998-462a-8c8f-f29c078345e4"
      },
      "outputs": [
        {
          "name": "stdout",
          "output_type": "stream",
          "text": [
            "dtype: int64\n"
          ]
        }
      ],
      "source": [
        "print(\"dtype:\", x3.dtype)"
      ]
    },
    {
      "attachments": {},
      "cell_type": "markdown",
      "metadata": {
        "id": "qmCzzWRCQLPR"
      },
      "source": [
        "Other attributes include ``itemsize``, which lists the size (in bytes) of each array element, and ``nbytes``, which lists the total size (in bytes) of the array:"
      ]
    },
    {
      "cell_type": "code",
      "execution_count": null,
      "metadata": {
        "colab": {
          "base_uri": "https://localhost:8080/"
        },
        "id": "MYQTD7XxQLPR",
        "outputId": "5ca5f0c2-5f5b-4b38-dff8-7b7cd0fd6bcc"
      },
      "outputs": [
        {
          "name": "stdout",
          "output_type": "stream",
          "text": [
            "itemsize: 8 bytes\n",
            "nbytes: 480 bytes\n"
          ]
        }
      ],
      "source": [
        "print(\"itemsize:\", x3.itemsize, \"bytes\")\n",
        "print(\"nbytes:\", x3.nbytes, \"bytes\")"
      ]
    },
    {
      "attachments": {},
      "cell_type": "markdown",
      "metadata": {
        "id": "32bxwEYAQLPS"
      },
      "source": [
        "In general, we expect that ``nbytes`` is equal to ``itemsize`` times ``size``."
      ]
    },
    {
      "attachments": {},
      "cell_type": "markdown",
      "metadata": {
        "id": "YOX-G9NNQLPS"
      },
      "source": [
        "## Array Indexing: Accessing Single Elements"
      ]
    },
    {
      "attachments": {},
      "cell_type": "markdown",
      "metadata": {
        "id": "Rw0ZJTQFQLPS"
      },
      "source": [
        "If you are familiar with Python's standard list indexing, indexing in NumPy will feel quite familiar.\n",
        "In a one-dimensional array, the $i^{th}$ value (counting from zero) can be accessed by specifying the desired index in square brackets, just as with Python lists:"
      ]
    },
    {
      "cell_type": "code",
      "execution_count": null,
      "metadata": {
        "colab": {
          "base_uri": "https://localhost:8080/"
        },
        "id": "G5q8xUBQQLPS",
        "outputId": "71a8279c-3a8c-4fad-a0e0-2080edc1d50a"
      },
      "outputs": [
        {
          "data": {
            "text/plain": [
              "array([5, 0, 3, 3, 7, 9])"
            ]
          },
          "execution_count": 31,
          "metadata": {},
          "output_type": "execute_result"
        }
      ],
      "source": [
        "x1"
      ]
    },
    {
      "cell_type": "code",
      "execution_count": null,
      "metadata": {
        "colab": {
          "base_uri": "https://localhost:8080/"
        },
        "id": "ZRuIUR_rQLPS",
        "outputId": "a0d98b08-461d-4b1a-a84a-ac1863d23881"
      },
      "outputs": [
        {
          "data": {
            "text/plain": [
              "5"
            ]
          },
          "execution_count": 32,
          "metadata": {},
          "output_type": "execute_result"
        }
      ],
      "source": [
        "x1[0]"
      ]
    },
    {
      "cell_type": "code",
      "execution_count": null,
      "metadata": {
        "colab": {
          "base_uri": "https://localhost:8080/"
        },
        "id": "0TFbs4AnQLPS",
        "outputId": "d74c8679-e558-4f85-937a-30f3a7b1ba72"
      },
      "outputs": [
        {
          "data": {
            "text/plain": [
              "7"
            ]
          },
          "execution_count": 33,
          "metadata": {},
          "output_type": "execute_result"
        }
      ],
      "source": [
        "x1[4]"
      ]
    },
    {
      "attachments": {},
      "cell_type": "markdown",
      "metadata": {
        "id": "qSX4RBFDQLPS"
      },
      "source": [
        "To index from the end of the array, you can use negative indices:"
      ]
    },
    {
      "cell_type": "code",
      "execution_count": null,
      "metadata": {
        "colab": {
          "base_uri": "https://localhost:8080/"
        },
        "id": "xYIeGJk7QLPS",
        "outputId": "59d35bfb-1348-4206-ca0e-10eb4ee5400b"
      },
      "outputs": [
        {
          "data": {
            "text/plain": [
              "9"
            ]
          },
          "execution_count": 34,
          "metadata": {},
          "output_type": "execute_result"
        }
      ],
      "source": [
        "x1[-1]"
      ]
    },
    {
      "cell_type": "code",
      "execution_count": null,
      "metadata": {
        "colab": {
          "base_uri": "https://localhost:8080/"
        },
        "id": "EWyKoZhhQLPS",
        "outputId": "15c7e666-7aee-48c1-aa7d-6a639f899489"
      },
      "outputs": [
        {
          "data": {
            "text/plain": [
              "7"
            ]
          },
          "execution_count": 35,
          "metadata": {},
          "output_type": "execute_result"
        }
      ],
      "source": [
        "x1[-2]"
      ]
    },
    {
      "attachments": {},
      "cell_type": "markdown",
      "metadata": {
        "id": "tkhEZOZjQLPT"
      },
      "source": [
        "In a multi-dimensional array, items can be accessed using a comma-separated tuple of indices:"
      ]
    },
    {
      "cell_type": "code",
      "execution_count": null,
      "metadata": {
        "colab": {
          "base_uri": "https://localhost:8080/"
        },
        "id": "b1THZCrEQLPT",
        "outputId": "f7607cbf-c60d-4812-9c4e-ece0382140be"
      },
      "outputs": [
        {
          "data": {
            "text/plain": [
              "array([[3, 5, 2, 4],\n",
              "       [7, 6, 8, 8],\n",
              "       [1, 6, 7, 7]])"
            ]
          },
          "execution_count": 36,
          "metadata": {},
          "output_type": "execute_result"
        }
      ],
      "source": [
        "x2"
      ]
    },
    {
      "cell_type": "code",
      "execution_count": null,
      "metadata": {
        "colab": {
          "base_uri": "https://localhost:8080/"
        },
        "id": "qShFggugQLPT",
        "outputId": "8a75cb68-79bf-4c74-8190-e16f111b4788"
      },
      "outputs": [
        {
          "data": {
            "text/plain": [
              "3"
            ]
          },
          "execution_count": 38,
          "metadata": {},
          "output_type": "execute_result"
        }
      ],
      "source": [
        "x2[0, 0]"
      ]
    },
    {
      "cell_type": "code",
      "execution_count": null,
      "metadata": {
        "colab": {
          "base_uri": "https://localhost:8080/"
        },
        "id": "6lDE_nG5QLPT",
        "outputId": "f20f9867-e8ca-47da-fbe7-742882873a4e"
      },
      "outputs": [
        {
          "data": {
            "text/plain": [
              "1"
            ]
          },
          "execution_count": 39,
          "metadata": {},
          "output_type": "execute_result"
        }
      ],
      "source": [
        "x2[2, 0]"
      ]
    },
    {
      "cell_type": "code",
      "execution_count": null,
      "metadata": {
        "colab": {
          "base_uri": "https://localhost:8080/"
        },
        "id": "pO77rLItQLPT",
        "outputId": "1be8f578-357f-41b9-f3ea-3ad16ad78aa6"
      },
      "outputs": [
        {
          "data": {
            "text/plain": [
              "7"
            ]
          },
          "execution_count": 40,
          "metadata": {},
          "output_type": "execute_result"
        }
      ],
      "source": [
        "x2[2, -1]"
      ]
    },
    {
      "attachments": {},
      "cell_type": "markdown",
      "metadata": {
        "id": "1yOs1HEzQLPT"
      },
      "source": [
        "Values can also be modified using any of the above index notation:"
      ]
    },
    {
      "cell_type": "code",
      "execution_count": null,
      "metadata": {
        "colab": {
          "base_uri": "https://localhost:8080/"
        },
        "id": "0R6ft4YoQLPT",
        "outputId": "5d5d1f15-67d0-4168-e4b9-dda7cc09c1fb"
      },
      "outputs": [
        {
          "data": {
            "text/plain": [
              "array([[12,  5,  2,  4],\n",
              "       [ 7,  6,  8,  8],\n",
              "       [ 1,  6,  7,  7]])"
            ]
          },
          "execution_count": 41,
          "metadata": {},
          "output_type": "execute_result"
        }
      ],
      "source": [
        "x2[0, 0] = 12\n",
        "x2"
      ]
    },
    {
      "attachments": {},
      "cell_type": "markdown",
      "metadata": {
        "id": "ZELtAHJuQLPU"
      },
      "source": [
        "Keep in mind that, unlike Python lists, NumPy arrays have a fixed type.\n",
        "This means, for example, that if you attempt to insert a floating-point value to an integer array, the value will be silently truncated. Don't be caught unaware by this behavior!"
      ]
    },
    {
      "cell_type": "code",
      "execution_count": null,
      "metadata": {
        "colab": {
          "base_uri": "https://localhost:8080/"
        },
        "id": "GyJYQcmEQLPU",
        "outputId": "1807c881-e00e-4481-fce1-2b220cf6abd1"
      },
      "outputs": [
        {
          "data": {
            "text/plain": [
              "array([3, 0, 3, 3, 7, 9])"
            ]
          },
          "execution_count": 42,
          "metadata": {},
          "output_type": "execute_result"
        }
      ],
      "source": [
        "x1[0] = 3.14159  # this will be truncated!\n",
        "x1"
      ]
    },
    {
      "attachments": {},
      "cell_type": "markdown",
      "metadata": {
        "id": "NQ0aTY8YQLPU"
      },
      "source": [
        "## Array Slicing: Accessing Subarrays"
      ]
    },
    {
      "attachments": {},
      "cell_type": "markdown",
      "metadata": {
        "id": "CFqYEOC_QLPU"
      },
      "source": [
        "Just as we can use square brackets to access individual array elements, we can also use them to access subarrays with the *slice* notation, marked by the colon (``:``) character.\n",
        "The NumPy slicing syntax follows that of the standard Python list; to access a slice of an array ``x``, use this:\n",
        "``` python\n",
        "x[start:stop:step]\n",
        "```\n",
        "If any of these are unspecified, they default to the values ``start=0``, ``stop=``*``size of dimension``*, ``step=1``.\n",
        "We'll take a look at accessing sub-arrays in one dimension and in multiple dimensions."
      ]
    },
    {
      "attachments": {},
      "cell_type": "markdown",
      "metadata": {
        "id": "eMCT-wn-QLPU"
      },
      "source": [
        "### One-dimensional subarrays"
      ]
    },
    {
      "cell_type": "code",
      "execution_count": 2,
      "metadata": {
        "colab": {
          "base_uri": "https://localhost:8080/"
        },
        "id": "hVwGg1fGQLPU",
        "outputId": "7c4fbf72-5012-41ad-d338-af7346d9e8d0"
      },
      "outputs": [
        {
          "data": {
            "text/plain": [
              "array([0, 1, 2, 3, 4, 5, 6, 7, 8, 9])"
            ]
          },
          "execution_count": 2,
          "metadata": {},
          "output_type": "execute_result"
        }
      ],
      "source": [
        "import numpy as np\n",
        "x = np.arange(10)\n",
        "x"
      ]
    },
    {
      "cell_type": "code",
      "execution_count": null,
      "metadata": {
        "colab": {
          "base_uri": "https://localhost:8080/"
        },
        "id": "0AnjRNsjsdSB",
        "outputId": "6e23c0fe-4c6e-4cdd-e232-66ad7d29780a"
      },
      "outputs": [
        {
          "data": {
            "text/plain": [
              "8"
            ]
          },
          "execution_count": 10,
          "metadata": {},
          "output_type": "execute_result"
        }
      ],
      "source": [
        "x[-2]"
      ]
    },
    {
      "cell_type": "code",
      "execution_count": null,
      "metadata": {
        "colab": {
          "base_uri": "https://localhost:8080/"
        },
        "id": "_jwTfG6RQLPU",
        "outputId": "24153acc-7f3f-45a4-b04e-8326b0524889"
      },
      "outputs": [
        {
          "data": {
            "text/plain": [
              "array([0, 1, 2, 3, 4])"
            ]
          },
          "execution_count": 11,
          "metadata": {},
          "output_type": "execute_result"
        }
      ],
      "source": [
        "x[:5]  # first five elements"
      ]
    },
    {
      "cell_type": "code",
      "execution_count": null,
      "metadata": {
        "colab": {
          "base_uri": "https://localhost:8080/"
        },
        "id": "sD4r-bwhQLPU",
        "outputId": "2d6cc44c-ea53-492e-ef1b-9e13fe3850af"
      },
      "outputs": [
        {
          "data": {
            "text/plain": [
              "array([5, 6, 7, 8, 9])"
            ]
          },
          "execution_count": 46,
          "metadata": {},
          "output_type": "execute_result"
        }
      ],
      "source": [
        "x[5:]  # elements after index 5"
      ]
    },
    {
      "cell_type": "code",
      "execution_count": null,
      "metadata": {
        "colab": {
          "base_uri": "https://localhost:8080/"
        },
        "id": "A9SHh0icQLPU",
        "outputId": "62678fd5-bc56-49cb-a166-91de65a5ee19"
      },
      "outputs": [
        {
          "data": {
            "text/plain": [
              "array([4, 5, 6])"
            ]
          },
          "execution_count": 47,
          "metadata": {},
          "output_type": "execute_result"
        }
      ],
      "source": [
        "x[4:7]  # middle sub-array"
      ]
    },
    {
      "cell_type": "code",
      "execution_count": null,
      "metadata": {
        "colab": {
          "base_uri": "https://localhost:8080/"
        },
        "id": "6OgDZfQSQLPU",
        "outputId": "e994c3da-4d21-4763-d1cb-ce32609eceff"
      },
      "outputs": [
        {
          "data": {
            "text/plain": [
              "array([0, 2, 4, 6, 8])"
            ]
          },
          "execution_count": 12,
          "metadata": {},
          "output_type": "execute_result"
        }
      ],
      "source": [
        "x[::2]  # every other element"
      ]
    },
    {
      "cell_type": "code",
      "execution_count": null,
      "metadata": {
        "colab": {
          "base_uri": "https://localhost:8080/"
        },
        "id": "Ix_i29PaQLPV",
        "outputId": "b848e161-1cde-449b-a26d-81b97047cd7d"
      },
      "outputs": [
        {
          "data": {
            "text/plain": [
              "array([1, 3, 5, 7, 9])"
            ]
          },
          "execution_count": 49,
          "metadata": {},
          "output_type": "execute_result"
        }
      ],
      "source": [
        "x[1::2]  # every other element, starting at index 1"
      ]
    },
    {
      "attachments": {},
      "cell_type": "markdown",
      "metadata": {
        "id": "XS2wSTaQQLPV"
      },
      "source": [
        "A potentially confusing case is when the ``step`` value is negative.\n",
        "In this case, the defaults for ``start`` and ``stop`` are swapped.\n",
        "This becomes a convenient way to reverse an array:"
      ]
    },
    {
      "cell_type": "code",
      "execution_count": null,
      "metadata": {
        "colab": {
          "base_uri": "https://localhost:8080/"
        },
        "id": "Cj1dw8NvQLPV",
        "outputId": "02bf8c60-9256-45d7-80aa-cfb2bff01ed0"
      },
      "outputs": [
        {
          "data": {
            "text/plain": [
              "array([9, 8, 7, 6, 5, 4, 3, 2, 1, 0])"
            ]
          },
          "execution_count": 13,
          "metadata": {},
          "output_type": "execute_result"
        }
      ],
      "source": [
        "x[::-1]  # all elements, reversed"
      ]
    },
    {
      "cell_type": "code",
      "execution_count": null,
      "metadata": {
        "colab": {
          "base_uri": "https://localhost:8080/"
        },
        "id": "qlmkwlt6QLPV",
        "outputId": "1f6228f4-7ca0-4f1f-e6f5-be89badb00ce"
      },
      "outputs": [
        {
          "data": {
            "text/plain": [
              "array([5, 3, 1])"
            ]
          },
          "execution_count": 45,
          "metadata": {},
          "output_type": "execute_result"
        }
      ],
      "source": [
        "x[5::-2]  # reversed every other from index 5"
      ]
    },
    {
      "attachments": {},
      "cell_type": "markdown",
      "metadata": {
        "id": "UmAjEpVNEzvZ"
      },
      "source": [
        "<font color='orange'><b>Quiz: what is the output of the following code?</b></font>"
      ]
    },
    {
      "cell_type": "code",
      "execution_count": null,
      "metadata": {
        "colab": {
          "base_uri": "https://localhost:8080/"
        },
        "id": "IXnGT2PJFy4j",
        "outputId": "5b78de65-765c-4961-d8ef-d465150b8dd7"
      },
      "outputs": [
        {
          "name": "stdout",
          "output_type": "stream",
          "text": [
            "[0 1 2 3 4 5 6 7 8 9]\n",
            "[2 3]\n",
            "[1 1]\n",
            "[0 1 1 1 4 5 6 7 8 9]\n",
            "5\n"
          ]
        }
      ],
      "source": [
        "A = np.arange(10)\n",
        "print(A)\n",
        "B = A[2:4]\n",
        "print(B)\n",
        "B[:] = 1\n",
        "print(B)\n",
        "C = A[2] + A[4]\n",
        "print(A)\n",
        "print(C)"
      ]
    },
    {
      "attachments": {},
      "cell_type": "markdown",
      "metadata": {
        "id": "l2ViRYX_QLPV"
      },
      "source": [
        "### Multi-dimensional subarrays\n",
        "\n",
        "Multi-dimensional slices work in the same way, with multiple slices separated by commas.\n",
        "For example:"
      ]
    },
    {
      "cell_type": "code",
      "execution_count": null,
      "metadata": {
        "colab": {
          "base_uri": "https://localhost:8080/"
        },
        "id": "5z4J965qQLPV",
        "outputId": "dbabcba2-87b0-4034-cbcb-bd1cf0581507"
      },
      "outputs": [
        {
          "data": {
            "text/plain": [
              "array([[12,  5,  2,  4],\n",
              "       [ 7,  6,  8,  8],\n",
              "       [ 1,  6,  7,  7]])"
            ]
          },
          "execution_count": 55,
          "metadata": {},
          "output_type": "execute_result"
        }
      ],
      "source": [
        "x2"
      ]
    },
    {
      "cell_type": "code",
      "execution_count": null,
      "metadata": {
        "colab": {
          "base_uri": "https://localhost:8080/"
        },
        "id": "sYJ1KlYwQLPV",
        "outputId": "d7fbe83c-7645-4e86-fb54-c105d65d2791"
      },
      "outputs": [
        {
          "data": {
            "text/plain": [
              "array([[12,  5,  2],\n",
              "       [ 7,  6,  8]])"
            ]
          },
          "execution_count": 56,
          "metadata": {},
          "output_type": "execute_result"
        }
      ],
      "source": [
        "x2[:2, :3]  # two rows, three columns"
      ]
    },
    {
      "cell_type": "code",
      "execution_count": null,
      "metadata": {
        "colab": {
          "base_uri": "https://localhost:8080/"
        },
        "id": "QYVY9gv2QLPW",
        "outputId": "d6e97574-627e-4781-bebb-12c4aff2adb4"
      },
      "outputs": [
        {
          "data": {
            "text/plain": [
              "array([[12,  2],\n",
              "       [ 7,  8],\n",
              "       [ 1,  7]])"
            ]
          },
          "execution_count": 57,
          "metadata": {},
          "output_type": "execute_result"
        }
      ],
      "source": [
        "x2[:3, ::2]"
      ]
    },
    {
      "attachments": {},
      "cell_type": "markdown",
      "metadata": {
        "id": "vGFiLkVdQLPW"
      },
      "source": [
        "Finally, subarray dimensions can even be reversed together:"
      ]
    },
    {
      "cell_type": "code",
      "execution_count": null,
      "metadata": {
        "colab": {
          "base_uri": "https://localhost:8080/"
        },
        "id": "HzeO75mzQLPW",
        "outputId": "84fdea4c-4246-4255-a877-ba9be74ebc44"
      },
      "outputs": [
        {
          "data": {
            "text/plain": [
              "array([[ 7,  7,  6,  1],\n",
              "       [ 8,  8,  6,  7],\n",
              "       [ 4,  2,  5, 12]])"
            ]
          },
          "execution_count": 59,
          "metadata": {},
          "output_type": "execute_result"
        }
      ],
      "source": [
        "x2[::-1, ::-1]"
      ]
    },
    {
      "cell_type": "code",
      "execution_count": null,
      "metadata": {
        "colab": {
          "base_uri": "https://localhost:8080/"
        },
        "id": "Pu1s7iAg3E_t",
        "outputId": "10bdb2fa-79f7-4edc-ce4d-0109c6acd055"
      },
      "outputs": [
        {
          "data": {
            "text/plain": [
              "array([[12,  7,  1],\n",
              "       [ 5,  6,  6],\n",
              "       [ 2,  8,  7],\n",
              "       [ 4,  8,  7]])"
            ]
          },
          "execution_count": 58,
          "metadata": {},
          "output_type": "execute_result"
        }
      ],
      "source": [
        "x2.T"
      ]
    },
    {
      "attachments": {},
      "cell_type": "markdown",
      "metadata": {
        "id": "-DLZt-N9QLPW"
      },
      "source": [
        "#### Accessing array rows and columns\n",
        "\n",
        "One commonly needed routine is accessing of single rows or columns of an array.\n",
        "This can be done by combining indexing and slicing, using an empty slice marked by a single colon (``:``):"
      ]
    },
    {
      "cell_type": "code",
      "execution_count": null,
      "metadata": {
        "colab": {
          "base_uri": "https://localhost:8080/"
        },
        "id": "FUCOwSGQQLPW",
        "outputId": "3b501adc-8e6e-40e7-d432-6a3ff866e1fe"
      },
      "outputs": [
        {
          "name": "stdout",
          "output_type": "stream",
          "text": [
            "[12  7  1]\n"
          ]
        }
      ],
      "source": [
        "print(x2[:, 0])  # first column of x2"
      ]
    },
    {
      "cell_type": "code",
      "execution_count": null,
      "metadata": {
        "colab": {
          "base_uri": "https://localhost:8080/"
        },
        "id": "qgf5YxJxQLPW",
        "outputId": "ba9c8b10-94cd-4c5b-832e-b80e63de2a19"
      },
      "outputs": [
        {
          "name": "stdout",
          "output_type": "stream",
          "text": [
            "[12  5  2  4]\n"
          ]
        }
      ],
      "source": [
        "print(x2[0, :])  # first row of x2"
      ]
    },
    {
      "attachments": {},
      "cell_type": "markdown",
      "metadata": {
        "id": "EC4N9ZMsQLPW"
      },
      "source": [
        "In the case of row access, the empty slice can be omitted for a more compact syntax:"
      ]
    },
    {
      "cell_type": "code",
      "execution_count": null,
      "metadata": {
        "colab": {
          "base_uri": "https://localhost:8080/"
        },
        "id": "lROt2WonQLPW",
        "outputId": "69b3ddde-eb88-416a-ad53-52c3b279332c"
      },
      "outputs": [
        {
          "name": "stdout",
          "output_type": "stream",
          "text": [
            "[12  5  2  4]\n"
          ]
        }
      ],
      "source": [
        "print(x2[0])  # equivalent to x2[0, :]"
      ]
    },
    {
      "attachments": {},
      "cell_type": "markdown",
      "metadata": {
        "id": "QgyMfonvQLPW"
      },
      "source": [
        "### Subarrays as no-copy views\n",
        "\n",
        "One important–and extremely useful–thing to know about array slices is that they return *views* rather than *copies* of the array data.\n",
        "This is one area in which NumPy array slicing differs from Python list slicing: in lists, slices will be copies.\n",
        "Consider our two-dimensional array from before:"
      ]
    },
    {
      "cell_type": "code",
      "execution_count": null,
      "metadata": {
        "colab": {
          "base_uri": "https://localhost:8080/"
        },
        "id": "u24RksKtQLPX",
        "outputId": "ac684a1f-71ef-4a79-8de7-ad47c6c8ea0e"
      },
      "outputs": [
        {
          "name": "stdout",
          "output_type": "stream",
          "text": [
            "[[12  5  2  4]\n",
            " [ 7  6  8  8]\n",
            " [ 1  6  7  7]]\n"
          ]
        }
      ],
      "source": [
        "print(x2)"
      ]
    },
    {
      "attachments": {},
      "cell_type": "markdown",
      "metadata": {
        "id": "_D1yHFjWQLPX"
      },
      "source": [
        "Let's extract a $2 \\times 2$ subarray from this:"
      ]
    },
    {
      "cell_type": "code",
      "execution_count": null,
      "metadata": {
        "colab": {
          "base_uri": "https://localhost:8080/"
        },
        "id": "LPozG9P6QLPX",
        "outputId": "a82a76dc-ab20-4598-a489-6a962648fc36"
      },
      "outputs": [
        {
          "name": "stdout",
          "output_type": "stream",
          "text": [
            "[[12  5]\n",
            " [ 7  6]]\n"
          ]
        }
      ],
      "source": [
        "x2_sub = x2[:2, :2]\n",
        "print(x2_sub)"
      ]
    },
    {
      "attachments": {},
      "cell_type": "markdown",
      "metadata": {
        "id": "I-Z1COMKQLPX"
      },
      "source": [
        "Now if we modify this subarray, we'll see that the original array is changed! Observe:"
      ]
    },
    {
      "cell_type": "code",
      "execution_count": null,
      "metadata": {
        "colab": {
          "base_uri": "https://localhost:8080/"
        },
        "id": "IwZz3TY4QLPX",
        "outputId": "f3740634-7100-473e-8611-e5edd95a9d36"
      },
      "outputs": [
        {
          "name": "stdout",
          "output_type": "stream",
          "text": [
            "[[99  5]\n",
            " [ 7  6]]\n"
          ]
        }
      ],
      "source": [
        "x2_sub[0, 0] = 99\n",
        "print(x2_sub)"
      ]
    },
    {
      "cell_type": "code",
      "execution_count": null,
      "metadata": {
        "colab": {
          "base_uri": "https://localhost:8080/"
        },
        "id": "S9Z2gx27QLPX",
        "outputId": "71ecc1ea-ec9a-4fc5-818c-8b6e50c19dbe"
      },
      "outputs": [
        {
          "name": "stdout",
          "output_type": "stream",
          "text": [
            "[[99  5  2  4]\n",
            " [ 7  6  8  8]\n",
            " [ 1  6  7  7]]\n"
          ]
        }
      ],
      "source": [
        "print(x2)"
      ]
    },
    {
      "attachments": {},
      "cell_type": "markdown",
      "metadata": {
        "id": "z1wC2-0TQLPY"
      },
      "source": [
        "This default behavior is actually quite useful: it means that when we work with large datasets, we can access and process pieces of these datasets without the need to copy the underlying data buffer."
      ]
    },
    {
      "attachments": {},
      "cell_type": "markdown",
      "metadata": {
        "id": "gXNAlQOQQLPY"
      },
      "source": [
        "### Creating copies of arrays\n",
        "\n",
        "Despite the nice features of array views, it is sometimes useful to instead explicitly copy the data within an array or a subarray. This can be most easily done with the ``copy()`` method:"
      ]
    },
    {
      "cell_type": "code",
      "execution_count": null,
      "metadata": {
        "colab": {
          "base_uri": "https://localhost:8080/"
        },
        "id": "6QeX4v6XQLPY",
        "outputId": "8fa44de9-daf3-4e9b-957f-37f358a544ce"
      },
      "outputs": [
        {
          "name": "stdout",
          "output_type": "stream",
          "text": [
            "[[99  5]\n",
            " [ 7  6]]\n"
          ]
        }
      ],
      "source": [
        "x2_sub_copy = x2[:2, :2].copy()\n",
        "print(x2_sub_copy)"
      ]
    },
    {
      "attachments": {},
      "cell_type": "markdown",
      "metadata": {
        "id": "BMY5rnljQLPY"
      },
      "source": [
        "If we now modify this subarray, the original array is not touched:"
      ]
    },
    {
      "cell_type": "code",
      "execution_count": null,
      "metadata": {
        "colab": {
          "base_uri": "https://localhost:8080/"
        },
        "id": "VEjpl5zSQLPY",
        "outputId": "175b7a9f-dfab-42d9-9d08-90eda4a57108"
      },
      "outputs": [
        {
          "name": "stdout",
          "output_type": "stream",
          "text": [
            "[[42  5]\n",
            " [ 7  6]]\n"
          ]
        }
      ],
      "source": [
        "x2_sub_copy[0, 0] = 42\n",
        "print(x2_sub_copy)"
      ]
    },
    {
      "cell_type": "code",
      "execution_count": null,
      "metadata": {
        "colab": {
          "base_uri": "https://localhost:8080/"
        },
        "id": "QpXnHnmkQLPY",
        "outputId": "07842a76-0e01-48d8-e340-f8f060b1d1c4"
      },
      "outputs": [
        {
          "name": "stdout",
          "output_type": "stream",
          "text": [
            "[[99  5  2  4]\n",
            " [ 7  6  8  8]\n",
            " [ 1  6  7  7]]\n"
          ]
        }
      ],
      "source": [
        "print(x2)"
      ]
    },
    {
      "attachments": {},
      "cell_type": "markdown",
      "metadata": {
        "id": "aoAucttNQLPY"
      },
      "source": [
        "## Reshaping of Arrays\n",
        "\n",
        "Another useful type of operation is reshaping of arrays.\n",
        "The most flexible way of doing this is with the ``reshape`` method.\n",
        "For example, if you want to put the numbers 1 through 9 in a $3 \\times 3$ grid, you can do the following:"
      ]
    },
    {
      "cell_type": "code",
      "execution_count": null,
      "metadata": {
        "colab": {
          "base_uri": "https://localhost:8080/"
        },
        "id": "24vJlhO9QLPY",
        "outputId": "6c6bb5f1-b236-4c7b-eb30-8df5c53ec59b"
      },
      "outputs": [
        {
          "name": "stdout",
          "output_type": "stream",
          "text": [
            "[[1 2 3]\n",
            " [4 5 6]\n",
            " [7 8 9]]\n"
          ]
        }
      ],
      "source": [
        "grid = np.arange(1, 10).reshape((3, 3))\n",
        "print(grid)"
      ]
    },
    {
      "attachments": {},
      "cell_type": "markdown",
      "metadata": {
        "id": "h8_dme9MQLPZ"
      },
      "source": [
        "Note that for this to work, the size of the initial array must match the size of the reshaped array.\n",
        "Where possible, the ``reshape`` method will use a no-copy view of the initial array, but with non-contiguous memory buffers this is not always the case.\n",
        "\n",
        "Another common reshaping pattern is the conversion of a one-dimensional array into a two-dimensional row or column matrix.\n",
        "This can be done with the ``reshape`` method, or more easily done by making use of the ``newaxis`` keyword within a slice operation:"
      ]
    },
    {
      "cell_type": "code",
      "execution_count": null,
      "metadata": {
        "colab": {
          "base_uri": "https://localhost:8080/"
        },
        "id": "aOb_0MI0QLPZ",
        "outputId": "e73c279f-af4c-4deb-9d0f-65b3899ffe0a"
      },
      "outputs": [
        {
          "name": "stdout",
          "output_type": "stream",
          "text": [
            "(3,)\n"
          ]
        },
        {
          "data": {
            "text/plain": [
              "array([[1, 2, 3]])"
            ]
          },
          "execution_count": 18,
          "metadata": {},
          "output_type": "execute_result"
        }
      ],
      "source": [
        "x = np.array([1, 2, 3])\n",
        "print(x.shape)\n",
        "# row vector via reshape\n",
        "x.reshape((1, 3))"
      ]
    },
    {
      "cell_type": "code",
      "execution_count": null,
      "metadata": {
        "colab": {
          "base_uri": "https://localhost:8080/"
        },
        "id": "QpbNXFr2QLPZ",
        "outputId": "ae1d395a-2a0e-4f3e-b3a3-5c755d00b4c6"
      },
      "outputs": [
        {
          "data": {
            "text/plain": [
              "array([[1, 2, 3]])"
            ]
          },
          "execution_count": 19,
          "metadata": {},
          "output_type": "execute_result"
        }
      ],
      "source": [
        "# row vector via newaxis\n",
        "x[np.newaxis, :]"
      ]
    },
    {
      "cell_type": "code",
      "execution_count": null,
      "metadata": {
        "colab": {
          "base_uri": "https://localhost:8080/"
        },
        "id": "UTwtoOC_4cRZ",
        "outputId": "bd8114b4-f9f3-4fa9-fd53-5768dac89bd5"
      },
      "outputs": [
        {
          "data": {
            "text/plain": [
              "array([1, 2, 3])"
            ]
          },
          "execution_count": 20,
          "metadata": {},
          "output_type": "execute_result"
        }
      ],
      "source": [
        "x"
      ]
    },
    {
      "cell_type": "code",
      "execution_count": null,
      "metadata": {
        "colab": {
          "base_uri": "https://localhost:8080/"
        },
        "id": "xBajYZ0DvTqc",
        "outputId": "9d1e0248-63e2-4af3-feec-09904285fdbb"
      },
      "outputs": [
        {
          "data": {
            "text/plain": [
              "(3,)"
            ]
          },
          "execution_count": 21,
          "metadata": {},
          "output_type": "execute_result"
        }
      ],
      "source": [
        "x.shape"
      ]
    },
    {
      "cell_type": "code",
      "execution_count": null,
      "metadata": {
        "id": "dWGMq_y14XWf"
      },
      "outputs": [],
      "source": [
        "x = np.expand_dims(x, axis=1)"
      ]
    },
    {
      "cell_type": "code",
      "execution_count": null,
      "metadata": {
        "colab": {
          "base_uri": "https://localhost:8080/"
        },
        "id": "zb1kWGGZvf9i",
        "outputId": "1a4886f1-013b-4ce6-8290-ef2ee5014045"
      },
      "outputs": [
        {
          "data": {
            "text/plain": [
              "(3, 1)"
            ]
          },
          "execution_count": 23,
          "metadata": {},
          "output_type": "execute_result"
        }
      ],
      "source": [
        "x.shape"
      ]
    },
    {
      "cell_type": "code",
      "execution_count": null,
      "metadata": {
        "id": "VKXhMUeXvifh"
      },
      "outputs": [],
      "source": [
        "x = np.expand_dims(x, axis=2)"
      ]
    },
    {
      "cell_type": "code",
      "execution_count": null,
      "metadata": {
        "colab": {
          "base_uri": "https://localhost:8080/"
        },
        "id": "2zq2ctsZvmpm",
        "outputId": "8b3c3503-6cf5-4f18-a490-39ba6f30de5c"
      },
      "outputs": [
        {
          "data": {
            "text/plain": [
              "(3, 1, 1)"
            ]
          },
          "execution_count": 25,
          "metadata": {},
          "output_type": "execute_result"
        }
      ],
      "source": [
        "x.shape"
      ]
    },
    {
      "cell_type": "code",
      "execution_count": null,
      "metadata": {
        "colab": {
          "base_uri": "https://localhost:8080/"
        },
        "id": "vCNxIdd4QLPZ",
        "outputId": "23ba70c4-4cdd-4bfb-f7d1-57095dadbc73"
      },
      "outputs": [
        {
          "data": {
            "text/plain": [
              "array([[1],\n",
              "       [2],\n",
              "       [3]])"
            ]
          },
          "execution_count": 80,
          "metadata": {},
          "output_type": "execute_result"
        }
      ],
      "source": [
        "# column vector via reshape\n",
        "x.reshape((3, 1))"
      ]
    },
    {
      "cell_type": "code",
      "execution_count": null,
      "metadata": {
        "colab": {
          "base_uri": "https://localhost:8080/"
        },
        "id": "GDqS90CeQLPZ",
        "outputId": "64ba08cf-c5d6-4c25-8f22-f61ded792052"
      },
      "outputs": [
        {
          "data": {
            "text/plain": [
              "array([[1],\n",
              "       [2],\n",
              "       [3]])"
            ]
          },
          "execution_count": 81,
          "metadata": {},
          "output_type": "execute_result"
        }
      ],
      "source": [
        "# column vector via newaxis\n",
        "x[:, np.newaxis]"
      ]
    },
    {
      "attachments": {},
      "cell_type": "markdown",
      "metadata": {
        "id": "KNyDocVSQLPZ"
      },
      "source": [
        "We will see this type of transformation often throughout the remainder of the book."
      ]
    },
    {
      "attachments": {},
      "cell_type": "markdown",
      "metadata": {
        "id": "Shyxr6deQLPZ"
      },
      "source": [
        "## Array Concatenation and Splitting\n",
        "\n",
        "All of the preceding routines worked on single arrays. It's also possible to combine multiple arrays into one, and to conversely split a single array into multiple arrays. We'll take a look at those operations here."
      ]
    },
    {
      "attachments": {},
      "cell_type": "markdown",
      "metadata": {
        "id": "BZaLZmxoQLPZ"
      },
      "source": [
        "### Concatenation of arrays\n",
        "\n",
        "Concatenation, or joining of two arrays in NumPy, is primarily accomplished using the routines ``np.concatenate``, ``np.vstack``, and ``np.hstack``.\n",
        "``np.concatenate`` takes a tuple or list of arrays as its first argument, as we can see here:"
      ]
    },
    {
      "cell_type": "code",
      "execution_count": null,
      "metadata": {
        "colab": {
          "base_uri": "https://localhost:8080/"
        },
        "id": "sLqYkEO5QLPa",
        "outputId": "91a4e853-757e-4ca5-e9f4-df03c0cc146d"
      },
      "outputs": [
        {
          "data": {
            "text/plain": [
              "array([1, 2, 3, 3, 2, 1])"
            ]
          },
          "execution_count": 82,
          "metadata": {},
          "output_type": "execute_result"
        }
      ],
      "source": [
        "x = np.array([1, 2, 3])\n",
        "y = np.array([3, 2, 1])\n",
        "np.concatenate([x, y])"
      ]
    },
    {
      "attachments": {},
      "cell_type": "markdown",
      "metadata": {
        "id": "FHX5nOEwQLPc"
      },
      "source": [
        "You can also concatenate more than two arrays at once:"
      ]
    },
    {
      "cell_type": "code",
      "execution_count": null,
      "metadata": {
        "colab": {
          "base_uri": "https://localhost:8080/"
        },
        "id": "nYdYXKpTQLPc",
        "outputId": "8361d64f-f88b-4913-bac1-e737e41a7f87"
      },
      "outputs": [
        {
          "name": "stdout",
          "output_type": "stream",
          "text": [
            "[ 1  2  3  3  2  1 99 99 99]\n"
          ]
        }
      ],
      "source": [
        "z = [99, 99, 99]\n",
        "print(np.concatenate([x, y, z]))"
      ]
    },
    {
      "attachments": {},
      "cell_type": "markdown",
      "metadata": {
        "id": "QBdYAez1QLPc"
      },
      "source": [
        "It can also be used for two-dimensional arrays:"
      ]
    },
    {
      "cell_type": "code",
      "execution_count": null,
      "metadata": {
        "id": "37B19VikQLPc"
      },
      "outputs": [],
      "source": [
        "grid = np.array([[1, 2, 3],\n",
        "                 [4, 5, 6]])"
      ]
    },
    {
      "cell_type": "code",
      "execution_count": null,
      "metadata": {
        "colab": {
          "base_uri": "https://localhost:8080/"
        },
        "id": "qvyjFmj2QLPc",
        "outputId": "132bfc50-6c95-48e6-ed38-9205df9ab3d0"
      },
      "outputs": [
        {
          "data": {
            "text/plain": [
              "array([[1, 2, 3],\n",
              "       [4, 5, 6],\n",
              "       [1, 2, 3],\n",
              "       [4, 5, 6]])"
            ]
          },
          "execution_count": 85,
          "metadata": {},
          "output_type": "execute_result"
        }
      ],
      "source": [
        "# concatenate along the first axis\n",
        "np.concatenate([grid, grid])"
      ]
    },
    {
      "cell_type": "code",
      "execution_count": null,
      "metadata": {
        "colab": {
          "base_uri": "https://localhost:8080/",
          "height": 211
        },
        "id": "dHn5a3AjQLPc",
        "outputId": "ec70e1dc-650e-4e31-ba93-dc235027fb3f"
      },
      "outputs": [
        {
          "ename": "ValueError",
          "evalue": "all the input array dimensions except for the concatenation axis must match exactly, but along dimension 1, the array at index 0 has size 3 and the array at index 1 has size 5",
          "output_type": "error",
          "traceback": [
            "\u001b[0;31m---------------------------------------------------------------------------\u001b[0m",
            "\u001b[0;31mValueError\u001b[0m                                Traceback (most recent call last)",
            "\u001b[0;32m<ipython-input-26-1618dbde9a40>\u001b[0m in \u001b[0;36m<cell line: 3>\u001b[0;34m()\u001b[0m\n\u001b[1;32m      1\u001b[0m \u001b[0;31m# concatenate along the second axis (zero-indexed)\u001b[0m\u001b[0;34m\u001b[0m\u001b[0;34m\u001b[0m\u001b[0m\n\u001b[1;32m      2\u001b[0m \u001b[0mz\u001b[0m \u001b[0;34m=\u001b[0m \u001b[0mnp\u001b[0m\u001b[0;34m.\u001b[0m\u001b[0mzeros\u001b[0m\u001b[0;34m(\u001b[0m\u001b[0;34m(\u001b[0m\u001b[0;36m4\u001b[0m\u001b[0;34m,\u001b[0m \u001b[0;36m5\u001b[0m\u001b[0;34m)\u001b[0m\u001b[0;34m)\u001b[0m\u001b[0;34m\u001b[0m\u001b[0;34m\u001b[0m\u001b[0m\n\u001b[0;32m----> 3\u001b[0;31m \u001b[0mnp\u001b[0m\u001b[0;34m.\u001b[0m\u001b[0mconcatenate\u001b[0m\u001b[0;34m(\u001b[0m\u001b[0;34m[\u001b[0m\u001b[0mgrid\u001b[0m\u001b[0;34m,\u001b[0m \u001b[0mz\u001b[0m\u001b[0;34m]\u001b[0m\u001b[0;34m,\u001b[0m \u001b[0maxis\u001b[0m\u001b[0;34m=\u001b[0m\u001b[0;36m0\u001b[0m\u001b[0;34m)\u001b[0m\u001b[0;34m\u001b[0m\u001b[0;34m\u001b[0m\u001b[0m\n\u001b[0m",
            "\u001b[0;31mValueError\u001b[0m: all the input array dimensions except for the concatenation axis must match exactly, but along dimension 1, the array at index 0 has size 3 and the array at index 1 has size 5"
          ]
        }
      ],
      "source": [
        "# concatenate along the second axis (zero-indexed)\n",
        "z = np.zeros((4, 5))\n",
        "np.concatenate([grid, z], axis=0)"
      ]
    },
    {
      "attachments": {},
      "cell_type": "markdown",
      "metadata": {
        "id": "Ggrr730jQLPc"
      },
      "source": [
        "For working with arrays of mixed dimensions, it can be clearer to use the ``np.vstack`` (vertical stack) and ``np.hstack`` (horizontal stack) functions:"
      ]
    },
    {
      "cell_type": "code",
      "execution_count": null,
      "metadata": {
        "colab": {
          "base_uri": "https://localhost:8080/"
        },
        "id": "pJP4bSXHQLPc",
        "outputId": "16a766c0-ec30-4549-e34f-383ca9943f0f"
      },
      "outputs": [
        {
          "data": {
            "text/plain": [
              "array([[1, 2, 3],\n",
              "       [9, 8, 7],\n",
              "       [6, 5, 4]])"
            ]
          },
          "execution_count": 28,
          "metadata": {},
          "output_type": "execute_result"
        }
      ],
      "source": [
        "x = np.array([1, 2, 3])\n",
        "grid = np.array([[9, 8, 7],\n",
        "                 [6, 5, 4]])\n",
        "\n",
        "# vertically stack the arrays\n",
        "np.vstack([x, grid])"
      ]
    },
    {
      "cell_type": "code",
      "execution_count": null,
      "metadata": {
        "colab": {
          "base_uri": "https://localhost:8080/",
          "height": 349
        },
        "id": "dnZ6Nc43QLPd",
        "outputId": "9da62d6c-9133-4fdb-86b5-fdf506a908ca"
      },
      "outputs": [
        {
          "ename": "ValueError",
          "evalue": "all the input array dimensions except for the concatenation axis must match exactly, but along dimension 0, the array at index 0 has size 2 and the array at index 1 has size 3",
          "output_type": "error",
          "traceback": [
            "\u001b[0;31m---------------------------------------------------------------------------\u001b[0m",
            "\u001b[0;31mValueError\u001b[0m                                Traceback (most recent call last)",
            "\u001b[0;32m<ipython-input-29-d8d872f271ca>\u001b[0m in \u001b[0;36m<cell line: 4>\u001b[0;34m()\u001b[0m\n\u001b[1;32m      2\u001b[0m y = np.array([[99],\n\u001b[1;32m      3\u001b[0m               [99], [99]])\n\u001b[0;32m----> 4\u001b[0;31m \u001b[0mnp\u001b[0m\u001b[0;34m.\u001b[0m\u001b[0mhstack\u001b[0m\u001b[0;34m(\u001b[0m\u001b[0;34m[\u001b[0m\u001b[0mgrid\u001b[0m\u001b[0;34m,\u001b[0m \u001b[0my\u001b[0m\u001b[0;34m]\u001b[0m\u001b[0;34m)\u001b[0m\u001b[0;34m\u001b[0m\u001b[0;34m\u001b[0m\u001b[0m\n\u001b[0m",
            "\u001b[0;32m/usr/local/lib/python3.10/dist-packages/numpy/core/shape_base.py\u001b[0m in \u001b[0;36mhstack\u001b[0;34m(tup, dtype, casting)\u001b[0m\n\u001b[1;32m    357\u001b[0m         \u001b[0;32mreturn\u001b[0m \u001b[0m_nx\u001b[0m\u001b[0;34m.\u001b[0m\u001b[0mconcatenate\u001b[0m\u001b[0;34m(\u001b[0m\u001b[0marrs\u001b[0m\u001b[0;34m,\u001b[0m \u001b[0;36m0\u001b[0m\u001b[0;34m,\u001b[0m \u001b[0mdtype\u001b[0m\u001b[0;34m=\u001b[0m\u001b[0mdtype\u001b[0m\u001b[0;34m,\u001b[0m \u001b[0mcasting\u001b[0m\u001b[0;34m=\u001b[0m\u001b[0mcasting\u001b[0m\u001b[0;34m)\u001b[0m\u001b[0;34m\u001b[0m\u001b[0;34m\u001b[0m\u001b[0m\n\u001b[1;32m    358\u001b[0m     \u001b[0;32melse\u001b[0m\u001b[0;34m:\u001b[0m\u001b[0;34m\u001b[0m\u001b[0;34m\u001b[0m\u001b[0m\n\u001b[0;32m--> 359\u001b[0;31m         \u001b[0;32mreturn\u001b[0m \u001b[0m_nx\u001b[0m\u001b[0;34m.\u001b[0m\u001b[0mconcatenate\u001b[0m\u001b[0;34m(\u001b[0m\u001b[0marrs\u001b[0m\u001b[0;34m,\u001b[0m \u001b[0;36m1\u001b[0m\u001b[0;34m,\u001b[0m \u001b[0mdtype\u001b[0m\u001b[0;34m=\u001b[0m\u001b[0mdtype\u001b[0m\u001b[0;34m,\u001b[0m \u001b[0mcasting\u001b[0m\u001b[0;34m=\u001b[0m\u001b[0mcasting\u001b[0m\u001b[0;34m)\u001b[0m\u001b[0;34m\u001b[0m\u001b[0;34m\u001b[0m\u001b[0m\n\u001b[0m\u001b[1;32m    360\u001b[0m \u001b[0;34m\u001b[0m\u001b[0m\n\u001b[1;32m    361\u001b[0m \u001b[0;34m\u001b[0m\u001b[0m\n",
            "\u001b[0;31mValueError\u001b[0m: all the input array dimensions except for the concatenation axis must match exactly, but along dimension 0, the array at index 0 has size 2 and the array at index 1 has size 3"
          ]
        }
      ],
      "source": [
        "# horizontally stack the arrays\n",
        "y = np.array([[99],\n",
        "              [99], [99]])\n",
        "np.hstack([grid, y])"
      ]
    },
    {
      "attachments": {},
      "cell_type": "markdown",
      "metadata": {
        "id": "C83HB-wEQLPd"
      },
      "source": [
        "Similary, ``np.dstack`` will stack arrays along the third axis."
      ]
    },
    {
      "attachments": {},
      "cell_type": "markdown",
      "metadata": {
        "id": "Mbt77DIeQLPd"
      },
      "source": [
        "### Splitting of arrays\n",
        "\n",
        "The opposite of concatenation is splitting, which is implemented by the functions ``np.split``, ``np.hsplit``, and ``np.vsplit``.  For each of these, we can pass a list of indices giving the split points:"
      ]
    },
    {
      "cell_type": "code",
      "execution_count": null,
      "metadata": {
        "colab": {
          "base_uri": "https://localhost:8080/"
        },
        "id": "fXaY9igIQLPd",
        "outputId": "ca332331-c0e4-4589-e51b-2aa8b1dc9823"
      },
      "outputs": [
        {
          "name": "stdout",
          "output_type": "stream",
          "text": [
            "[1 2 3] [99 99] [3 2 1]\n"
          ]
        }
      ],
      "source": [
        "x = [1, 2, 3, 99, 99, 3, 2, 1]\n",
        "x1, x2, x3 = np.split(x, [3, 5])\n",
        "print(x1, x2, x3)"
      ]
    },
    {
      "cell_type": "code",
      "execution_count": 4,
      "metadata": {},
      "outputs": [
        {
          "data": {
            "text/plain": [
              "array([[[1, 2],\n",
              "        [2, 3],\n",
              "        [3, 4]]])"
            ]
          },
          "execution_count": 4,
          "metadata": {},
          "output_type": "execute_result"
        }
      ],
      "source": [
        "a = np.array([1,2,3])\n",
        "b = np.array([2,3,4])\n",
        "np.dstack((a,b))"
      ]
    },
    {
      "attachments": {},
      "cell_type": "markdown",
      "metadata": {
        "id": "7PZLeg7KQLPd"
      },
      "source": [
        "Notice that *N* split-points, leads to *N + 1* subarrays.\n",
        "The related functions ``np.hsplit`` and ``np.vsplit`` are similar:"
      ]
    },
    {
      "cell_type": "code",
      "execution_count": null,
      "metadata": {
        "colab": {
          "base_uri": "https://localhost:8080/"
        },
        "id": "bPbdErNxQLPd",
        "outputId": "9f7db929-cfd1-4742-8158-5fc40be5fff8"
      },
      "outputs": [
        {
          "data": {
            "text/plain": [
              "array([[ 0,  1,  2,  3],\n",
              "       [ 4,  5,  6,  7],\n",
              "       [ 8,  9, 10, 11],\n",
              "       [12, 13, 14, 15]])"
            ]
          },
          "execution_count": 30,
          "metadata": {},
          "output_type": "execute_result"
        }
      ],
      "source": [
        "grid = np.arange(16).reshape((4, 4))\n",
        "grid"
      ]
    },
    {
      "cell_type": "code",
      "execution_count": null,
      "metadata": {
        "colab": {
          "base_uri": "https://localhost:8080/"
        },
        "id": "MPFd8kEXQLPd",
        "outputId": "bf526c64-ef9b-4177-96cf-2470bba862a4"
      },
      "outputs": [
        {
          "name": "stdout",
          "output_type": "stream",
          "text": [
            "[[0 1 2 3]\n",
            " [4 5 6 7]]\n",
            "[[ 8  9 10 11]\n",
            " [12 13 14 15]]\n"
          ]
        }
      ],
      "source": [
        "upper, lower = np.vsplit(grid, [2])\n",
        "print(upper)\n",
        "print(lower)"
      ]
    },
    {
      "cell_type": "code",
      "execution_count": null,
      "metadata": {
        "colab": {
          "base_uri": "https://localhost:8080/"
        },
        "id": "iOU_6XlwKlxz",
        "outputId": "68d7e061-7f39-4739-bea2-d53c4732b4c4"
      },
      "outputs": [
        {
          "name": "stdout",
          "output_type": "stream",
          "text": [
            "[[0 1 2 3]\n",
            " [4 5 6 7]]\n",
            "[[ 8  9 10 11]\n",
            " [12 13 14 15]]\n"
          ]
        }
      ],
      "source": [
        "upper, lower = np.vsplit(grid, [2])\n",
        "print(upper)\n",
        "print(lower)"
      ]
    },
    {
      "cell_type": "code",
      "execution_count": null,
      "metadata": {
        "colab": {
          "base_uri": "https://localhost:8080/"
        },
        "id": "8y90kL-bQLPd",
        "outputId": "9caba296-11a0-47fe-a476-1168ec63b9a5"
      },
      "outputs": [
        {
          "name": "stdout",
          "output_type": "stream",
          "text": [
            "[[ 0  1]\n",
            " [ 4  5]\n",
            " [ 8  9]\n",
            " [12 13]]\n",
            "[[ 2  3]\n",
            " [ 6  7]\n",
            " [10 11]\n",
            " [14 15]]\n"
          ]
        }
      ],
      "source": [
        "left, right = np.hsplit(grid, [2])\n",
        "print(left)\n",
        "print(right)"
      ]
    },
    {
      "attachments": {},
      "cell_type": "markdown",
      "metadata": {
        "id": "nqIOHBj1RiXk"
      },
      "source": [
        "### Array arithmetic\n",
        "\n",
        "NumPy's ufuncs feel very natural to use because they make use of Python's native arithmetic operators.\n",
        "The standard addition, subtraction, multiplication, and division can all be used:"
      ]
    },
    {
      "cell_type": "code",
      "execution_count": null,
      "metadata": {
        "colab": {
          "base_uri": "https://localhost:8080/"
        },
        "id": "JNMSkNJIRiXk",
        "outputId": "190c8e17-c723-4a2f-e29a-7941507e887c"
      },
      "outputs": [
        {
          "name": "stdout",
          "output_type": "stream",
          "text": [
            "x     = [0 1 2 3]\n",
            "x + 5 = [5 6 7 8]\n",
            "x - 5 = [-5 -4 -3 -2]\n",
            "x * 2 = [0 2 4 6]\n",
            "x / 2 = [0.  0.5 1.  1.5]\n",
            "x // 2 = [0 0 1 1]\n"
          ]
        }
      ],
      "source": [
        "x = np.arange(4)\n",
        "print(\"x     =\", x)\n",
        "print(\"x + 5 =\", x + 5)\n",
        "print(\"x - 5 =\", x - 5)\n",
        "print(\"x * 2 =\", x * 2)\n",
        "print(\"x / 2 =\", x / 2)\n",
        "print(\"x // 2 =\", x // 2)  # floor division"
      ]
    },
    {
      "attachments": {},
      "cell_type": "markdown",
      "metadata": {
        "id": "We1DWUv2RiXk"
      },
      "source": [
        "There is also a unary ufunc for negation, and a ``**`` operator for exponentiation, and a ``%`` operator for modulus:"
      ]
    },
    {
      "cell_type": "code",
      "execution_count": null,
      "metadata": {
        "colab": {
          "base_uri": "https://localhost:8080/"
        },
        "id": "pVVbFqyuRiXl",
        "outputId": "192ef154-2195-4009-9df5-c87e230d3572"
      },
      "outputs": [
        {
          "name": "stdout",
          "output_type": "stream",
          "text": [
            "-x     =  [ 0 -1 -2 -3]\n",
            "x ** 2 =  [0 1 4 9]\n",
            "x % 2  =  [0 1 0 1]\n"
          ]
        }
      ],
      "source": [
        "print(\"-x     = \", -x)\n",
        "print(\"x ** 2 = \", x ** 2)\n",
        "print(\"x % 2  = \", x % 2)"
      ]
    },
    {
      "attachments": {},
      "cell_type": "markdown",
      "metadata": {
        "id": "MbendyuNRiXl"
      },
      "source": [
        "In addition, these can be strung together however you wish, and the standard order of operations is respected:"
      ]
    },
    {
      "cell_type": "code",
      "execution_count": null,
      "metadata": {
        "colab": {
          "base_uri": "https://localhost:8080/"
        },
        "id": "B1nXwQFNRiXl",
        "outputId": "c78eccc3-43c1-4df2-c875-af83a571bdc2"
      },
      "outputs": [
        {
          "data": {
            "text/plain": [
              "array([-1.  , -2.25, -4.  , -6.25])"
            ]
          },
          "execution_count": 97,
          "metadata": {},
          "output_type": "execute_result"
        }
      ],
      "source": [
        "-(0.5*x + 1) ** 2"
      ]
    },
    {
      "attachments": {},
      "cell_type": "markdown",
      "metadata": {
        "id": "-iBKPb1dRiXl"
      },
      "source": [
        "Each of these arithmetic operations are simply convenient wrappers around specific functions built into NumPy; for example, the ``+`` operator is a wrapper for the ``add`` function:"
      ]
    },
    {
      "cell_type": "code",
      "execution_count": null,
      "metadata": {
        "colab": {
          "base_uri": "https://localhost:8080/"
        },
        "id": "Op-ZqnxsRiXm",
        "outputId": "c90de24b-36d3-49f4-e7ca-2908f29199e4"
      },
      "outputs": [
        {
          "data": {
            "text/plain": [
              "array([2, 3, 4, 5])"
            ]
          },
          "execution_count": 98,
          "metadata": {},
          "output_type": "execute_result"
        }
      ],
      "source": [
        "np.add(x, 2)"
      ]
    },
    {
      "attachments": {},
      "cell_type": "markdown",
      "metadata": {
        "id": "MAVivAR8RiXm"
      },
      "source": [
        "The following table lists the arithmetic operators implemented in NumPy:\n",
        "\n",
        "| Operator\t    | Equivalent ufunc    | Description                           |\n",
        "|---------------|---------------------|---------------------------------------|\n",
        "|``+``          |``np.add``           |Addition (e.g., ``1 + 1 = 2``)         |\n",
        "|``-``          |``np.subtract``      |Subtraction (e.g., ``3 - 2 = 1``)      |\n",
        "|``-``          |``np.negative``      |Unary negation (e.g., ``-2``)          |\n",
        "|``*``          |``np.multiply``      |Multiplication (e.g., ``2 * 3 = 6``)   |\n",
        "|``/``          |``np.divide``        |Division (e.g., ``3 / 2 = 1.5``)       |\n",
        "|``//``         |``np.floor_divide``  |Floor division (e.g., ``3 // 2 = 1``)  |\n",
        "|``**``         |``np.power``         |Exponentiation (e.g., ``2 ** 3 = 8``)  |\n",
        "|``%``          |``np.mod``           |Modulus/remainder (e.g., ``9 % 4 = 1``)|\n",
        "\n",
        "Additionally there are Boolean/bitwise operators."
      ]
    },
    {
      "attachments": {},
      "cell_type": "markdown",
      "metadata": {
        "id": "0ZJXeKqbRiXm"
      },
      "source": [
        "### Absolute value\n",
        "\n",
        "Just as NumPy understands Python's built-in arithmetic operators, it also understands Python's built-in absolute value function:"
      ]
    },
    {
      "cell_type": "code",
      "execution_count": null,
      "metadata": {
        "colab": {
          "base_uri": "https://localhost:8080/"
        },
        "id": "5C2ba-IxRiXm",
        "outputId": "c5b81896-93f3-4358-ed23-e983d9565fba"
      },
      "outputs": [
        {
          "data": {
            "text/plain": [
              "array([2, 1, 0, 1, 2])"
            ]
          },
          "execution_count": 99,
          "metadata": {},
          "output_type": "execute_result"
        }
      ],
      "source": [
        "x = np.array([-2, -1, 0, 1, 2])\n",
        "abs(x)"
      ]
    },
    {
      "attachments": {},
      "cell_type": "markdown",
      "metadata": {
        "id": "e0iFtQf1RiXn"
      },
      "source": [
        "The corresponding NumPy ufunc is ``np.absolute``, which is also available under the alias ``np.abs``:"
      ]
    },
    {
      "cell_type": "code",
      "execution_count": null,
      "metadata": {
        "colab": {
          "base_uri": "https://localhost:8080/"
        },
        "id": "4UeLAVM4RiXn",
        "outputId": "9a991400-d68b-4beb-c6dc-2b085a27b8bb"
      },
      "outputs": [
        {
          "data": {
            "text/plain": [
              "array([2, 1, 0, 1, 2])"
            ]
          },
          "execution_count": 100,
          "metadata": {},
          "output_type": "execute_result"
        }
      ],
      "source": [
        "np.absolute(x)"
      ]
    },
    {
      "cell_type": "code",
      "execution_count": null,
      "metadata": {
        "colab": {
          "base_uri": "https://localhost:8080/"
        },
        "id": "u3tcQd2bRiXn",
        "outputId": "ff552e91-75dd-470c-8c43-acc2bb7122d1"
      },
      "outputs": [
        {
          "data": {
            "text/plain": [
              "array([2, 1, 0, 1, 2])"
            ]
          },
          "execution_count": 101,
          "metadata": {},
          "output_type": "execute_result"
        }
      ],
      "source": [
        "np.abs(x)"
      ]
    },
    {
      "attachments": {},
      "cell_type": "markdown",
      "metadata": {
        "id": "iKuj_HdfRiXn"
      },
      "source": [
        "This ufunc can also handle complex data, in which the absolute value returns the magnitude:"
      ]
    },
    {
      "cell_type": "code",
      "execution_count": null,
      "metadata": {
        "colab": {
          "base_uri": "https://localhost:8080/"
        },
        "id": "yP59JNlYRiXo",
        "outputId": "b64102e0-565b-497a-e320-9d802af2d099"
      },
      "outputs": [
        {
          "data": {
            "text/plain": [
              "array([5., 5., 2., 1.])"
            ]
          },
          "execution_count": 102,
          "metadata": {},
          "output_type": "execute_result"
        }
      ],
      "source": [
        "x = np.array([3 - 4j, 4 - 3j, 2 + 0j, 0 + 1j])\n",
        "np.abs(x)"
      ]
    },
    {
      "attachments": {},
      "cell_type": "markdown",
      "metadata": {
        "id": "1AOKIFtQRiXo"
      },
      "source": [
        "### Trigonometric functions\n",
        "\n",
        "NumPy provides a large number of useful ufuncs, and some of the most useful for the data scientist are the trigonometric functions.\n",
        "We'll start by defining an array of angles:"
      ]
    },
    {
      "cell_type": "code",
      "execution_count": null,
      "metadata": {
        "id": "JlE2jsqURiXo"
      },
      "outputs": [],
      "source": [
        "theta = np.linspace(0, np.pi, 3)"
      ]
    },
    {
      "attachments": {},
      "cell_type": "markdown",
      "metadata": {
        "id": "sCJd4U-GRiXo"
      },
      "source": [
        "Now we can compute some trigonometric functions on these values:"
      ]
    },
    {
      "cell_type": "code",
      "execution_count": null,
      "metadata": {
        "colab": {
          "base_uri": "https://localhost:8080/"
        },
        "id": "1PSc-1FeRiXo",
        "outputId": "9de2b2a1-7ec8-406c-ce88-bef2e895064d"
      },
      "outputs": [
        {
          "name": "stdout",
          "output_type": "stream",
          "text": [
            "theta      =  [0.         1.57079633 3.14159265]\n",
            "sin(theta) =  [0.0000000e+00 1.0000000e+00 1.2246468e-16]\n",
            "cos(theta) =  [ 1.000000e+00  6.123234e-17 -1.000000e+00]\n",
            "tan(theta) =  [ 0.00000000e+00  1.63312394e+16 -1.22464680e-16]\n"
          ]
        }
      ],
      "source": [
        "print(\"theta      = \", theta)\n",
        "print(\"sin(theta) = \", np.sin(theta))\n",
        "print(\"cos(theta) = \", np.cos(theta))\n",
        "print(\"tan(theta) = \", np.tan(theta))"
      ]
    },
    {
      "attachments": {},
      "cell_type": "markdown",
      "metadata": {
        "id": "HlcPXLhLRiXp"
      },
      "source": [
        "The values are computed to within machine precision, which is why values that should be zero do not always hit exactly zero.\n",
        "Inverse trigonometric functions are also available:"
      ]
    },
    {
      "cell_type": "code",
      "execution_count": null,
      "metadata": {
        "colab": {
          "base_uri": "https://localhost:8080/"
        },
        "id": "z5_CYvo2RiXp",
        "outputId": "c2ccd412-229c-4c17-8945-fe653465c2e3"
      },
      "outputs": [
        {
          "name": "stdout",
          "output_type": "stream",
          "text": [
            "x         =  [-1, 0, 1]\n",
            "arcsin(x) =  [-1.57079633  0.          1.57079633]\n",
            "arccos(x) =  [3.14159265 1.57079633 0.        ]\n",
            "arctan(x) =  [-0.78539816  0.          0.78539816]\n"
          ]
        }
      ],
      "source": [
        "x = [-1, 0, 1]\n",
        "print(\"x         = \", x)\n",
        "print(\"arcsin(x) = \", np.arcsin(x))\n",
        "print(\"arccos(x) = \", np.arccos(x))\n",
        "print(\"arctan(x) = \", np.arctan(x))"
      ]
    },
    {
      "attachments": {},
      "cell_type": "markdown",
      "metadata": {
        "id": "92N_M2TnRiXp"
      },
      "source": [
        "### Exponents and logarithms\n",
        "\n",
        "Another common type of operation available in a NumPy ufunc are the exponentials:"
      ]
    },
    {
      "cell_type": "code",
      "execution_count": null,
      "metadata": {
        "colab": {
          "base_uri": "https://localhost:8080/"
        },
        "id": "oQGwsvThRiXq",
        "outputId": "3d56b3bf-3ac7-4bc2-d7ae-e1c159657872"
      },
      "outputs": [
        {
          "name": "stdout",
          "output_type": "stream",
          "text": [
            "x     = [1, 2, 3]\n",
            "e^x   = [ 2.71828183  7.3890561  20.08553692]\n",
            "2^x   = [2. 4. 8.]\n",
            "3^x   = [ 3  9 27]\n"
          ]
        }
      ],
      "source": [
        "x = [1, 2, 3]\n",
        "print(\"x     =\", x)\n",
        "print(\"e^x   =\", np.exp(x))\n",
        "print(\"2^x   =\", np.exp2(x))\n",
        "print(\"3^x   =\", np.power(3, x))"
      ]
    },
    {
      "cell_type": "code",
      "execution_count": null,
      "metadata": {
        "colab": {
          "base_uri": "https://localhost:8080/"
        },
        "id": "q0PijSmR7fef",
        "outputId": "344fc33d-7ab9-4952-f5f1-d5a31138ddd8"
      },
      "outputs": [
        {
          "data": {
            "text/plain": [
              "array([2, 4, 8])"
            ]
          },
          "execution_count": 107,
          "metadata": {},
          "output_type": "execute_result"
        }
      ],
      "source": [
        "x = np.array([1, 2, 3])\n",
        "2 ** x"
      ]
    },
    {
      "attachments": {},
      "cell_type": "markdown",
      "metadata": {
        "id": "CuCIIOrdRiXq"
      },
      "source": [
        "The inverse of the exponentials, the logarithms, are also available.\n",
        "The basic ``np.log`` gives the natural logarithm; if you prefer to compute the base-2 logarithm or the base-10 logarithm, these are available as well:"
      ]
    },
    {
      "cell_type": "code",
      "execution_count": null,
      "metadata": {
        "colab": {
          "base_uri": "https://localhost:8080/"
        },
        "id": "0umSfO2URiXq",
        "outputId": "d590faeb-442e-4e31-df3d-c021bc177930"
      },
      "outputs": [
        {
          "name": "stdout",
          "output_type": "stream",
          "text": [
            "x        = [1, 2, 4, 10]\n",
            "ln(x)    = [0.         0.69314718 1.38629436 2.30258509]\n",
            "log2(x)  = [0.         1.         2.         3.32192809]\n",
            "log10(x) = [0.         0.30103    0.60205999 1.        ]\n"
          ]
        }
      ],
      "source": [
        "x = [1, 2, 4, 10]\n",
        "print(\"x        =\", x)\n",
        "print(\"ln(x)    =\", np.log(x))\n",
        "print(\"log2(x)  =\", np.log2(x))\n",
        "print(\"log10(x) =\", np.log10(x))"
      ]
    },
    {
      "attachments": {},
      "cell_type": "markdown",
      "metadata": {
        "id": "6gZj6nNCRiXr"
      },
      "source": [
        "There are also some specialized versions that are useful for maintaining precision with very small input:"
      ]
    },
    {
      "cell_type": "code",
      "execution_count": null,
      "metadata": {
        "colab": {
          "base_uri": "https://localhost:8080/"
        },
        "id": "4bKVn7ZtRiXr",
        "outputId": "80dd5f6e-91f1-4b67-bc20-7ea0d151879c"
      },
      "outputs": [
        {
          "name": "stdout",
          "output_type": "stream",
          "text": [
            "exp(x) - 1 = [0.         0.0010005  0.01005017 0.10517092]\n",
            "log(1 + x) = [0.         0.0009995  0.00995033 0.09531018]\n",
            "log(1 + x) = [1.         1.0010005  1.01005017 1.10517092]\n"
          ]
        }
      ],
      "source": [
        "x = [0, 0.001, 0.01, 0.1]\n",
        "print(\"exp(x) - 1 =\", np.expm1(x))\n",
        "print(\"log(1 + x) =\", np.log1p(x))\n",
        "print(\"log(1 + x) =\", np.exp(x))"
      ]
    },
    {
      "attachments": {},
      "cell_type": "markdown",
      "metadata": {
        "id": "Z5QP5vY1RiXs"
      },
      "source": [
        "When ``x`` is very small, these functions give more precise values than if the raw ``np.log`` or ``np.exp`` were to be used."
      ]
    },
    {
      "attachments": {},
      "cell_type": "markdown",
      "metadata": {
        "id": "rZqlVrRfScBw"
      },
      "source": [
        "## Summing the Values in an Array\n",
        "\n",
        "As a quick example, consider computing the sum of all values in an array.\n",
        "Python itself can do this using the built-in ``sum`` function:"
      ]
    },
    {
      "cell_type": "code",
      "execution_count": null,
      "metadata": {
        "colab": {
          "base_uri": "https://localhost:8080/"
        },
        "id": "gLgUO9VPScBx",
        "outputId": "5f799f53-e7b0-41d4-e771-f39d1b4580a1"
      },
      "outputs": [
        {
          "data": {
            "text/plain": [
              "52.12818058833704"
            ]
          },
          "execution_count": 110,
          "metadata": {},
          "output_type": "execute_result"
        }
      ],
      "source": [
        "L = np.random.random(100)\n",
        "sum(L)"
      ]
    },
    {
      "attachments": {},
      "cell_type": "markdown",
      "metadata": {
        "id": "MGoVY6vcScBx"
      },
      "source": [
        "The syntax is quite similar to that of NumPy's ``sum`` function, and the result is the same in the simplest case:"
      ]
    },
    {
      "cell_type": "code",
      "execution_count": null,
      "metadata": {
        "colab": {
          "base_uri": "https://localhost:8080/"
        },
        "id": "d0bVCxu0ScBx",
        "outputId": "6795500e-da81-4611-e5de-1aeebdbd581a"
      },
      "outputs": [
        {
          "data": {
            "text/plain": [
              "52.12818058833702"
            ]
          },
          "execution_count": 111,
          "metadata": {},
          "output_type": "execute_result"
        }
      ],
      "source": [
        "np.sum(L)"
      ]
    },
    {
      "attachments": {},
      "cell_type": "markdown",
      "metadata": {
        "id": "a9rkObm9ScBy"
      },
      "source": [
        "## Minimum and Maximum\n",
        "\n",
        "Similarly, Python has built-in ``min`` and ``max`` functions, used to find the minimum value and maximum value of any given array:"
      ]
    },
    {
      "cell_type": "code",
      "execution_count": null,
      "metadata": {
        "colab": {
          "base_uri": "https://localhost:8080/"
        },
        "id": "Jw21urlJScBy",
        "outputId": "f2d1f375-21c5-4c22-a55e-6ff65bfd168f"
      },
      "outputs": [
        {
          "data": {
            "text/plain": [
              "(1.4057692298008462e-06, 0.9999994392723005)"
            ]
          },
          "execution_count": 112,
          "metadata": {},
          "output_type": "execute_result"
        }
      ],
      "source": [
        "big_array = np.random.rand(1000000)\n",
        "min(big_array), max(big_array)"
      ]
    },
    {
      "attachments": {},
      "cell_type": "markdown",
      "metadata": {
        "id": "WmyIQZOcScBy"
      },
      "source": [
        "NumPy's corresponding functions have similar syntax, and again operate much more quickly:"
      ]
    },
    {
      "cell_type": "code",
      "execution_count": null,
      "metadata": {
        "colab": {
          "base_uri": "https://localhost:8080/"
        },
        "id": "kl434YwFScBy",
        "outputId": "1ca29325-1d09-4851-c996-ef706248d963"
      },
      "outputs": [
        {
          "data": {
            "text/plain": [
              "(1.4057692298008462e-06, 0.9999994392723005)"
            ]
          },
          "execution_count": 113,
          "metadata": {},
          "output_type": "execute_result"
        }
      ],
      "source": [
        "np.min(big_array), np.max(big_array)"
      ]
    },
    {
      "attachments": {},
      "cell_type": "markdown",
      "metadata": {
        "id": "sSe_go1uScBy"
      },
      "source": [
        "For ``min``, ``max``, ``sum``, and several other NumPy aggregates, a shorter syntax is to use methods of the array object itself:"
      ]
    },
    {
      "cell_type": "code",
      "execution_count": null,
      "metadata": {
        "colab": {
          "base_uri": "https://localhost:8080/"
        },
        "id": "0niH9PhSScBz",
        "outputId": "6491fd33-84ed-4b10-fa5c-7b56bef46508"
      },
      "outputs": [
        {
          "name": "stdout",
          "output_type": "stream",
          "text": [
            "1.4057692298008462e-06 0.9999994392723005 500202.5348847683 0.5002025348847683\n"
          ]
        }
      ],
      "source": [
        "print(big_array.min(), big_array.max(), big_array.sum(), big_array.mean())"
      ]
    },
    {
      "attachments": {},
      "cell_type": "markdown",
      "metadata": {
        "id": "tyUGCpS9ScBz"
      },
      "source": [
        "Whenever possible, make sure that you are using the NumPy version of these aggregates when operating on NumPy arrays!"
      ]
    },
    {
      "attachments": {},
      "cell_type": "markdown",
      "metadata": {
        "id": "8xyWsvwIScBz"
      },
      "source": [
        "### Multi dimensional aggregates\n",
        "\n",
        "One common type of aggregation operation is an aggregate along a row or column.\n",
        "Say you have some data stored in a two-dimensional array:"
      ]
    },
    {
      "cell_type": "code",
      "execution_count": 5,
      "metadata": {
        "colab": {
          "base_uri": "https://localhost:8080/"
        },
        "id": "fjUIQNZEScBz",
        "outputId": "d1d7610a-3239-42e9-9571-021bfd5269c2"
      },
      "outputs": [
        {
          "name": "stdout",
          "output_type": "stream",
          "text": [
            "[[0.23978173 0.36889636 0.57867704 0.9889778 ]\n",
            " [0.16174456 0.38769392 0.14101117 0.30393699]\n",
            " [0.22604324 0.02639809 0.41502354 0.51592824]]\n"
          ]
        }
      ],
      "source": [
        "M = np.random.random((3, 4))\n",
        "print(M)"
      ]
    },
    {
      "attachments": {},
      "cell_type": "markdown",
      "metadata": {
        "id": "Ej5XnMuXScBz"
      },
      "source": [
        "By default, each NumPy aggregation function will return the aggregate over the entire array:"
      ]
    },
    {
      "cell_type": "code",
      "execution_count": 7,
      "metadata": {
        "colab": {
          "base_uri": "https://localhost:8080/"
        },
        "id": "ohHrZXBhScBz",
        "outputId": "ddd01961-f65e-4b37-95ac-8fb5d63f6287"
      },
      "outputs": [
        {
          "data": {
            "text/plain": [
              "4.3541126823836604"
            ]
          },
          "execution_count": 7,
          "metadata": {},
          "output_type": "execute_result"
        }
      ],
      "source": [
        "M.sum()"
      ]
    },
    {
      "attachments": {},
      "cell_type": "markdown",
      "metadata": {
        "id": "ry8AQ2tSScBz"
      },
      "source": [
        "Aggregation functions take an additional argument specifying the *axis* along which the aggregate is computed. For example, we can find the minimum value within each column by specifying ``axis=0``:"
      ]
    },
    {
      "cell_type": "code",
      "execution_count": 6,
      "metadata": {
        "colab": {
          "base_uri": "https://localhost:8080/"
        },
        "id": "e-Dr0VJXScB0",
        "outputId": "c4cf1452-c724-4ab3-bca3-87910753f639"
      },
      "outputs": [
        {
          "data": {
            "text/plain": [
              "array([0.16174456, 0.02639809, 0.14101117, 0.30393699])"
            ]
          },
          "execution_count": 6,
          "metadata": {},
          "output_type": "execute_result"
        }
      ],
      "source": [
        "M.min(axis=0)"
      ]
    },
    {
      "attachments": {},
      "cell_type": "markdown",
      "metadata": {
        "id": "MGR1KmV7ScB0"
      },
      "source": [
        "The function returns four values, corresponding to the four columns of numbers.\n",
        "\n",
        "Similarly, we can find the maximum value within each row:"
      ]
    },
    {
      "cell_type": "code",
      "execution_count": 8,
      "metadata": {
        "colab": {
          "base_uri": "https://localhost:8080/"
        },
        "id": "5EI1Bs09ScB0",
        "outputId": "ac861255-db42-4bf5-e29c-b26ffbdce81e"
      },
      "outputs": [
        {
          "data": {
            "text/plain": [
              "array([0.9889778 , 0.38769392, 0.51592824])"
            ]
          },
          "execution_count": 8,
          "metadata": {},
          "output_type": "execute_result"
        }
      ],
      "source": [
        "M.max(axis=1)"
      ]
    },
    {
      "cell_type": "code",
      "execution_count": null,
      "metadata": {
        "colab": {
          "base_uri": "https://localhost:8080/"
        },
        "id": "Rz_HxlTw87OD",
        "outputId": "7bdfbf5f-83f3-4c46-808e-993cce27d068"
      },
      "outputs": [
        {
          "data": {
            "text/plain": [
              "3.0"
            ]
          },
          "execution_count": 122,
          "metadata": {},
          "output_type": "execute_result"
        }
      ],
      "source": [
        "M = np.array([1, 2, 3, 4, 5])\n",
        "np.median(M)"
      ]
    },
    {
      "attachments": {},
      "cell_type": "markdown",
      "metadata": {
        "id": "NkUNQFdcScB0"
      },
      "source": [
        "The way the axis is specified here can be confusing to users coming from other languages.\n",
        "The ``axis`` keyword specifies the *dimension of the array that will be collapsed*, rather than the dimension that will be returned.\n",
        "So specifying ``axis=0`` means that the first axis will be collapsed: for two-dimensional arrays, this means that values within each column will be aggregated."
      ]
    },
    {
      "attachments": {},
      "cell_type": "markdown",
      "metadata": {
        "id": "d6H1H0N7ScB0"
      },
      "source": [
        "### Other aggregation functions\n",
        "\n",
        "NumPy provides many other aggregation functions, but we won't discuss them in detail here.\n",
        "\n",
        "The following table provides a list of useful aggregation functions available in NumPy:\n",
        "\n",
        "|Function Name      |   NaN-safe Version  | Description                                   |\n",
        "|-------------------|---------------------|-----------------------------------------------|\n",
        "| ``np.sum``        | ``np.nansum``       | Compute sum of elements                       |\n",
        "| ``np.prod``       | ``np.nanprod``      | Compute product of elements                   |\n",
        "| ``np.mean``       | ``np.nanmean``      | Compute median of elements                    |\n",
        "| ``np.std``        | ``np.nanstd``       | Compute standard deviation                    |\n",
        "| ``np.var``        | ``np.nanvar``       | Compute variance                              |\n",
        "| ``np.min``        | ``np.nanmin``       | Find minimum value                            |\n",
        "| ``np.max``        | ``np.nanmax``       | Find maximum value                            |\n",
        "| ``np.argmin``     | ``np.nanargmin``    | Find index of minimum value                   |\n",
        "| ``np.argmax``     | ``np.nanargmax``    | Find index of maximum value                   |\n",
        "| ``np.median``     | ``np.nanmedian``    | Compute median of elements                    |\n",
        "| ``np.percentile`` | ``np.nanpercentile``| Compute rank-based statistics of elements     |\n",
        "| ``np.any``        | N/A                 | Evaluate whether any elements are true        |\n",
        "| ``np.all``        | N/A                 | Evaluate whether all elements are true        |\n",
        "\n",
        "We will see these aggregates often throughout the rest of the book."
      ]
    },
    {
      "attachments": {},
      "cell_type": "markdown",
      "metadata": {
        "id": "bghxFTpIU16_"
      },
      "source": [
        "## Introducing Broadcasting\n",
        "\n",
        "Recall that for arrays of the same size, binary operations are performed on an element-by-element basis:"
      ]
    },
    {
      "cell_type": "code",
      "execution_count": null,
      "metadata": {
        "colab": {
          "base_uri": "https://localhost:8080/"
        },
        "id": "UU4IAShXUj86",
        "outputId": "6365dfa6-d053-4556-a391-1cd5d2b4bd4b"
      },
      "outputs": [
        {
          "data": {
            "text/plain": [
              "array([5, 6, 7])"
            ]
          },
          "execution_count": 123,
          "metadata": {},
          "output_type": "execute_result"
        }
      ],
      "source": [
        "a = np.array([0, 1, 2])\n",
        "b = np.array([5, 5, 5])\n",
        "a + b"
      ]
    },
    {
      "attachments": {},
      "cell_type": "markdown",
      "metadata": {
        "id": "wbrnN4ULUj86"
      },
      "source": [
        "Broadcasting allows these types of binary operations to be performed on arrays of different sizes–for example, we can just as easily add a scalar (think of it as a zero-dimensional array) to an array:"
      ]
    },
    {
      "cell_type": "code",
      "execution_count": null,
      "metadata": {
        "colab": {
          "base_uri": "https://localhost:8080/"
        },
        "id": "x2a1kHenUj87",
        "outputId": "080735f0-09c1-412b-8ace-1226f1d73625"
      },
      "outputs": [
        {
          "data": {
            "text/plain": [
              "array([5, 6, 7])"
            ]
          },
          "execution_count": 124,
          "metadata": {},
          "output_type": "execute_result"
        }
      ],
      "source": [
        "a + 5"
      ]
    },
    {
      "attachments": {},
      "cell_type": "markdown",
      "metadata": {
        "id": "v2oxMYPDUj87"
      },
      "source": [
        "We can think of this as an operation that stretches or duplicates the value ``5`` into the array ``[5, 5, 5]``, and adds the results.\n",
        "The advantage of NumPy's broadcasting is that this duplication of values does not actually take place, but it is a useful mental model as we think about broadcasting.\n",
        "\n",
        "We can similarly extend this to arrays of higher dimension. Observe the result when we add a one-dimensional array to a two-dimensional array:"
      ]
    },
    {
      "cell_type": "code",
      "execution_count": null,
      "metadata": {
        "colab": {
          "base_uri": "https://localhost:8080/"
        },
        "id": "Qil1cjb4Uj87",
        "outputId": "99966be7-e2e0-4a45-809f-0a026c9d9219"
      },
      "outputs": [
        {
          "data": {
            "text/plain": [
              "array([[1., 1., 1.],\n",
              "       [1., 1., 1.],\n",
              "       [1., 1., 1.]])"
            ]
          },
          "execution_count": 125,
          "metadata": {},
          "output_type": "execute_result"
        }
      ],
      "source": [
        "M = np.ones((3, 3))\n",
        "M"
      ]
    },
    {
      "cell_type": "code",
      "execution_count": null,
      "metadata": {
        "colab": {
          "base_uri": "https://localhost:8080/"
        },
        "id": "512L7ilTUj87",
        "outputId": "cef732c8-2d8a-4a85-ebcc-3252e6f0671e"
      },
      "outputs": [
        {
          "data": {
            "text/plain": [
              "array([[1., 2., 3.],\n",
              "       [1., 2., 3.],\n",
              "       [1., 2., 3.]])"
            ]
          },
          "execution_count": 126,
          "metadata": {},
          "output_type": "execute_result"
        }
      ],
      "source": [
        "M + a"
      ]
    },
    {
      "attachments": {},
      "cell_type": "markdown",
      "metadata": {
        "id": "qcfvu4XPUj87"
      },
      "source": [
        "Here the one-dimensional array ``a`` is stretched, or broadcast across the second dimension in order to match the shape of ``M``.\n",
        "\n",
        "While these examples are relatively easy to understand, more complicated cases can involve broadcasting of both arrays. Consider the following example:"
      ]
    },
    {
      "cell_type": "code",
      "execution_count": null,
      "metadata": {
        "colab": {
          "base_uri": "https://localhost:8080/"
        },
        "id": "IZOc44s8Uj87",
        "outputId": "59a85d3a-bf31-4ccb-840e-bc5164ee0e49"
      },
      "outputs": [
        {
          "name": "stdout",
          "output_type": "stream",
          "text": [
            "[0 1 2]\n",
            "[[0]\n",
            " [1]\n",
            " [2]]\n"
          ]
        }
      ],
      "source": [
        "a = np.arange(3)\n",
        "b = np.arange(3)[:, np.newaxis]\n",
        "\n",
        "print(a)\n",
        "print(b)"
      ]
    },
    {
      "cell_type": "code",
      "execution_count": null,
      "metadata": {
        "colab": {
          "base_uri": "https://localhost:8080/"
        },
        "id": "eDkHKvrDUj88",
        "outputId": "4f2d9102-665c-4549-ca4a-ad63d943ef08"
      },
      "outputs": [
        {
          "data": {
            "text/plain": [
              "array([[0, 1, 2],\n",
              "       [1, 2, 3],\n",
              "       [2, 3, 4]])"
            ]
          },
          "execution_count": 128,
          "metadata": {},
          "output_type": "execute_result"
        }
      ],
      "source": [
        "a + b"
      ]
    },
    {
      "attachments": {},
      "cell_type": "markdown",
      "metadata": {
        "id": "o-9BGbA8VWzQ"
      },
      "source": [
        "## Comparison Operators as ufuncs\n",
        "\n",
        "We saw that using ``+``, ``-``, ``*``, ``/``, and others on arrays leads to element-wise operations.\n",
        "NumPy also implements comparison operators such as ``<`` (less than) and ``>`` (greater than) as element-wise ufuncs.\n",
        "The result of these comparison operators is always an array with a Boolean data type.\n",
        "All six of the standard comparison operations are available:"
      ]
    },
    {
      "cell_type": "code",
      "execution_count": null,
      "metadata": {
        "collapsed": true,
        "id": "DW_q1IRkVWzQ"
      },
      "outputs": [],
      "source": [
        "x = np.array([1, 2, 3, 4, 5])"
      ]
    },
    {
      "cell_type": "code",
      "execution_count": null,
      "metadata": {
        "colab": {
          "base_uri": "https://localhost:8080/"
        },
        "id": "dPOaEqMlVWzQ",
        "outputId": "94a00890-accc-4109-fceb-cb690a7099f1"
      },
      "outputs": [
        {
          "data": {
            "text/plain": [
              "array([ True,  True, False, False, False])"
            ]
          },
          "execution_count": 130,
          "metadata": {},
          "output_type": "execute_result"
        }
      ],
      "source": [
        "x < 3  # less than"
      ]
    },
    {
      "cell_type": "code",
      "execution_count": null,
      "metadata": {
        "colab": {
          "base_uri": "https://localhost:8080/"
        },
        "id": "RiCATSjhVWzQ",
        "outputId": "20d75e97-5125-4b01-dd07-6c3867c40bcf"
      },
      "outputs": [
        {
          "data": {
            "text/plain": [
              "array([False, False, False,  True,  True])"
            ]
          },
          "execution_count": 131,
          "metadata": {},
          "output_type": "execute_result"
        }
      ],
      "source": [
        "x > 3  # greater than"
      ]
    },
    {
      "cell_type": "code",
      "execution_count": null,
      "metadata": {
        "colab": {
          "base_uri": "https://localhost:8080/"
        },
        "id": "IcJBemqyVWzQ",
        "outputId": "9d834deb-0322-4cbd-f9a1-af1d5bd2f0f5"
      },
      "outputs": [
        {
          "data": {
            "text/plain": [
              "array([ True,  True,  True, False, False])"
            ]
          },
          "execution_count": 132,
          "metadata": {},
          "output_type": "execute_result"
        }
      ],
      "source": [
        "x <= 3  # less than or equal"
      ]
    },
    {
      "cell_type": "code",
      "execution_count": null,
      "metadata": {
        "colab": {
          "base_uri": "https://localhost:8080/"
        },
        "id": "oRiPvF-vVWzQ",
        "outputId": "92149381-ebe0-4bb8-bb8f-1b59ec9b4017"
      },
      "outputs": [
        {
          "data": {
            "text/plain": [
              "array([False, False,  True,  True,  True])"
            ]
          },
          "execution_count": 133,
          "metadata": {},
          "output_type": "execute_result"
        }
      ],
      "source": [
        "x >= 3  # greater than or equal"
      ]
    },
    {
      "cell_type": "code",
      "execution_count": null,
      "metadata": {
        "colab": {
          "base_uri": "https://localhost:8080/"
        },
        "id": "G1CQGl2EVWzQ",
        "outputId": "15ebb614-8840-48fa-9053-c403d7e39a63"
      },
      "outputs": [
        {
          "data": {
            "text/plain": [
              "array([ True,  True, False,  True,  True])"
            ]
          },
          "execution_count": 134,
          "metadata": {},
          "output_type": "execute_result"
        }
      ],
      "source": [
        "x != 3  # not equal"
      ]
    },
    {
      "cell_type": "code",
      "execution_count": null,
      "metadata": {
        "colab": {
          "base_uri": "https://localhost:8080/"
        },
        "id": "DH9Z6--4VWzR",
        "outputId": "4b11f2e2-276a-4cc6-d54c-2a0b2e2cb63c"
      },
      "outputs": [
        {
          "data": {
            "text/plain": [
              "array([False, False,  True, False, False])"
            ]
          },
          "execution_count": 135,
          "metadata": {},
          "output_type": "execute_result"
        }
      ],
      "source": [
        "x == 3  # equal"
      ]
    },
    {
      "attachments": {},
      "cell_type": "markdown",
      "metadata": {
        "id": "k23vPfGQVWzR"
      },
      "source": [
        "It is also possible to do an element-wise comparison of two arrays, and to include compound expressions:"
      ]
    },
    {
      "cell_type": "code",
      "execution_count": null,
      "metadata": {
        "colab": {
          "base_uri": "https://localhost:8080/"
        },
        "id": "7rYn9mGYVWzR",
        "outputId": "d7512acf-fb2a-4067-88b9-4cefd227ca07"
      },
      "outputs": [
        {
          "data": {
            "text/plain": [
              "array([False,  True, False, False, False])"
            ]
          },
          "execution_count": 136,
          "metadata": {},
          "output_type": "execute_result"
        }
      ],
      "source": [
        "(2 * x) == (x ** 2)"
      ]
    },
    {
      "attachments": {},
      "cell_type": "markdown",
      "metadata": {
        "id": "JQJAwe_2VWzR"
      },
      "source": [
        "As in the case of arithmetic operators, the comparison operators are implemented as ufuncs in NumPy; for example, when you write ``x < 3``, internally NumPy uses ``np.less(x, 3)``.\n",
        "    A summary of the comparison operators and their equivalent ufunc is shown here:\n",
        "\n",
        "| Operator\t    | Equivalent ufunc    || Operator\t   | Equivalent ufunc    |\n",
        "|---------------|---------------------||---------------|---------------------|\n",
        "|``==``         |``np.equal``         ||``!=``         |``np.not_equal``     |\n",
        "|``<``          |``np.less``          ||``<=``         |``np.less_equal``    |\n",
        "|``>``          |``np.greater``       ||``>=``         |``np.greater_equal`` |"
      ]
    },
    {
      "attachments": {},
      "cell_type": "markdown",
      "metadata": {
        "id": "yMFAiBf6VWzR"
      },
      "source": [
        "Just as in the case of arithmetic ufuncs, these will work on arrays of any size and shape.\n",
        "Here is a two-dimensional example:"
      ]
    },
    {
      "cell_type": "code",
      "execution_count": null,
      "metadata": {
        "colab": {
          "base_uri": "https://localhost:8080/"
        },
        "id": "ZbuFhjdfVWzR",
        "outputId": "e1bc3c3a-8116-4c5d-88e9-4cf8055aaf1c"
      },
      "outputs": [
        {
          "data": {
            "text/plain": [
              "array([[5, 0, 3, 3],\n",
              "       [7, 9, 3, 5],\n",
              "       [2, 4, 7, 6]])"
            ]
          },
          "execution_count": 137,
          "metadata": {},
          "output_type": "execute_result"
        }
      ],
      "source": [
        "rng = np.random.RandomState(0)\n",
        "x = rng.randint(10, size=(3, 4))\n",
        "x"
      ]
    },
    {
      "cell_type": "code",
      "execution_count": null,
      "metadata": {
        "colab": {
          "base_uri": "https://localhost:8080/"
        },
        "id": "rshcrVq2VWzR",
        "outputId": "206d812f-aa2a-4651-9d38-47ca508116f5"
      },
      "outputs": [
        {
          "data": {
            "text/plain": [
              "array([[ True,  True,  True,  True],\n",
              "       [False, False,  True,  True],\n",
              "       [ True,  True, False, False]])"
            ]
          },
          "execution_count": 138,
          "metadata": {},
          "output_type": "execute_result"
        }
      ],
      "source": [
        "x < 6"
      ]
    },
    {
      "attachments": {},
      "cell_type": "markdown",
      "metadata": {
        "id": "DhV8xI3VVWzR"
      },
      "source": [
        "In each case, the result is a Boolean array, and NumPy provides a number of straightforward patterns for working with these Boolean results."
      ]
    },
    {
      "attachments": {},
      "cell_type": "markdown",
      "metadata": {
        "id": "PYXBY0i3VWzS"
      },
      "source": [
        "## Working with Boolean Arrays\n",
        "\n",
        "Given a Boolean array, there are a host of useful operations you can do.\n",
        "We'll work with ``x``, the two-dimensional array we created earlier."
      ]
    },
    {
      "cell_type": "code",
      "execution_count": null,
      "metadata": {
        "colab": {
          "base_uri": "https://localhost:8080/"
        },
        "id": "h10-rBwEVWzS",
        "outputId": "6f618a65-4d21-4628-e85b-b384bbb6bdbc"
      },
      "outputs": [
        {
          "name": "stdout",
          "output_type": "stream",
          "text": [
            "[[5 0 3 3]\n",
            " [7 9 3 5]\n",
            " [2 4 7 6]]\n"
          ]
        }
      ],
      "source": [
        "print(x)"
      ]
    },
    {
      "attachments": {},
      "cell_type": "markdown",
      "metadata": {
        "id": "visnKJxbVWzS"
      },
      "source": [
        "### Counting entries\n",
        "\n",
        "To count the number of ``True`` entries in a Boolean array, ``np.count_nonzero`` is useful:"
      ]
    },
    {
      "cell_type": "code",
      "execution_count": null,
      "metadata": {
        "colab": {
          "base_uri": "https://localhost:8080/"
        },
        "id": "mWvMQggKVWzS",
        "outputId": "97527367-5351-4a96-ce7e-adfa909016b8"
      },
      "outputs": [
        {
          "data": {
            "text/plain": [
              "8"
            ]
          },
          "execution_count": 140,
          "metadata": {},
          "output_type": "execute_result"
        }
      ],
      "source": [
        "# how many values less than 6?\n",
        "np.count_nonzero(x < 6)"
      ]
    },
    {
      "attachments": {},
      "cell_type": "markdown",
      "metadata": {
        "id": "un5guHRFVWzS"
      },
      "source": [
        "We see that there are eight array entries that are less than 6.\n",
        "Another way to get at this information is to use ``np.sum``; in this case, ``False`` is interpreted as ``0``, and ``True`` is interpreted as ``1``:"
      ]
    },
    {
      "cell_type": "code",
      "execution_count": null,
      "metadata": {
        "colab": {
          "base_uri": "https://localhost:8080/"
        },
        "id": "CRidm5dOVWzS",
        "outputId": "97039eb6-bfe8-4e11-83e0-252db69e2e1e"
      },
      "outputs": [
        {
          "data": {
            "text/plain": [
              "8"
            ]
          },
          "execution_count": 141,
          "metadata": {},
          "output_type": "execute_result"
        }
      ],
      "source": [
        "np.sum(x < 6)"
      ]
    },
    {
      "attachments": {},
      "cell_type": "markdown",
      "metadata": {
        "id": "tKJ_ry3kVWzS"
      },
      "source": [
        "The benefit of ``sum()`` is that like with other NumPy aggregation functions, this summation can be done along rows or columns as well:"
      ]
    },
    {
      "cell_type": "code",
      "execution_count": null,
      "metadata": {
        "colab": {
          "base_uri": "https://localhost:8080/"
        },
        "id": "TyLrK-9RVWzS",
        "outputId": "d4f14657-364a-4094-f4b8-d9afc72539e1"
      },
      "outputs": [
        {
          "data": {
            "text/plain": [
              "array([4, 2, 2])"
            ]
          },
          "execution_count": 142,
          "metadata": {},
          "output_type": "execute_result"
        }
      ],
      "source": [
        "# how many values less than 6 in each row?\n",
        "np.sum(x < 6, axis=1)"
      ]
    },
    {
      "attachments": {},
      "cell_type": "markdown",
      "metadata": {
        "id": "GSXj6KmmVWzS"
      },
      "source": [
        "This counts the number of values less than 6 in each row of the matrix.\n",
        "\n",
        "If we're interested in quickly checking whether any or all the values are true, we can use (you guessed it) ``np.any`` or ``np.all``:"
      ]
    },
    {
      "cell_type": "code",
      "execution_count": null,
      "metadata": {
        "colab": {
          "base_uri": "https://localhost:8080/"
        },
        "id": "QhEeKlVuVWzS",
        "outputId": "11b8c7c3-7d42-4a27-b0ef-b3a352de785b"
      },
      "outputs": [
        {
          "data": {
            "text/plain": [
              "True"
            ]
          },
          "execution_count": 143,
          "metadata": {},
          "output_type": "execute_result"
        }
      ],
      "source": [
        "# are there any values greater than 8?\n",
        "np.any(x > 8)"
      ]
    },
    {
      "cell_type": "code",
      "execution_count": null,
      "metadata": {
        "colab": {
          "base_uri": "https://localhost:8080/"
        },
        "id": "LUXhFUsZVWzS",
        "outputId": "4c64a60d-c392-42cc-b1d6-21914ff642ba"
      },
      "outputs": [
        {
          "data": {
            "text/plain": [
              "False"
            ]
          },
          "execution_count": 144,
          "metadata": {},
          "output_type": "execute_result"
        }
      ],
      "source": [
        "# are there any values less than zero?\n",
        "np.any(x < 0)"
      ]
    },
    {
      "cell_type": "code",
      "execution_count": null,
      "metadata": {
        "colab": {
          "base_uri": "https://localhost:8080/"
        },
        "id": "aRlUV7r7VWzT",
        "outputId": "2f6a344b-a496-47bb-9da1-0e52d2cde2df"
      },
      "outputs": [
        {
          "data": {
            "text/plain": [
              "True"
            ]
          },
          "execution_count": 145,
          "metadata": {},
          "output_type": "execute_result"
        }
      ],
      "source": [
        "# are all values less than 10?\n",
        "np.all(x < 10)"
      ]
    },
    {
      "cell_type": "code",
      "execution_count": null,
      "metadata": {
        "colab": {
          "base_uri": "https://localhost:8080/"
        },
        "id": "GsQGIharVWzT",
        "outputId": "8400a50a-e511-494d-a65e-d22d6fb7212c"
      },
      "outputs": [
        {
          "data": {
            "text/plain": [
              "False"
            ]
          },
          "execution_count": 146,
          "metadata": {},
          "output_type": "execute_result"
        }
      ],
      "source": [
        "# are all values equal to 6?\n",
        "np.all(x == 6)"
      ]
    },
    {
      "attachments": {},
      "cell_type": "markdown",
      "metadata": {
        "id": "AQp0D_qVVWzX"
      },
      "source": [
        "``np.all`` and ``np.any`` can be used along particular axes as well. For example:"
      ]
    },
    {
      "cell_type": "code",
      "execution_count": null,
      "metadata": {
        "colab": {
          "base_uri": "https://localhost:8080/"
        },
        "id": "tDnZcKCvVWzX",
        "outputId": "65f2493c-91c5-40c3-d45f-eb1c2cd61904"
      },
      "outputs": [
        {
          "data": {
            "text/plain": [
              "array([ True, False,  True])"
            ]
          },
          "execution_count": 147,
          "metadata": {},
          "output_type": "execute_result"
        }
      ],
      "source": [
        "# are all values in each row less than 4?\n",
        "np.all(x < 8, axis=1)"
      ]
    },
    {
      "attachments": {},
      "cell_type": "markdown",
      "metadata": {
        "id": "ba0_TLJCVWzY"
      },
      "source": [
        "## Boolean Arrays as Masks\n",
        "\n",
        "In the preceding section we looked at aggregates computed directly on Boolean arrays.\n",
        "A more powerful pattern is to use Boolean arrays as masks, to select particular subsets of the data themselves.\n",
        "Returning to our ``x`` array from before, suppose we want an array of all values in the array that are less than, say, 5:"
      ]
    },
    {
      "cell_type": "code",
      "execution_count": null,
      "metadata": {
        "colab": {
          "base_uri": "https://localhost:8080/"
        },
        "id": "tEVabRIjVWzY",
        "outputId": "db46d5af-b790-4b69-a097-339b8a1f595c"
      },
      "outputs": [
        {
          "data": {
            "text/plain": [
              "array([[5, 0, 3, 3],\n",
              "       [7, 9, 3, 5],\n",
              "       [2, 4, 7, 6]])"
            ]
          },
          "execution_count": 148,
          "metadata": {},
          "output_type": "execute_result"
        }
      ],
      "source": [
        "x"
      ]
    },
    {
      "attachments": {},
      "cell_type": "markdown",
      "metadata": {
        "id": "6oGM7W_MVWzY"
      },
      "source": [
        "We can obtain a Boolean array for this condition easily, as we've already seen:"
      ]
    },
    {
      "cell_type": "code",
      "execution_count": null,
      "metadata": {
        "colab": {
          "base_uri": "https://localhost:8080/"
        },
        "id": "TORQkoQcVWzZ",
        "outputId": "6a3ec276-a188-4573-e369-e85b6dd596b6"
      },
      "outputs": [
        {
          "data": {
            "text/plain": [
              "array([[False,  True,  True,  True],\n",
              "       [False, False,  True, False],\n",
              "       [ True,  True, False, False]])"
            ]
          },
          "execution_count": 149,
          "metadata": {},
          "output_type": "execute_result"
        }
      ],
      "source": [
        "x < 5"
      ]
    },
    {
      "attachments": {},
      "cell_type": "markdown",
      "metadata": {
        "id": "PZcp8LXJVWzZ"
      },
      "source": [
        "Now to *select* these values from the array, we can simply index on this Boolean array; this is known as a *masking* operation:"
      ]
    },
    {
      "cell_type": "code",
      "execution_count": null,
      "metadata": {
        "colab": {
          "base_uri": "https://localhost:8080/"
        },
        "id": "ajAwfYJQVWzZ",
        "outputId": "266dc7d4-d7dd-45ab-93ca-bdd4c38acb73"
      },
      "outputs": [
        {
          "data": {
            "text/plain": [
              "array([0, 3, 3, 3, 2, 4])"
            ]
          },
          "execution_count": 144,
          "metadata": {},
          "output_type": "execute_result"
        }
      ],
      "source": [
        "x[x < 5]"
      ]
    },
    {
      "attachments": {},
      "cell_type": "markdown",
      "metadata": {
        "id": "GmcVS9MjVYEQ"
      },
      "source": [
        "## Fast Sorting in NumPy: ``np.sort`` and ``np.argsort``\n",
        "\n",
        "Although Python has built-in ``sort`` and ``sorted`` functions to work with lists, we won't discuss them here because NumPy's ``np.sort`` function turns out to be much more efficient and useful for our purposes.\n",
        "By default ``np.sort`` uses an $\\mathcal{O}[N\\log N]$, *quicksort* algorithm, though *mergesort* and *heapsort* are also available. For most applications, the default quicksort is more than sufficient.\n",
        "\n",
        "To return a sorted version of the array without modifying the input, you can use ``np.sort``:"
      ]
    },
    {
      "cell_type": "code",
      "execution_count": null,
      "metadata": {
        "colab": {
          "base_uri": "https://localhost:8080/"
        },
        "id": "1yh3wacyVYEQ",
        "outputId": "9ac38ac9-e2a6-44af-cd03-8d14c42cab37"
      },
      "outputs": [
        {
          "data": {
            "text/plain": [
              "array([1, 2, 3, 4, 5])"
            ]
          },
          "execution_count": 150,
          "metadata": {},
          "output_type": "execute_result"
        }
      ],
      "source": [
        "x = np.array([2, 1, 4, 3, 5])\n",
        "np.sort(x)"
      ]
    },
    {
      "attachments": {},
      "cell_type": "markdown",
      "metadata": {
        "id": "pW8oT-0hVYEQ"
      },
      "source": [
        "If you prefer to sort the array in-place, you can instead use the ``sort`` method of arrays:"
      ]
    },
    {
      "cell_type": "code",
      "execution_count": null,
      "metadata": {
        "colab": {
          "base_uri": "https://localhost:8080/"
        },
        "id": "MH76PWbwVYEQ",
        "outputId": "8795da1f-1025-49d8-fd91-62d59d0fb6cc"
      },
      "outputs": [
        {
          "name": "stdout",
          "output_type": "stream",
          "text": [
            "[1 2 3 4 5]\n"
          ]
        }
      ],
      "source": [
        "x.sort()\n",
        "print(x)"
      ]
    },
    {
      "attachments": {},
      "cell_type": "markdown",
      "metadata": {
        "id": "h9uUWvv_VYEQ"
      },
      "source": [
        "A related function is ``argsort``, which instead returns the *indices* of the sorted elements:"
      ]
    },
    {
      "cell_type": "code",
      "execution_count": null,
      "metadata": {
        "colab": {
          "base_uri": "https://localhost:8080/"
        },
        "id": "k-wuQUpVVYEQ",
        "outputId": "d7085a7f-1ce8-466f-d842-93b54ceb59a3"
      },
      "outputs": [
        {
          "name": "stdout",
          "output_type": "stream",
          "text": [
            "[1 0 3 2 4]\n"
          ]
        }
      ],
      "source": [
        "x = np.array([2, 1, 4, 3, 5])\n",
        "i = np.argsort(x)\n",
        "print(i)"
      ]
    },
    {
      "attachments": {},
      "cell_type": "markdown",
      "metadata": {
        "id": "rk7qbHLFKxib"
      },
      "source": [
        "## Other Operations"
      ]
    },
    {
      "cell_type": "code",
      "execution_count": null,
      "metadata": {
        "id": "HOZ-NCaSMSQT"
      },
      "outputs": [],
      "source": [
        "A = np.array([[1, 2], [3, 4], [5, 6]])\n",
        "B = np.array([[11, 12], [13, 14], [15, 16]])\n",
        "C = np.array([[1, 1], [2, 2]])"
      ]
    },
    {
      "cell_type": "code",
      "execution_count": null,
      "metadata": {
        "colab": {
          "base_uri": "https://localhost:8080/"
        },
        "id": "XFmwQd45AAPw",
        "outputId": "f4618d6b-979e-455d-ddf9-c9f34196c9de"
      },
      "outputs": [
        {
          "data": {
            "text/plain": [
              "array([[1, 2],\n",
              "       [3, 4],\n",
              "       [5, 6]])"
            ]
          },
          "execution_count": 153,
          "metadata": {},
          "output_type": "execute_result"
        }
      ],
      "source": [
        "A"
      ]
    },
    {
      "cell_type": "code",
      "execution_count": null,
      "metadata": {
        "colab": {
          "base_uri": "https://localhost:8080/"
        },
        "id": "TF7zoTUQABAd",
        "outputId": "684e5007-f304-4688-dd72-717f048e966c"
      },
      "outputs": [
        {
          "data": {
            "text/plain": [
              "array([[1, 1],\n",
              "       [2, 2]])"
            ]
          },
          "execution_count": 154,
          "metadata": {},
          "output_type": "execute_result"
        }
      ],
      "source": [
        "C"
      ]
    },
    {
      "cell_type": "code",
      "execution_count": null,
      "metadata": {
        "colab": {
          "base_uri": "https://localhost:8080/"
        },
        "id": "FGkWcFKUMVEr",
        "outputId": "5ae2f0ff-cef1-43a4-a48d-edb2e4ac8aa7"
      },
      "outputs": [
        {
          "data": {
            "text/plain": [
              "array([[ 5,  5],\n",
              "       [11, 11],\n",
              "       [17, 17]])"
            ]
          },
          "execution_count": 155,
          "metadata": {},
          "output_type": "execute_result"
        }
      ],
      "source": [
        "np.dot(A, C)"
      ]
    },
    {
      "cell_type": "code",
      "execution_count": null,
      "metadata": {
        "colab": {
          "base_uri": "https://localhost:8080/"
        },
        "id": "g_3lU6WRAJrE",
        "outputId": "3de36f41-d3cb-4293-fc5a-4240bdb982b7"
      },
      "outputs": [
        {
          "data": {
            "text/plain": [
              "array([[11, 12],\n",
              "       [13, 14],\n",
              "       [15, 16]])"
            ]
          },
          "execution_count": 156,
          "metadata": {},
          "output_type": "execute_result"
        }
      ],
      "source": [
        "B"
      ]
    },
    {
      "cell_type": "code",
      "execution_count": null,
      "metadata": {
        "colab": {
          "base_uri": "https://localhost:8080/"
        },
        "id": "X1yx_iwtMbOK",
        "outputId": "1b0b7892-ce37-4c0f-9e42-ae9035320da8"
      },
      "outputs": [
        {
          "data": {
            "text/plain": [
              "array([[11, 24],\n",
              "       [39, 56],\n",
              "       [75, 96]])"
            ]
          },
          "execution_count": 157,
          "metadata": {},
          "output_type": "execute_result"
        }
      ],
      "source": [
        "# Element-wise matrix multiplication (Hadamard multiplication)\n",
        "A * B # Note that The dimensions should be the same."
      ]
    },
    {
      "cell_type": "code",
      "execution_count": null,
      "metadata": {
        "colab": {
          "base_uri": "https://localhost:8080/"
        },
        "id": "u_jlnNHbNbMZ",
        "outputId": "b304320f-06ff-447a-a547-4c1594a18d43"
      },
      "outputs": [
        {
          "name": "stdout",
          "output_type": "stream",
          "text": [
            "[[ 2  4]\n",
            " [ 6  8]\n",
            " [10 12]]\n",
            "==============================\n",
            "[[0.5 1. ]\n",
            " [1.5 2. ]\n",
            " [2.5 3. ]]\n",
            "==============================\n",
            "[[ 1  4]\n",
            " [ 9 16]\n",
            " [25 36]]\n",
            "==============================\n",
            "[[1.         0.5       ]\n",
            " [0.33333333 0.25      ]\n",
            " [0.2        0.16666667]]\n"
          ]
        }
      ],
      "source": [
        "print(A * 2)  # A = np.array([[1, 2], [3, 4], [5, 6]])\n",
        "print(\"=\"*30)\n",
        "\n",
        "print(A / 2)\n",
        "print(\"=\"*30)\n",
        "\n",
        "print(A ** 2)\n",
        "print(\"=\"*30)\n",
        "\n",
        "print(1 / A)"
      ]
    },
    {
      "cell_type": "code",
      "execution_count": null,
      "metadata": {
        "id": "mh1rEP_OzFR-"
      },
      "outputs": [],
      "source": []
    },
    {
      "cell_type": "code",
      "execution_count": null,
      "metadata": {
        "colab": {
          "base_uri": "https://localhost:8080/"
        },
        "id": "sFsdtIjfyzOu",
        "outputId": "889ba611-4b16-45c1-bdea-228ac045ebc7"
      },
      "outputs": [
        {
          "data": {
            "text/plain": [
              "6"
            ]
          },
          "execution_count": 33,
          "metadata": {},
          "output_type": "execute_result"
        }
      ],
      "source": [
        "A[2, 1]"
      ]
    },
    {
      "cell_type": "code",
      "execution_count": null,
      "metadata": {
        "colab": {
          "base_uri": "https://localhost:8080/"
        },
        "id": "tqXr1FJXP7h0",
        "outputId": "a3a15fbd-b592-4f86-d6ac-ae0bbc71c77b"
      },
      "outputs": [
        {
          "name": "stdout",
          "output_type": "stream",
          "text": [
            "[[1 2]\n",
            " [3 4]\n",
            " [5 6]]\n",
            "5\n",
            "==============================\n"
          ]
        }
      ],
      "source": [
        "A = np.array([[1, 2], [3, 4], [5, 6]])\n",
        "print(A)\n",
        "\n",
        "print(A.argmax())\n",
        "print(\"=\"*30)"
      ]
    },
    {
      "cell_type": "code",
      "execution_count": null,
      "metadata": {
        "colab": {
          "base_uri": "https://localhost:8080/"
        },
        "id": "KK1l26lLRAm6",
        "outputId": "3186fa25-7493-47eb-8a46-5a7ed30f00b6"
      },
      "outputs": [
        {
          "name": "stdout",
          "output_type": "stream",
          "text": [
            "[ 1. 15.  2.  0.]\n",
            "==============================\n",
            "[ 1. 15.  2.  1.]\n"
          ]
        }
      ],
      "source": [
        "a = np.array([1, 15, 2, 0.5])\n",
        "\n",
        "print(np.floor(a))\n",
        "print(\"=\"*30)\n",
        "print(np.ceil(a))"
      ]
    },
    {
      "cell_type": "code",
      "execution_count": null,
      "metadata": {
        "id": "3-yUgl5XK1M5"
      },
      "outputs": [],
      "source": [
        "A = np.array(([[8, 1, 6],\n",
        "               [3, 5, 7],\n",
        "               [4, 9, 2]]))\n",
        "rows, cols = np.where(A == np.max(A))"
      ]
    },
    {
      "cell_type": "code",
      "execution_count": null,
      "metadata": {
        "colab": {
          "base_uri": "https://localhost:8080/"
        },
        "id": "xv11Js67BUtG",
        "outputId": "65acfdbd-2864-4466-cf91-a0d362d80782"
      },
      "outputs": [
        {
          "data": {
            "text/plain": [
              "(array([2]), array([1]))"
            ]
          },
          "execution_count": 38,
          "metadata": {},
          "output_type": "execute_result"
        }
      ],
      "source": [
        "rows, cols"
      ]
    },
    {
      "cell_type": "code",
      "execution_count": null,
      "metadata": {
        "colab": {
          "base_uri": "https://localhost:8080/"
        },
        "id": "QLwOzryHRcni",
        "outputId": "e7cc5cd5-b799-45ef-fae3-f837eddeafa0"
      },
      "outputs": [
        {
          "name": "stdout",
          "output_type": "stream",
          "text": [
            "[[1 2]\n",
            " [3 4]\n",
            " [5 6]]\n",
            "==============================\n",
            "[[2 1]\n",
            " [4 3]\n",
            " [6 5]]\n"
          ]
        }
      ],
      "source": [
        "A = np.array([[1, 2], [3, 4], [5, 6]])\n",
        "print(A)\n",
        "print(\"=\"*30)\n",
        "print(np.fliplr(A))"
      ]
    },
    {
      "attachments": {},
      "cell_type": "markdown",
      "metadata": {
        "id": "HMsvug6ZPOmT"
      },
      "source": [
        "## Transpose"
      ]
    },
    {
      "cell_type": "code",
      "execution_count": null,
      "metadata": {
        "colab": {
          "base_uri": "https://localhost:8080/"
        },
        "id": "3iJb0HKFPR0T",
        "outputId": "6cc9cc03-ddae-4021-ba76-96ce12b386a5"
      },
      "outputs": [
        {
          "data": {
            "text/plain": [
              "array([[1, 2],\n",
              "       [3, 4],\n",
              "       [5, 6]])"
            ]
          },
          "execution_count": 168,
          "metadata": {},
          "output_type": "execute_result"
        }
      ],
      "source": [
        "A = np.array([[1, 2], [3, 4], [5, 6]])\n",
        "A"
      ]
    },
    {
      "cell_type": "code",
      "execution_count": null,
      "metadata": {
        "colab": {
          "base_uri": "https://localhost:8080/"
        },
        "id": "W2owIG5sPXwc",
        "outputId": "c3b1765b-1008-4ad7-970e-29d753c818bd"
      },
      "outputs": [
        {
          "data": {
            "text/plain": [
              "array([[1, 3, 5],\n",
              "       [2, 4, 6]])"
            ]
          },
          "execution_count": 169,
          "metadata": {},
          "output_type": "execute_result"
        }
      ],
      "source": [
        "A.T"
      ]
    },
    {
      "cell_type": "code",
      "execution_count": null,
      "metadata": {
        "colab": {
          "base_uri": "https://localhost:8080/"
        },
        "id": "N_xUCGLE0KTY",
        "outputId": "3d31ffae-0d2a-4d4b-a450-d2e0af2be508"
      },
      "outputs": [
        {
          "data": {
            "text/plain": [
              "array([[ 0.02764887,  1.10761484, -0.74379592],\n",
              "       [ 0.67061759, -0.11756906, -0.10253401],\n",
              "       [ 0.53158978, -0.22020879, -0.3085686 ]])"
            ]
          },
          "execution_count": 40,
          "metadata": {},
          "output_type": "execute_result"
        }
      ],
      "source": [
        "np.random.randn(3, 3)"
      ]
    },
    {
      "attachments": {},
      "cell_type": "markdown",
      "metadata": {
        "id": "j4PPvwzBR0CP"
      },
      "source": [
        "\n",
        "<font color='orange'><b>Practice more yourself: Compute the sum of the other diagonal of the following matrix using one line of code. (think about the answer some moments then see the provided one)\n",
        "\n",
        "<pre>\n",
        "        [[8, 1, 6],\n",
        "         [3, 5, 7],\n",
        "         [4, 9, 2]]\n",
        "</pre>\n",
        "</b></font>"
      ]
    },
    {
      "cell_type": "code",
      "execution_count": 3,
      "metadata": {
        "colab": {
          "base_uri": "https://localhost:8080/"
        },
        "id": "3Sh8DJ5ISm7X",
        "outputId": "5e002743-c87b-4daf-ab41-0bdb0f439fb9"
      },
      "outputs": [
        {
          "data": {
            "text/plain": [
              "15.0"
            ]
          },
          "execution_count": 3,
          "metadata": {},
          "output_type": "execute_result"
        }
      ],
      "source": [
        "#@title answer\n",
        "\n",
        "A = np.array([[8, 1, 6],\n",
        "              [3, 5, 7],\n",
        "              [4, 9, 2]])\n",
        "\n",
        "np.sum(np.fliplr(A)* np.eye(3))"
      ]
    },
    {
      "attachments": {},
      "cell_type": "markdown",
      "metadata": {
        "id": "i8-4VZ5lbyUn"
      },
      "source": [
        "## Tasks"
      ]
    },
    {
      "attachments": {},
      "cell_type": "markdown",
      "metadata": {
        "id": "g4olNwtRcqlu"
      },
      "source": [
        "<font color='orange'><b>T1: Compute std, mean, max, min, median of the following matrix using one line of code.\n",
        "\n",
        "<pre>\n",
        "[189, 170, 189, 163, 183, 171, 185, 168, 173, 183, 173, 173, 175, 178, 183, 193, 178, 173,\n",
        " 174, 183, 183, 168, ,170, 178, 182, 180, 183, 178, 182, 188, 175, 179, 183, 193, 182, 183,\n",
        " 177, 185, 188, 188, 182, 185]\n",
        "</pre>\n",
        "</b></font>"
      ]
    },
    {
      "cell_type": "code",
      "execution_count": 7,
      "metadata": {},
      "outputs": [
        {
          "name": "stdout",
          "output_type": "stream",
          "text": [
            "std:  6.931843442745892\n",
            "mean:  179.73809523809524\n",
            "max:  193\n",
            "min:  163\n",
            "median:  182.0\n"
          ]
        }
      ],
      "source": [
        "A = np.array([189, 170, 189, 163, 183, 171, 185, 168, 173, 183, 173, 173, 175, 178, 183, 193, 178, 173,\n",
        " 174, 183, 183, 168, 170, 178, 182, 180, 183, 178, 182, 188, 175, 179, 183, 193, 182, 183,\n",
        " 177, 185, 188, 188, 182, 185])\n",
        "\n",
        "print(\"std: \", np.std(A))\n",
        "print(\"mean: \", np.mean(A))\n",
        "print(\"max: \", np.max(A))\n",
        "print(\"min: \", np.min(A))\n",
        "print(\"median: \", np.median(A))"
      ]
    },
    {
      "attachments": {},
      "cell_type": "markdown",
      "metadata": {
        "id": "w_AhUSJTe8YU"
      },
      "source": [
        "<font color='orange'><b>T2: First generate a 10 by 3 random matrix then\n",
        "subtract the mean of each column to get zero mean normalization.\n",
        "</b></font>"
      ]
    },
    {
      "cell_type": "code",
      "execution_count": 51,
      "metadata": {},
      "outputs": [
        {
          "name": "stdout",
          "output_type": "stream",
          "text": [
            "A :  [[4 0 2]\n",
            " [4 2 6]\n",
            " [7 4 8]\n",
            " [5 2 3]\n",
            " [5 3 6]\n",
            " [1 8 9]\n",
            " [7 1 8]\n",
            " [7 5 7]\n",
            " [6 5 7]\n",
            " [0 6 5]]\n",
            "==============================\n",
            "B :  [4.6 3.6 6.1]\n",
            "==============================\n",
            "C :  [[-0.6 -3.6 -4.1]\n",
            " [-0.6 -1.6 -0.1]\n",
            " [ 2.4  0.4  1.9]\n",
            " [ 0.4 -1.6 -3.1]\n",
            " [ 0.4 -0.6 -0.1]\n",
            " [-3.6  4.4  2.9]\n",
            " [ 2.4 -2.6  1.9]\n",
            " [ 2.4  1.4  0.9]\n",
            " [ 1.4  1.4  0.9]\n",
            " [-4.6  2.4 -1.1]]\n"
          ]
        }
      ],
      "source": [
        "A = np.random.randint(0,10,size=(10,3))\n",
        "print(\"A : \" ,A)\n",
        "B = np.mean(A,axis=0)\n",
        "print(\"=\" * 30)\n",
        "print(\"B : \" ,B)\n",
        "C = np.subtract(A,B)\n",
        "print(\"=\" * 30)\n",
        "print(\"C : \" , C)\n"
      ]
    },
    {
      "attachments": {},
      "cell_type": "markdown",
      "metadata": {
        "id": "Fuz3NgiHggPo"
      },
      "source": [
        "<font color='orange'><b>T3: Traverse the following matrix aas shown below:\n",
        "\n",
        "input:\n",
        "<pre>\n",
        "[[1, 2, 3],\n",
        " [4, 5, 6],\n",
        " [7, 8, 9]]\n",
        "</pre>\n",
        "\n",
        "output:\n",
        "<pre>\n",
        "1, 2, 3, 6, 5, 4, 7, 8, 9\n",
        "</pre>\n",
        "\n",
        "\n",
        "</b></font>"
      ]
    },
    {
      "cell_type": "code",
      "execution_count": 23,
      "metadata": {},
      "outputs": [
        {
          "name": "stdout",
          "output_type": "stream",
          "text": [
            "1, 2, 3, 6, 5, 4, 7, 8, 9\n"
          ]
        }
      ],
      "source": [
        "A = np.array([[1, 2, 3],\n",
        " [4, 5, 6],\n",
        " [7, 8, 9]])\n",
        "A[1] = A[1][::-1]\n",
        "print(*list(A.reshape(9)),sep=', ')"
      ]
    },
    {
      "attachments": {},
      "cell_type": "markdown",
      "metadata": {
        "id": "D9HebW--hhqP"
      },
      "source": [
        "<font color='orange'><b>T4: Compute the correlation coefficient of following vectors:\n",
        "\n",
        "input1:\n",
        "<pre>\n",
        "[1, 2, 3, 4, 5, 6, 7, 8, 9]\n",
        "</pre>\n",
        "\n",
        "input2:\n",
        "<pre>\n",
        "[9, 8, 7, 6, 5, 4, 3, 2, 1]\n",
        "</pre>\n",
        "\n",
        "\n",
        "</b></font>\n",
        "\n",
        "![cc.png](data:image/png;base64,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)"
      ]
    },
    {
      "cell_type": "code",
      "execution_count": 48,
      "metadata": {},
      "outputs": [
        {
          "name": "stdout",
          "output_type": "stream",
          "text": [
            "-0.9999999999999999\n"
          ]
        },
        {
          "data": {
            "text/plain": [
              "-1.0"
            ]
          },
          "execution_count": 48,
          "metadata": {},
          "output_type": "execute_result"
        }
      ],
      "source": [
        "A = np.array([1, 2, 3, 4, 5, 6, 7, 8, 9])\n",
        "B = np.array([9, 8, 7, 6, 5, 4, 3, 2, 1])\n",
        "\n",
        "r = np.sum(((A - np.mean(A)) * (B - np.mean(B)))) / (np.sqrt(np.sum((A - np.mean(A)) ** 2)) * np.sqrt(np.sum((B - np.mean(B)) ** 2)))\n",
        "print(r)\n",
        "\n",
        "r = round(r,10)\n",
        "r"
      ]
    },
    {
      "attachments": {},
      "cell_type": "markdown",
      "metadata": {
        "id": "mnMdUSOAIgTo"
      },
      "source": [
        "<font color='orange'><b>T5: In this task, we're gonna count digits in a randomly generated numpy array. See the following example and complete functions with provided descriptions\n",
        "\n",
        "\n",
        "<pre>\n",
        "[\n",
        "[21, 3, 5],\n",
        "[10, 25, 30],\n",
        "[16, 16, 16]\n",
        "]\n",
        "</pre>\n",
        "\n",
        "<font color='orange'><b>Output:\n",
        "\n",
        "<pre>\n",
        "{digit: number of appearance}\n",
        "{0: 2, 1: 5, 2: 2, 3: 2, 4: 0, 5: 2, 6: 3, 7: 0, 8: 0, 9: 0}\n",
        "</pre>\n",
        "\n",
        "<pre>\n",
        "def create_matrix(n):\n",
        "  \"\"\"\n",
        "  In this function you should create matrix in order of n*n with random numbers\n",
        "  in the [n, n+100) interval.\n",
        "\n",
        "  see the bellow link:\n",
        "    https://numpy.org/doc/stable/reference/random/generated/numpy.random.randint.html\n",
        "\n",
        "  Arguments:\n",
        "    inputs:\n",
        "      n: an integer describing the order of the matrix\n",
        "    outputs:\n",
        "      created matrix\n",
        "  \"\"\"\n",
        "  ##############################################\n",
        "  ############ YOUR CODES GO HERE ##############\n",
        "  matrix = ...\n",
        "  ##############################################\n",
        "\n",
        "  return matrix\n",
        "</pre>\n",
        "\n",
        "\n",
        "<font color='orange'><b>Then in another cell call the implemented function\n",
        "\n",
        "<pre>\n",
        "n = int(input('Please enter number: ')) ## input function is for getting user input in string format\n",
        "matrix = create_matrix(n)\n",
        "</pre>\n",
        "\n",
        "\n",
        "<font color='orange'><b>Then in another cell complete following function and call it with generated matrix to get the final result\n",
        "\n",
        "<pre>\n",
        "def count_digits(matrix):\n",
        "  \"\"\"\n",
        "  In this function you should implement a routine to count the digits in the given matrix.\n",
        "\n",
        "  Arguments:\n",
        "    inputs:\n",
        "      matrix: input matrix\n",
        "    outputs:\n",
        "      digits: a dictionary containing digits as its keys and the counted numbers as its value\n",
        "  \"\"\"\n",
        "\n",
        "  ##############################################\n",
        "  ############ YOUR CODES GO HERE ##############\n",
        "  digits = {}\n",
        "  ##############################################\n",
        "\n",
        "  return digits\n",
        "</pre>\n",
        "\n",
        "\n",
        "<font color='orange'><b>In the final stage traverse this generated matrix in the following pattern by completing following function\n",
        "\n",
        "![Screenshot 1403-07-06 at 15.04.14.png](data:image/png;base64,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)\n",
        "\n",
        "\n",
        "<pre>\n",
        "def traverse_matrix(matrix):\n",
        "  \"\"\"\n",
        "  Traverse the input matrix in the given manner then print result\n",
        "\n",
        "  Arguments:\n",
        "    inputs:\n",
        "      matrix: input matrix\n",
        "    outputs\n",
        "  \"\"\"\n",
        "\n",
        "  ##############################################\n",
        "  ############ YOUR CODES GO HERE ##############\n",
        "  ##############################################\n",
        "\n",
        "</pre>\n",
        "\n",
        "<font color='orange'><b>Output example of the above function for provided example can be:\n",
        "\n",
        "<pre>\n",
        "21, 3, 10, 16, 25, 5, 30, 16, 16\n",
        "</pre>"
      ]
    },
    {
      "cell_type": "code",
      "execution_count": 25,
      "metadata": {},
      "outputs": [],
      "source": [
        "def create_matrix(n):\n",
        "    matrix = np.random.randint(n,n + 100,size=(n,n))\n",
        "\n",
        "    return matrix"
      ]
    },
    {
      "cell_type": "code",
      "execution_count": 17,
      "metadata": {},
      "outputs": [
        {
          "data": {
            "text/plain": [
              "array([[ 70,  46,  78,  82,  13,  24],\n",
              "       [ 64,  24,  79,  62,  80,  86],\n",
              "       [ 11,  15,   6,  61,  96,  94],\n",
              "       [ 65,  27,  48,  38,  88,  64],\n",
              "       [ 62,  32,  16, 103,  11,  81],\n",
              "       [ 38,   9,  13,  87,  32, 101]])"
            ]
          },
          "execution_count": 17,
          "metadata": {},
          "output_type": "execute_result"
        }
      ],
      "source": [
        "n = int(input('Please enter number: '))\n",
        "matrix = create_matrix(n)\n",
        "matrix"
      ]
    },
    {
      "cell_type": "code",
      "execution_count": 18,
      "metadata": {},
      "outputs": [
        {
          "data": {
            "text/plain": [
              "{0: 4, 1: 13, 2: 8, 3: 7, 4: 7, 5: 2, 6: 11, 7: 5, 8: 11, 9: 4}"
            ]
          },
          "execution_count": 18,
          "metadata": {},
          "output_type": "execute_result"
        }
      ],
      "source": [
        "def count_digits(matrix):\n",
        "\n",
        "\n",
        "    digits = {i:0 for i in range (10)}\n",
        "\n",
        "    for char in str(matrix).replace(\"[\",'').replace(']','').replace('\\n','').replace(' ',''):\n",
        "        digits[int(char)] += 1\n",
        "\n",
        "    return digits\n",
        "\n",
        "count_digits(matrix)"
      ]
    },
    {
      "cell_type": "code",
      "execution_count": 29,
      "metadata": {},
      "outputs": [],
      "source": [
        "matrix = create_matrix(10)\n",
        "matrix\n",
        "a = list(matrix)"
      ]
    },
    {
      "cell_type": "code",
      "execution_count": 28,
      "metadata": {},
      "outputs": [
        {
          "ename": "TypeError",
          "evalue": "sequence item 0: expected str instance, numpy.ndarray found",
          "output_type": "error",
          "traceback": [
            "\u001b[1;31m---------------------------------------------------------------------------\u001b[0m",
            "\u001b[1;31mTypeError\u001b[0m                                 Traceback (most recent call last)",
            "Cell \u001b[1;32mIn[28], line 1\u001b[0m\n\u001b[1;32m----> 1\u001b[0m \u001b[38;5;124;43m'\u001b[39;49m\u001b[38;5;124;43m'\u001b[39;49m\u001b[38;5;241;43m.\u001b[39;49m\u001b[43mjoin\u001b[49m\u001b[43m(\u001b[49m\u001b[38;5;28;43mlist\u001b[39;49m\u001b[43m(\u001b[49m\u001b[43mmatrix\u001b[49m\u001b[43m)\u001b[49m\u001b[43m)\u001b[49m\n",
            "\u001b[1;31mTypeError\u001b[0m: sequence item 0: expected str instance, numpy.ndarray found"
          ]
        }
      ],
      "source": [
        "''.join(a)"
      ]
    },
    {
      "cell_type": "code",
      "execution_count": 24,
      "metadata": {},
      "outputs": [
        {
          "name": "stdout",
          "output_type": "stream",
          "text": [
            "70, 46, 64, 11, 24, 78, 82, 79, 15, 65, 62, 27, 6, 62, 13, 24, 80, 61, 48, 32, 38, 9, 16, 38, 96, 86, 94, 88, 103, 13, 87, 11, 64, 81, 32, 101, "
          ]
        }
      ],
      "source": [
        "def traverse_matrix(matrix):\n",
        "    h,v = matrix.shape\n",
        "    a = 0\n",
        "    b = 0\n",
        "    c = 0\n",
        "    while (True):\n",
        "        print(matrix[a][b],end=' ')\n",
        "        if c == 0:\n",
        "            if (a > 0):\n",
        "                if (b < v - 1):\n",
        "                    a -= 1\n",
        "                    b += 1\n",
        "                else:\n",
        "                    if (a < h - 1):\n",
        "                        a += 1\n",
        "                        c = 1\n",
        "                    else:\n",
        "                        break\n",
        "            else:\n",
        "                if (b < v - 1):\n",
        "                    b += 1\n",
        "                    c = 1\n",
        "                else:\n",
        "                    if (a < h - 1):\n",
        "                        a += 1\n",
        "                        c = 1\n",
        "                    else:\n",
        "                        break\n",
        "        else:\n",
        "            if (b > 0):\n",
        "                if (a < h - 1):\n",
        "                    b -= 1\n",
        "                    a += 1\n",
        "                else:\n",
        "                    if (b < v - 1):\n",
        "                        b += 1\n",
        "                        c = 0\n",
        "                    else:\n",
        "                        break\n",
        "            else:\n",
        "                if (a < h - 1):\n",
        "                    a += 1\n",
        "                    c = 0\n",
        "                else:\n",
        "                    if (b < v - 1):\n",
        "                        b += 1\n",
        "                        c = 0\n",
        "                    else:\n",
        "                        break\n",
        "traverse_matrix(matrix)            "
      ]
    },
    {
      "cell_type": "code",
      "execution_count": 25,
      "metadata": {},
      "outputs": [
        {
          "name": "stdout",
          "output_type": "stream",
          "text": [
            "70 46 64 11 24 78 82 79 15 65 62 27 6 62 13 24 80 61 48 32 38 9 16 38 96 86 94 88 103 13 87 11 64 81 32 101 "
          ]
        }
      ],
      "source": [
        "def traverse_matrix(matrix):\n",
        "    h, v = matrix.shape\n",
        "    a, b = 0, 0\n",
        "    direction = 1 \n",
        "    while a < h and b < v:\n",
        "        print(matrix[a][b], end=' ')\n",
        "        if direction == 1:\n",
        "            if b == v - 1:\n",
        "                a += 1 \n",
        "                direction = -1\n",
        "            elif a == 0:\n",
        "                b += 1 \n",
        "                direction = -1\n",
        "            else:\n",
        "                a -= 1\n",
        "                b += 1\n",
        "        else: \n",
        "            if a == h - 1:\n",
        "                b += 1 \n",
        "                direction = 1\n",
        "            elif b == 0:\n",
        "                a += 1  \n",
        "                direction = 1\n",
        "            else:\n",
        "                a += 1\n",
        "                b -= 1\n",
        "traverse_matrix(matrix)          "
      ]
    },
    {
      "attachments": {},
      "cell_type": "markdown",
      "metadata": {
        "id": "1IutL1vRTqlQ"
      },
      "source": [
        "<font color='orange'><b> T6: Compute the L2 norm of result of following operation\n",
        "\n",
        "\n",
        "\n",
        "![Screenshot 1403-07-06 at 15.17.18.png](data:image/png;base64,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)"
      ]
    },
    {
      "cell_type": "code",
      "execution_count": 31,
      "metadata": {},
      "outputs": [
        {
          "name": "stdout",
          "output_type": "stream",
          "text": [
            "[[0.83333333 2.         3.16666667]\n",
            " [3.83333333 5.         6.16666667]\n",
            " [6.83333333 8.         9.16666667]]\n",
            "L2 norm :  16.945992643296723\n"
          ]
        }
      ],
      "source": [
        "A = np.array([\n",
        "    [1 ,2, 3],\n",
        "    [4 ,5, 6],\n",
        "    [7 ,8, 9]\n",
        "])\n",
        "B = np.array([1 ,-1 , 1])\n",
        "A_T = np.transpose(A)\n",
        "\n",
        "C = np.matmul(np.linalg.pinv(A) , B) + A\n",
        "print(C)\n",
        "\n",
        "print(\"L2 norm : \",np.linalg.norm(C))"
      ]
    },
    {
      "cell_type": "code",
      "execution_count": 32,
      "metadata": {},
      "outputs": [
        {
          "data": {
            "text/plain": [
              "array([2, 5, 8])"
            ]
          },
          "execution_count": 32,
          "metadata": {},
          "output_type": "execute_result"
        }
      ],
      "source": [
        "A@ B"
      ]
    },
    {
      "cell_type": "code",
      "execution_count": 34,
      "metadata": {},
      "outputs": [
        {
          "data": {
            "text/plain": [
              "array([[  1,   8,  27],\n",
              "       [ 64, 125, 216],\n",
              "       [343, 512, 729]], dtype=int32)"
            ]
          },
          "execution_count": 34,
          "metadata": {},
          "output_type": "execute_result"
        }
      ],
      "source": [
        "A ** 3"
      ]
    },
    {
      "attachments": {},
      "cell_type": "markdown",
      "metadata": {
        "id": "_HfmZMVbVQiC"
      },
      "source": [
        "<font color='orange'><b> T6: Slide the 3 x 3 matrix A on the 5 x 5 matrix B and multiply and add up the results. Then store this sum in the result matrix. To solve this question, please navigate over matrix B with basic Python functions and numpy library and calculate the results.\n",
        "\n",
        "![Screenshot 1403-07-06 at 15.25.16.png](data:image/png;base64,iVBORw0KGgoAAAANSUhEUgAABTgAAAE6CAYAAAAybj3jAAAMQGlDQ1BJQ0MgUHJvZmlsZQAASImVVwdYU8kWnluSkEBooUsJvQkCUgJICaEFkF4EUQlJgFBiDAQVe1lUcC2oiIINXRVR7DQLithZFHtfLCgo62LBrrxJAV33le/N982d//5z5j9nzp259w4Aaic4IlEuqg5AnrBAHBsSQB+XnEIn9QACQAEVOANlDjdfxIyOjgCwDLV/L+9uAETaXnWQav2z/78WDR4/nwsAEg1xOi+fmwfxIQDwKq5IXAAAUcqbTy0QSTGsQEsMA4R4sRRnynGVFKfL8T6ZTXwsC+I2AJRUOBxxJgCqlyFPL+RmQg3VfoidhDyBEAA1OsS+eXmTeRCnQWwDbUQQS/UZ6T/oZP5NM31Yk8PJHMbyuciKUqAgX5TLmf5/puN/l7xcyZAPK1hVssShsdI5w7zdypkcLsUqEPcJ0yOjINaE+IOAJ7OHGKVkSUIT5PaoITefBXMGdCB24nECwyE2hDhYmBsZoeDTMwTBbIjhCkGnCQrY8RDrQbyYnx8Up7DZLJ4cq/CF1meIWUwFf44jlvmV+nogyUlgKvRfZ/HZCn1MtSgrPgliCsQWhYLESIhVIXbMz4kLV9iMKcpiRQ7ZiCWx0vgtII7lC0MC5PpYYYY4OFZhX5KXPzRfbHOWgB2pwAcKsuJD5fnB2rgcWfxwLthlvpCZMKTDzx8XMTQXHj8wSD53rIcvTIhT6HwQFQTEysfiFFFutMIeN+Pnhkh5M4hd8wvjFGPxxAK4IOX6eIaoIDpeHidelM0Ji5bHg68AEYAFAgEdSGBNB5NBNhB09DX0wTt5TzDgADHIBHzgoGCGRiTJeoTwGgeKwJ8Q8UH+8LgAWS8fFEL+6zArvzqADFlvoWxEDngKcR4IB7nwXiIbJRz2lgieQEbwD+8cWLkw3lxYpf3/nh9ivzNMyEQoGMmQR7rakCUxiBhIDCUGE21xA9wX98Yj4NUfVhecgXsOzeO7PeEpoZPwiHCd0EW4PUkwX/xTlGNBF9QPVuQi/cdc4FZQ0w0PwH2gOlTGdXAD4IC7Qj9M3A96doMsSxG3NCv0n7T/NoMfnobCjuxERsm6ZH+yzc8jVe1U3YZVpLn+MT/yWNOH880a7vnZP+uH7PNgG/6zJbYYO4idxU5i57GjWAOgYy1YI9aOHZPi4dX1RLa6hrzFyuLJgTqCf/gberLSTOY71Tr1On2R9xXwp0nf0YA1WTRdLMjMKqAz4ReBT2cLuY4j6S5OLq4ASL8v8tfXmxjZdwPRaf/OLfgDAJ+WwcHBI9+5sBYA9nvA7d/0nbNhwE+HMgDnmrgScaGcw6UXAnxLqMGdpg+MgTmwgfNxAe7AG/iDIBAGokA8SAYTYfRZcJ2LwVQwE8wDxaAUrABrwHqwCWwFO8EecAA0gKPgJDgDLoLL4Dq4C1dPN3gB+sE78BlBEBJCRWiIPmKCWCL2iAvCQHyRICQCiUWSkTQkExEiEmQmsgApRcqQ9cgWpAbZjzQhJ5HzSCdyG3mI9CKvkU8ohqqgWqgRaoWOQhkoEw1H49EJaCY6BS1CF6LL0Aq0Gt2N1qMn0YvodbQLfYEOYABTxnQwU8wBY2AsLApLwTIwMTYbK8HKsWqsDmuGz/kq1oX1YR9xIk7D6bgDXMGheALOxafgs/Gl+Hp8J16Pt+FX8Yd4P/6NQCUYEuwJXgQ2YRwhkzCVUEwoJ2wnHCachnupm/COSCTqEK2JHnAvJhOziTOIS4kbiHuJJ4idxMfEARKJpE+yJ/mQokgcUgGpmLSOtJvUQrpC6iZ9UFJWMlFyUQpWSlESKs1XKlfapXRc6YrSM6XPZHWyJdmLHEXmkaeTl5O3kZvJl8jd5M8UDYo1xYcST8mmzKNUUOoopyn3KG+UlZXNlD2VY5QFynOVK5T3KZ9Tfqj8UUVTxU6FpZKqIlFZprJD5YTKbZU3VCrViupPTaEWUJdRa6inqA+oH1Rpqo6qbFWe6hzVStV61SuqL9XIapZqTLWJakVq5WoH1S6p9amT1a3UWeoc9dnqlepN6jfVBzRoGs4aURp5Gks1dmmc1+jRJGlaaQZp8jQXam7VPKX5mIbRzGksGpe2gLaNdprWrUXUstZia2VrlWrt0erQ6tfW1HbVTtSepl2pfUy7SwfTsdJh6+TqLNc5oHND55OukS5Tl6+7RLdO94rue70Rev56fL0Svb161/U+6dP1g/Rz9FfqN+jfN8AN7AxiDKYabDQ4bdA3QmuE9wjuiJIRB0bcMUQN7QxjDWcYbjVsNxwwMjYKMRIZrTM6ZdRnrGPsb5xtvNr4uHGvCc3E10RgstqkxeQ5XZvOpOfSK+ht9H5TQ9NQU4npFtMO089m1mYJZvPN9prdN6eYM8wzzFebt5r3W5hYjLWYaVFrcceSbMmwzLJca3nW8r2VtVWS1SKrBqseaz1rtnWRda31PRuqjZ/NFJtqm2u2RFuGbY7tBtvLdqidm12WXaXdJXvU3t1eYL/BvnMkYaTnSOHI6pE3HVQcmA6FDrUODx11HCMc5zs2OL4cZTEqZdTKUWdHfXNyc8p12uZ011nTOcx5vnOz82sXOxeuS6XLtdHU0cGj54xuHP3K1d6V77rR9ZYbzW2s2yK3Vrev7h7uYvc6914PC480jyqPmwwtRjRjKeOcJ8EzwHOO51HPj17uXgVeB7z+8nbwzvHe5d0zxnoMf8y2MY99zHw4Plt8unzpvmm+m327/Ez9OH7Vfo/8zf15/tv9nzFtmdnM3cyXAU4B4oDDAe9ZXqxZrBOBWGBIYElgR5BmUELQ+qAHwWbBmcG1wf0hbiEzQk6EEkLDQ1eG3mQbsbnsGnZ/mEfYrLC2cJXwuPD14Y8i7CLEEc1j0bFhY1eNvRdpGSmMbIgCUeyoVVH3o62jp0QfiSHGRMdUxjyNdY6dGXs2jhY3KW5X3Lv4gPjl8XcTbBIkCa2JaompiTWJ75MCk8qSusaNGjdr3MVkg2RBcmMKKSUxZXvKwPig8WvGd6e6pRan3phgPWHahPMTDSbmTjw2SW0SZ9LBNEJaUtqutC+cKE41ZyCdnV6V3s9lcddyX/D8eat5vXwffhn/WYZPRllGT6ZP5qrM3iy/rPKsPgFLsF7wKjs0e1P2+5yonB05g7lJuXvzlPLS8pqEmsIcYdtk48nTJneK7EXFoq4pXlPWTOkXh4u35yP5E/IbC7Tgj3y7xEbyi+RhoW9hZeGHqYlTD07TmCac1j7dbvqS6c+Kgot+m4HP4M5onWk6c97Mh7OYs7bMRmanz26dYz5n4ZzuuSFzd86jzMuZ9/t8p/ll898uSFrQvNBo4dyFj38J+aW2WLVYXHxzkfeiTYvxxYLFHUtGL1m35FsJr+RCqVNpeemXpdylF351/rXi18FlGcs6lrsv37iCuEK44sZKv5U7yzTKisoerxq7qn41fXXJ6rdrJq05X+5avmktZa1kbVdFREXjOot1K9Z9WZ+1/nplQOXeKsOqJVXvN/A2XNnov7Fuk9Gm0k2fNgs239oSsqW+2qq6fCtxa+HWp9sSt539jfFbzXaD7aXbv+4Q7ujaGbuzrcajpmaX4a7ltWitpLZ3d+ruy3sC9zTWOdRt2auzt3Qf2CfZ93x/2v4bB8IPtB5kHKw7ZHmo6jDtcEk9Uj+9vr8hq6GrMbmxsymsqbXZu/nwEccjO46aHq08pn1s+XHK8YXHB1uKWgZOiE70ncw8+bh1UuvdU+NOXWuLaes4HX763JngM6fOMs+2nPM5d/S81/mmC4wLDRfdL9a3u7Uf/t3t98Md7h31lzwuNV72vNzcOabz+BW/KyevBl49c4197eL1yOudNxJu3LqZerPrFu9Wz+3c26/uFN75fHfuPcK9kvvq98sfGD6o/sP2j71d7l3HHgY+bH8U9+juY+7jF0/yn3zpXviU+rT8mcmzmh6XnqO9wb2Xn49/3v1C9OJzX/GfGn9WvbR5eegv/7/a+8f1d78Svxp8vfSN/psdb13ftg5EDzx4l/fu8/uSD/ofdn5kfDz7KenTs89Tv5C+VHy1/dr8LfzbvcG8wUERR8yR/QpgsKIZGQC83gEANRkAGjyfUcbLz3+ygsjPrDIE/hOWnxFlxR2AOvj/HtMH/25uArBvGzx+QX21VACiqQDEewJ09OjhOnRWk50rpYUIzwGb476m56WDf1PkZ84f4v65BVJVV/Bz+y9vvHxfpg9BvgAAAIplWElmTU0AKgAAAAgABAEaAAUAAAABAAAAPgEbAAUAAAABAAAARgEoAAMAAAABAAIAAIdpAAQAAAABAAAATgAAAAAAAACQAAAAAQAAAJAAAAABAAOShgAHAAAAEgAAAHigAgAEAAAAAQAABTigAwAEAAAAAQAAAToAAAAAQVNDSUkAAABTY3JlZW5zaG90BZhGVAAAAAlwSFlzAAAWJQAAFiUBSVIk8AAAAddpVFh0WE1MOmNvbS5hZG9iZS54bXAAAAAAADx4OnhtcG1ldGEgeG1sbnM6eD0iYWRvYmU6bnM6bWV0YS8iIHg6eG1wdGs9IlhNUCBDb3JlIDYuMC4wIj4KICAgPHJkZjpSREYgeG1sbnM6cmRmPSJodHRwOi8vd3d3LnczLm9yZy8xOTk5LzAyLzIyLXJkZi1zeW50YXgtbnMjIj4KICAgICAgPHJkZjpEZXNjcmlwdGlvbiByZGY6YWJvdXQ9IiIKICAgICAgICAgICAgeG1sbnM6ZXhpZj0iaHR0cDovL25zLmFkb2JlLmNvbS9leGlmLzEuMC8iPgogICAgICAgICA8ZXhpZjpQaXhlbFlEaW1lbnNpb24+MzE0PC9leGlmOlBpeGVsWURpbWVuc2lvbj4KICAgICAgICAgPGV4aWY6UGl4ZWxYRGltZW5zaW9uPjEzMzY8L2V4aWY6UGl4ZWxYRGltZW5zaW9uPgogICAgICAgICA8ZXhpZjpVc2VyQ29tbWVudD5TY3JlZW5zaG90PC9leGlmOlVzZXJDb21tZW50PgogICAgICA8L3JkZjpEZXNjcmlwdGlvbj4KICAgPC9yZGY6UkRGPgo8L3g6eG1wbWV0YT4KXEoQbwAAABxpRE9UAAAAAgAAAAAAAACdAAAAKAAAAJ0AAACdAAA7Dk0owmUAADraSURBVHgB7N0JuFVV+cfx9zIHAhqKgMwFihMgipIMjzmTRJSYYA6oZI+FItajZvpXU/KpFCXQorLBKRMTURwqSwETU+mqiQwqojIICjHP7P9eu87xnsu996xz995nv3vt73kennuGtdde+/Ouew/nd9bZp8LzL8IFAQQQQAABBBBAAAEEEEAAAQQQQAABBBBIoUAFAWcKq8aQEUAAAQQQQAABBBBAAAEEEEAAAQQQQCAQIOBkIiCAAAIIIIAAAggggAACCCCAAAIIIIBAagUIOFNbOgaOAAIIIIAAAggggAACCCCAAAIIIIAAAgSczAEEEEAAAQQQQAABBBBAAAEEEEAAAQQQSK0AAWdqS8fAEUAAAQQQQAABBBBAAAEEEEAAAQQQQICAkzmAAAIIIIAAAggggAACCCCAAAIIIIAAAqkVIOBMbekYOAIIIIAAAggggAACCCCAAAIIIIAAAggQcDIHEEAAAQQQQAABBBBAAAEEEEAAAQQQQCC1AgScqS0dA0cAAQQQQAABBBBAAAEEEEAAAQQQQAABAk7mAAIIIIAAAggggAACCCCAAAIIIIAAAgikVoCAM7WlY+AIIIAAAggggAACCCCAAAIIIIAAAlkT+Pjjj2Xz5s3SpUuXrB16rcdLwFkrDQ8ggAACCEQlMH36dJk9e7Z1d40aNZJWrVpJy5YtpXXr1nLwwQdL3759ZZ999rHug4YIIIAAAggggAACCCCAgIsCp5xyirzyyiuyfPly+cxnPuPiIZZ8TAScJZOxAQIIIIBAqQIPPfSQPPXUU/Lmm28GT8Slbm/aN2/eXM4880y56KKLZPDgwfXpgm0QQAABBBBAAAEEEEAAgVQLvPXWW3LooYcGx/CrX/0qeH2U6gOKaPAEnBFB0g0CCCCAgJ3ApEmTZMKECQWNTzvtNPniF78YfMSiXbt2Yj5y8d5778kbb7whDzzwgOzYsaOg/bhx4+T2228Xs9KTCwIIIIAAAggggAACCCCQFYFvf/vbctdddwWHaz7lNn/+/Kwcep3HScBZJw8PIoAAAghELWDCyv3220+2bNmS7/r++++X0aNH529XvWKCzuuuu07uu+++qnfLl7/8ZXnssccK7uMGAggggAACCCCAAAIIIOCqwPr166Vjx46yadOm/CH+4x//kAEDBuRvZ/UKAWdWK89xI4AAAgkKdOvWLVihmRtCXQFnrs15550n9957b+5m8NN89P2ss84quI8bCCCAAAIIIIAAAggggICLAnfccYdcccUVBYd2zjnn7LUYpKBBRm4QcGak0BwmAgggoEnAfJSisrIyPySbgHPr1q1yxBFHyDvvvJPfrnfv3gX95B/gCgIIIIAAAggggAACCCDgkIDnedKzZ095++23C46qSZMm8sEHH0jbtm0L7s/aDQLOrFWc40UAAQQUCBx99NHy6quv5kdiE3CaxlXPN2NuN27cWDZv3hz8NLe5IIAAAggggAACCCCAAAIuCsyaNUvOOOOMGg/tlltuke9///s1PpaVOwk4s1JpjhMBBBBQJFDfgPOnP/2pfO973ys4ksWLF0uPHj0K7uMGAggggAACCCCAAAIIIOCSgPli1meeeSY432b37t3FLBLJXTp16iRLly6Vhg0b5u7K3E8CzsyVnANGAAEEkheob8Bpzrf58MMPFxzAf/7zH2ndunXBfdxAAAEEEEAAAQQQQAABBFwRWLRokfTq1UvMx9QffPBB6dq1615fLPSnP/1JRowY4cohl3wcBJwlk7EBAggggEBYgfoEnHv27JEDDjhA1q5dm999586dZdmyZfnbXEEAAQQQQAABBBBAAAEEXBMYN26cTJkyRTp06BB8Was5VVe/fv1k/vz5+UM98cQT5a9//Wv+dtauEHBmreIcLwIIIKBAoNSAc/v27TJmzJjg3cqqw580aZKMHz++6l1cRwABBBBAAAEEEEAAAQScEdiwYYN07NhRNm7cKDfffLNce+21wbH95je/kQsvvLDgON966y055JBDCu7Lyg0CzqxUmuNEAAEEFAmUEnCabwQcNWqUvPDCCwVH0L9/f5kzZ46Ybw3kggACCCCAAAIIIIAAAgi4KPCzn/1MLrvsMmnatGnwbenmU23msnXr1iD4rPoJN7PSc/LkyS4yFD0mAs6iRDRAAAEEEIhaoHrA+bnPfU6OPPJIadOmTfDEbZ6szbk1zTuQ5l/VS6NGjYLVnD/+8Y9l3333rfoQ1xFAAAEEEEAAAQQQQAABZwTMOTfNikzzxaoXXHCBmFWbVS/mC1jNF7HmLq1atZLly5fLPvvsk7srMz8JODNTag4UAQQQ0CNQPeAsZWQXX3xx8LEMc2JtLggggAACCCCAAAIIIICAqwJPP/20nH766cHhmfNt9u3bt+BQ3333XenRo4eY7yvIXe6++2751re+lbuZmZ8EnJkpNQeKAAII6BGoHnBecsklMmzYMGnevHkwSPMxizVr1si8efPEPKl/9NFHew3eBJ233XabmHcpuSCAAAIIIIAAAggggAACrgkMHTpUnnrqKRk4cGBweq6aju+MM86QWbNm5R864ogj5PXXX8/fzsoVAs6sVJrjRAABBBQJVA8477//fhk9enSNIzQfy/jtb38rV111VRB6Vm1k+vnHP/4h5lsEuSCAAAIIIIAAAggggAACrggsWbJEDj74YDGvh/74xz/KyJEjazw0E4CaILTq5fnnn5fBgwdXvcv56wSczpeYA0QAAQT0CZQScOZGv2zZMjn22GP3Ws159dVXy49+9KNcM34igAACCCCAAAIIIIAAAqkXGD9+vNx5553BcZxzzjlivougpov5ePq9995b8NBZZ50lDz30UMF9rt8g4HS9whwfAgggoFCgPgGnOYya3p0036K+ceNGvk1dYZ0ZEgIIIIAAAggggAACCJQusGnTJjnooINkw4YNpW/sb2E+4WYWiLRv375e26dxIwLONFaNMSOAAAIpF6hvwGkO23xMw3yLYNXLq6++KkcddVTVu7iOAAIIIIAAAggggAACCKRSYOrUqfKd73xHmjZtKo8++qg0a9aszuPYvHmzjBgxQnbt2pVvd8MNN8j//d//5W+7foWA0/UKc3wIIICAQoEwAeeoUaPkD3/4Q8FR3XfffWI+tsEFAQQQQAABBBBAAAEEEEizgDnn5qGHHioLFy6U888/P/g+ApvjMR9Lf/jhh/NNO3ToEKzirO2j7fmGjlwh4HSkkBwGAgggkCaBMAHnaaedJs8880zB4f75z3+Wk08+ueA+biCAAAIIIIAAAggggAACaRMwr21OPfXUYNilfFJt9uzZMmTIkILDrevLiQoaOnCDgNOBInIICCCAQNoE6htwmhNoH3DAAbJ27dqCQ16xYkWmzi9TcPDcQAABBBBAAAEEEEAAAWcETj/9dHn66afl+OOPl7lz55Z0XEceeaS88cYb+W0GDRokJvjMwoWAMwtV5hgRQAABZQKHHXaYLFiwID+q+++/X0aPHp2/XduVH/zgB3LLLbcUPDx8+HCZMWNGwX3cQAABBBBAAAEEEEAAAQTSJmBWbJrFIOby+9//Xs4999ySDmHy5Mly+eWXF2wzZ84cGThwYMF9Lt4g4HSxqhwTAgggoFzAfJvfqlWr8qMsFnCa89D85je/kYsvvljM9dzFnE/G/CfAvFPJBQEEEEAAAQQQQAABBBBIs4BZvDFz5kxp0KCBrF69Wtq0aVPS4axZs0YOPPDAgtdMJ510kvzlL38pqZ80NibgTGPVGDMCCCCQYoE333xTDj/88IIjmDBhgpx99tnSuXNnadu2rVRUVARPyuaj56+88orcdNNNMn/+/IJtunbtKiYY/cIXvlBwPzcQQAABBBBAAAEEEEAAgbQJ/Pa3v5UxY8YEw27ZsqWYsNJ8i3opl40bNwah6M6dOws2Mys7x40bV3CfazcIOF2rKMeDAAIIKBRYuXKlmLDytddek+uuuy64XtswzZO4Oc+meULfvn17jc3MN6nffffd0rp16xof504EEEAAAQQQQAABBBBAIA0Cf/vb3+Sxxx6TX/ziFwWvf8yXq5533nnBp9XMKb7qupjXW2ZhiOlj1qxZNTY95phjgtOCXXjhhdKqVasa26T5TgLONFePsSOAAAIpEbj22mtl4sSJJY3WfPzcvHNpnnzNz+7duwerNc2Jslm1WRIljRFAAAEEEEAAAQQQQECpgHmds3Tp0lpHZ/NFQZMmTRLzqTiby0svvST9+/e3aZqqNgScqSoXg0UAAQQQQAABBBBAAAEEEEAAAQQQQACBqgIEnFU1uI4AAggggAACCCCAAAIIIIAAAggggAACqRIg4ExVuRgsAggggAACCCCAAAIIIIAAAggggAACCFQVIOCsqsF1BBBAAAEEEEAAAQQQQAABBBBAAAEEEEiVAAFnqsrFYBFAAAEEEEAAAQQQQAABBBBAAAEEEECgqgABZ1UNriOAAAIIIIAAAggggAACCCCAAAIIIIBAqgQIOFNVLgaLAAIIIIAAAggggAACCCCAAAIIIIAAAlUFCDiranAdAQQQQAABBBBAAAEEEEAAAQQQQAABBFIlQMCZqnIxWAQQQAABBBBAAAEEEEAAAQQQQAABBBCoKkDAWVWD6wgggAACCCCAAAIIIIAAAggggAACCCCQKgECzlSVi8EigAACCCCAAAIIIIAAAggggAACCCCAQFUBAs6qGlxHAAEEEEAAAQQQQAABBBBAAAFrgd/97nfy9ttvS//+/a23oeGnAg0bNpTdu3dLkyZNZMeOHZ8+wDVrgZxdo0aNZNeuXdbbZa3h0qVLZc2aNXLjjTdKgwYNnDt8Ak7nSsoBIYAAAggggAACCCCAAAIIIFAegfbt28uqVaukcePGsnPnzvLs1KG9dOjQQVasWCGDBg2SOXPmOHRk5TuUIUOGyPPPPy89e/aUxYsXl2/HKdvTfvvtJ+vWrZOtW7dKs2bNUjb64sMl4CxuRAsEEEAAAQQQQAABBBBAAAEEEKhB4Mtf/rK89dZbcvnll4tZjcilNAGzavNPf/qT9OrVS3r37l3axrQOBBYuXCiVlZVi5mLz5s1RqUXgkUcekWXLlsmbb74ZrBiupVlq705FwGkm68CBA4M0fp999kktNgMvTcDUetOmTdK1a1d57733StuY1ioEunTpEvwB5aMCKspR70F07txZ3n//fT42U2/BZDfMrQro1q2bmI+lcEmXwJIlS8T8DTU/uSCAAAIIIKBRYPjw4TJz5szg49VmFSeX0gQ++OADMf/fHjt2rEybNq20jWkdCFxzzTVy6623BiEnIXHtk8IEwI8//niw0tr8/9K1SyoCzpdffjk4n4d5kbZ69WrXasDx1CKw//77y8cffywDBgyQF198sZZW3K1ZwJyH55///CfBmOYiWYztmGOOEfN32LwbumXLFostaKJJoG/fvvKvf/0reKNw7ty5mobGWCwEKioqxPzbvn27RWuaIIAAAgggUH4BAs5w5gSc4fzM1gScdoYEnHZOsbb68MMPpVOnTryjEauyvs7NeVzM+VzGjBkj99xzj74BMqKiAiNGjJAZM2bItm3bpGnTpkXb00CnwMiRI2X69OnBiuoWLVroHCSjqlXgiSeekGHDhsnUqVPl0ksvrbUdD+gU6NGjRxBwcj4pnfVhVAgggAACIgSc4WYBAWc4P7M1AaedIQGnnVOsrQg4Y+VV2zkBp9rSWA+MgNOaSnVDAk7V5Sk6OALOokSqGxBwqi4Pg0MAAQQQ8AUIOMNNAwLOcH5mawJOO0MCTjunWFsRcMbKq7ZzAk61pbEeGAGnNZXqhgScqstTdHAEnEWJVDcg4FRdHgaHAAIIIOALEHCGmwYEnOH8zNYEnHaGBJx2TrG2IuCMlVdt5wScaktjPTACTmsq1Q0JOFWXp+jgCDiLEqluQMCpujwMDgEEEEDAFyDgDDcNCDjD+ZmtCTjtDAk47ZxibUXAGSuv2s4JONWWxnpgBJzWVKobEnCqLk/RwRFwFiVS3YCAU3V5GBwCCCCAgC9AwBluGhBwhvMzWxNw2hkScNo5xdqKgDNWXrWdE3CqLY31wAg4ralUNyTgVF2eooMj4CxKpLoBAafq8jA4BBBAAAFfgIAz3DQg4AznZ7Ym4LQzJOC0c4q1FQFnrLxqOyfgVFsa64ERcFpTqW5IwKm6PEUHR8BZlEh1AwJO1eVhcAgggAACvgABZ7hpQMAZzs9sTcBpZ0jAaecUaysCzlh51XZOwKm2NNYDI+C0plLdkIBTdXmKDo6AsyiR6gYEnKrLw+AQQAABBHyBtAScW7ZskQ0bNki7du1U1S0tAadWP1NMrQGnNjMCTgW/+gScCoqQwBAIOBNAj3iXBJwRgybUHQFnQvAR7ZaAMyLIhLoh4EwInt0igAACCFgLaA84161bJ3fccYdMnjxZ2rdvLwsWLLA+tnI01B5wavczNdIWcGo1I+Asx290kX0QcIpoS/6LlCySh7MUcLpa3ywFnK7W0PwyZyngdLGOWQg4Xaxb7omUgDMnwU8EEEAAAa0CWgPONWvWyO233y5Tp06VjRs3Bny9evUi4LScSGnxM4ejJeDUbuZ6wCleCi7+OxqeP2e9sWPHpmC00Q5x7dq13vXXX+/tu+++nv/HONrOlfe2cuXKoO5jxoxRPtL6D8/1+n7lK18Jarht27b6Iynf0vUaGv4zzzwzqOOmTZuUV6P+w3O5jo8//nhQP/8/9/UHUrqly3XLkX/+85/3/JAzd5OfCCCAAAIIqBPwQ5Pg/xo7duxQMbYVK1Z4EyZM8Jo3bx6My2QJuX8aX1O///77wfi05B1p8zOT7uqrrw4MKysrE5mDaTEbNmxY4LRz585EnOLeKQFn3ML17H/16tXBL2nLli1V/zGu5+FZbeZywJmV+roccGalhuaX1eWAMwt1dDHgzELdck+UBJw5CX4igAACCGgV0BZwXnXVVV6bNm28UaNGef369cu/njYhJwFn8VmUNj9zREkHnGkxI+AsPv9jb5GlFZxpSf5jL7q/AxcDzqzV18WAM2s1NL/rLgacWaqjSwFnluqWe54l4MxJ8BMBBBBAQKuAtoBz165d3u7duwOu5cuXew0aNMiHnAScxWdR2vzMESUdcKbFjICz+PyPvUWWAs60JP+xF93fgYsBZ9bq62LAmbUamt91FwPOLNXRpYAzS3XLPc8ScOYk+IkAAgggoFVAW8BZ3emggw4i4KyOUsJt7X7mUJIOOKtzajVzPeCsMIXwl2qrvmTpS4b8d5qkoqJC/HeZxF+pIp06dZI9e/YE9fHfbVJ3QuQ4J46LXzKUtfq6+CVDWauh+R138UuGslRHl75kKEt1yz2/8iVDOQl+IoAAAghoFdD6JUM5r8MOOyz/Olrja2rt36Ku3c/UWcuXDGmfc/6bEeIvfhD/HJzSqFGj3HCd+UnAqbyUHTt2FH9ZfTBKjX+M4+RzMeCs7uV6fV0MOLNWQ3O8LgacWaqjSwFnluqWO1YCzpwEPxFAAAEEtApoDzj79u0r/pfPBHwaX1NrDzi1+5nCags4tZq5HnDyJUPV1xIru33ooYeqXk4fJ5eLH1Gv7uV6fV38iHrWamiO18WPqGepji59RD1LdcsdKx9Rz0nwEwEEEEBAq4D2j6gfffTRql9Ta/sW9erzTLufGa+2j6hrNXP9I+oEnNV/e5Xd7tOnj+o/xnFyZSHgdL2+WQg4Xa+h+R3PQsDpch1dDjhdrlvu+ZWAMyfBTwQQQAABrQIEnOEqQ8AZzs9sTcBpZ0jAaecUa6ssfclQdUityX/1ccZxOwsBp+v1zULA6XoNze92FgJOl+vocsDpct1yz6sEnDkJfiKAAAIIaBUg4AxXGQLOcH5mawJOO0MCTjunWFsRcEqwitM/X0iszto6J+DUVpHSx0PAWbqZxi0IODVWxX5MBJz2VhpbEnBqrApjQgABBBCoKkDAWVWj9OsEnKWbVd+CgLO6SM23CThrdinrvQScBJxlnXBl3Jnrq48IOMs4mWLcFQFnjLhl6JqAswzIMe6CgDNGXLpGAAEEEIhEgIAzHCMBZzg/szUBp50hAaedU6ytCDgJOGOdYAl2TsCZIH5Eu3a9hoaJgDOiyZJQNwScCcFHtFsCzogg6QYBBBBAIDYBAs5wtASc4fzM1gScdoYEnHZOsbYi4CTgjHWCJdi56+EYKzgTnFwR7pqAM0LMBLoi4EwAPcJdEnBGiElXCCCAAAKxCBBwhmMl4AznZ7Ym4LQzJOC0c4q1FQEnAWesEyzBzgk4E8SPaNeu19AwEXBGNFkS6oaAMyH4iHZLwBkRJN0ggAACCMQmQMAZjpaAM5yf2ZqA086QgNPOKdZWBJwEnLFOsAQ7dz0cYwVngpMrwl0TcEaImUBXBJwJoEe4SwLOCDHpCgEEEEAgFgECznCsBJzh/MzWBJx2hgScdk6xtiLgJOCMdYIl2DkBZ4L4Ee3a9RoaJgLOiCZLQt0QcCYEH9FuCTgjgqQbBBBAAIHYBAg4w9EScIbzM1sTcNoZEnDaOcXaioCTgDPWCZZg566HY6zgTHByRbhrAs4IMRPoioAzAfQId0nAGSEmXSGAAAIIxCJAwBmOlYAznJ/ZmoDTzpCA084p1lYEnAScsU6wBDsn4EwQP6Jdu15Dw0TAGdFkSagbAs6E4CPaLQFnRJB0gwACCCAQmwABZzhaAs5wfmZrAk47QwJOO6dYWxFwEnDGOsES7Nz1cIwVnAlOrgh3TcAZIWYCXRFwJoAe4S4JOCPEpCsEEEAAgVgECDjDsRJwhvMzWxNw2hkScNo5xdqKgJOAM9YJlmDnBJwJ4ke0a9draJgIOCOaLAl1Q8CZEHxEuyXgjAiSbhBAAAEEYhMg4AxHS8AZzs9sTcBpZ0jAaecUaysCTgLOWCdYgp27Ho6xgjPByRXhrgk4I8RMoCsCzgTQI9wlAWeEmHSFAAIIIBCLgPaAs0+fPp7If19T9+jRIxaDMJ1qDzi1+xl7bQGnVjMCzjC/qRFtS8BJwBnRVFLXDQGnupKUPCDXa2hACDhLnhaqNiDgVFWOkgdDwFkyGRsggAACCJRZQHvAecghh+QDzk6dOpVZp/jutAec2v2MsLaAU6uZ6wFnhZkM/rsZqi8ffvih+H+IZOzYsTJt2jTVY416cH379pXKysqgW//dJlm8eHHUu1Db36pVq6R9+/YyZswYueeee9SOM8zAXK/viBEjZMaMGbJt2zZp2rRpGCq127peQwM/cuRImT59umzatElatGihthZhBuZyHZ944gnx/zMjU6dOlUsvvTQMk7ptXa5bDts891dUVGTq+T937PxEAAEEEEiHwPDhw2XmzJmyY8cOady4sapBb9++Xdq0aSObN28OxtWoUSP55JNPpFWrVmrG6S/oks6dO6vMO9LgZwp5zTXXyK233hpkJ7179060tprN/DcjxF/8IDt37hTzu+DcxQSc2i9ZXsGpNfkvx5xZuXJl8E6bH3CWY3eJ7MP1+mbhI+qu19D8YmRhBafLdXR5BafLdcs9KbGCMyfBTwQQQAABrQLaVnD6AZP30ksveY8++qh34okn5ldv+mFOcP3444/3HnnkkaCNaZv0RdsKzrT5mfolvYIzLWas4FQQ6WZ1Baf/S6L+3aY4p4frKzizUF/XV3BmoYbmd9z1FZyu19HVFZyu1y33/MoKzpwEPxFAAAEEtApoW8G5ZMkS6dmzpxXXu+++K926dbNqG1cjbSs40+Zn6pL0Cs60mLm+gpOPqMf1V6qe/Zpl/eYj6StWrJApU6bIs88+W9CT/26TTJgwQTp27Cj+iWulSZMmBY+7dMPFgDNr9XUx4MxaDc3fFBcDzizV0aWAM0t1yz2fE3DmJPiJAAIIIKBVQFvAqdWptnFpCzhrG6fm+5MOODXbVB0bAWdVjYSuZ2kFZ1qS/3JMBRcDzqzV18WAM2s1NL/rLgacWaqjSwFnluqWe54l4MxJ8BMBBBBAQKsAAWe4yhBwhvMzWxNw2hkScNo5xdoqSwFnrJAp69zFgDNlJQg9XBcDztAoKezAxYAzhWWo95BdCjjrjZDiDQk4U1w8ho4AAghkRICAM1yhCTjD+ZmtCTjtDAk47ZxibUXAGSuv2s4JONWWxnpgBJzWVKobEnCqLk/RwRFwFiVS3YCAU3V5GBwCCCCAgC9AwBluGhBwhvMzWxNw2hkScNo5xdqKgDNWXrWdE3CqLY31wAg4ralUNyTgVF2eooMj4CxKpLoBAafq8jA4BBBAAAFfgIAz3DQg4AznZ7Ym4LQzJOC0c4q1FQFnrLxqOyfgVFsa64ERcFpTqW5IwKm6PEUHR8BZlEh1AwJO1eVhcAgggAACvgABZ7hpQMAZzs9sTcBpZ0jAaecUaysCzlh51XZOwKm2NNYDI+C0plLdkIBTdXmKDo6AsyiR6gYEnKrLw+AQQAABBHwBAs5w04CAM5yf2ZqA086QgNPOKdZWBJyx8qrtnIBTbWmsB0bAaU2luiEBp+ryFB0cAWdRItUNCDhVl4fBIYAAAgj4Auedd57Mnj1bnnnmGWnYsCEmJQqsWbNGRo0aJWeccYaMHz++xK1pbgR+/etfy4MPPijTpk2T7t27g1KLwHXXXScvvviivP3229KoUaNaWqX37grPv2gfPgGn9grFMz4Cznhcy9krAWc5tePbFwFnfLbl6JmAsxzK8e2DgDM+W3pGAAEEEIhGILeCs3HjxrJz585oOs1QLx06dJAVK1bIoEGDZM6cORk68ugOdciQIfL8889Lz549ZfHixdF17FhPxx57rLz00kvB7ykBZ0LFJeBMCD7h3RJwJlyACHZPwBkBooIuCDgVFCHEEAg4Q+Ap2JSAU0ERGAICCCCAQJ0C48aNkzfeeEOOPPLIOtvxYM0CDRo0kMrKSunWrZu0bNmy5kbcW6fA1q1bZcmSJdK3b1/ZvXt3nW2z/OAnn3wiy5cvl7/+9a+s4ExqIpgCnHPOOcEvfKtWrZIaBvsts4D5eMP8+fOla9eu0rp16zLvnd1FIbB27Vox55Tp06ePpGCxeBSH7GQf5onQvNFEHdNb3tdee00OP/xwPjaWwhK+88470qxZM5k+fXoKR8+QEUAAAQSyIJBbwbljxw4xqzi5lCbAOThL86qpNefgrEll7/s4B+feJmW/J7eCkyXbZadPdIdt27aV1atXy8CBA2Xu3LmJjoWd109gwIABwTk+mjZtKtu3b69fJ2yVuMBxxx0n8+bNkxYtWsjmzZsTHw8DKE2gX79+8uqrr8rgwYOD82OVtjWtkxbo0qWLNGnShI9bJV0I9o8AAgggUKsAAWetNFYPEHBaMdXZiICzTp78gwSceYrkrpiA04SbQ4cO5aS7yZWh7Hs2q//OPvtsOfXUU+XKK68s+/7ZYXiBG2+8UV544QWZNWsW7+aG50ysh5tvvjkIxmbOnBmsJEtsIOy4XgImnL7++uvFfHxs2LBh9eqDjZITuOCCC8R8dI1zciVXA/aMAAIIIFC3AAFn3T7FHiXgLCZU/HECzuJGpgUBp51TrK1yKzjHjh0bfCtWrDujczUCnINTTSnqPRDOwVlvOlUbcg5OVeUoeTCcg7NkMlUbcA5OVeVgMAgggAACNQgQcNaAUsJdBJwlYNXSlICzFphqdxNwVgNJ4iYBZxLqye+TgDP5GoQdAQFnWEEd2xNw6qhDfUdBwFlfOR3bEXDqqAOjQAABBBCoXYCAs3Ybm0cIOG2U6m5DwFm3T+5RAs6cRII/CTgTxE9w1wScCeJHtGsCzoggE+6GgDPhAoTcPQFnSMCENyfgTLgA7B4BBBBAoKgAAWdRojobEHDWyWP1IAGnFRMfUbdjircVAWe8vlp7J+DUWhn7cRFw2ltpbknAqbk6xcdGwFncSHMLAk7N1WFsCCCAAAJGgIAz3Dwg4AznZ7Ym4LQzZAWnnVOsrQg4Y+VV2zkBp9rSWA+MgNOaSnVDAk7V5Sk6OALOokSqGxBwqi4Pg0MAAQQQ8AUIOMNNAwLOcH5mawJOO0MCTjunWFsRcMbKq7ZzAk61pbEeGAGnNZXqhgScqstTdHAEnEWJVDcg4FRdHgaHAAIIIOALpCXg3LJli2zYsEHatWunqm5pDjh37dola9askf33318aN26cmKvWgFPbnCPgTGyKfrpjAs5PLbJ0jYAz/dUm4Ex/Dc0REHCmu44EnOmuHwFnuuvH6BFAAIEsCGgPONetWyd33HGHTJ48Wdq3by8LFixQVZa0BZwmJJ4yZYrcf//9smjRItm9e7c0a9ZMjj76aBkwYIBceeWVcuCBB5bVWFvAqXXOEXCWdVrWvDMCzppdXL+XgDP9FSbgTH8NzREQcKa7jgSc6a4fAWe668foEUAAgSwIaA04zcrC22+/XaZOnSobN24MStGrVy8CzhCTct68eXL22WfLsmXL8p6dO3eW+fPnBys5zZ0dOnSQRx55RI477rgQeyptUy0Bp/Y553rAKV4KLv47Gp4/vb2xY8emYLTxDHHz5s3eypUr4+lcaa/meE3dx4wZo3SE4Ye1fv16b+3ateE7UtrDV77ylaCG27ZtUzrC8MNyvYZG6MwzzwzquGnTpvBgSntwuY6PP/54UD//P/dK9cMPy+XnyM9//vOeH3KGR6IHBBBAAAEEYhLwQ5Pg/xo7duyIaQ+ldbtixQpvwoQJXvPmzYNxmdeUuX9+wFlaZ2Vo/f777wfj0553VFZWeq1atQrG2qJFC88PMfM6foDsnXvuuXnnJk2aeA899FD+8bivXH311cG+zRiTuKRlzg0bNixw2rlzZxJMse+TgDN24nA7MOHX9ddf7+27776exj/G4Y6u7q1dDTj/8pe/eF/60pc8/52u/BOA/1EJ75RTTvGmTZvm7dmzp26YFD3qasCZpRqa6eZqwJmVOroccGbhOZKAM0VPegwVAQQQyKiAtoDzqquu8tq0aeONGjXK69evX/41lwk5Nb6mTkPAacLr7t275y0ffvjhvWa7/1F174QTTsi3MTXwP6q9V7s47kg64EzLnCPgjGP2ldhnFldwrl692jO/pC1btsz/gdD4x7jEUpbU3LWA06wQO//88/P1zL2LWP3noEGDvIULF5ZkpbWxawFnFmto5pZrAWfW6uhiwJml50gCTq3PcIwLAQQQQCAnoC3g9L/4xjNhm7ksX77ca9CgQf41mMbX1GkIOH/+85/nDXv37l3ropwlS5Z4FRUV+bbjx4/PTZNYfyYdcKZlzhFwxjoN7TrPUsCZlqXNdpUL18q1gHP06NH5P/TVQ83qt/2TMnsfffRROEAFW7sWcGaxhmYauRZwZq2OLgWcWXyOJOBU8GTGEBBAAAEE6hTQFnBWH+xBBx2Ufx1GwFldp/htc7qxjh075g1/+MMf1rnRSSedlG/rf7N6WRbvJB1wVgfROucIOKtXKoHbWQo407K0uRzTwKWA88EHH8z/kTfngrnkkku8u+66y5s0aVLw0YmGDRvmH8+FnUOHDi0Hc6z7cCngzGoNzQRxKeDMYh1dCjiz+BxJwBnr0xSdI4AAAghEIKA94Dz00EPzr7UIOEsv+N///ve8n3mt+vvf/77OTvxvrC9o/+1vf7vO9lE8qC3g1DrnCDijmG0h+8hSwJmWpc0hS2q1uUsBZ9euXYM/8qeffnqNXxb1wgsveF26dCl4IjBPHs8//7yVldZGLgWcWa2hmVsuBZxZrKNLAWcWnyMJOLU+wzEuBBBAAIGcgPaAs0+fPvnXWQScuarZ/6z68XTzGvXpp5+uc+Nnnnkm723aDxkypM72UTyoLeDUOucIOKOYbSH7yFLAWZ1K69Lm6uOM47YrAeeiRYuCP/DmhMt1fZv4/PnzveorOX/yk5/EQVu2Pl0JOLNcQzNZXAk4s1pHlwLO6n+8svAcScBZvercRgABBBDQJqA94Dz66KPzgRsBZ+mz54orrsj7mcDy3nvvrbOTZcuWFbQ3p1+L+6It4NQ65wg4456JFv1nOeDUurTZomyhm7gScP7sZz8LgsvFixcXNRk3blzBk8HZZ59ddBvNDVwJOLNcQzO/XAk4s1pHlwPOLDxHEnBqfpZjbAgggAACRoCAM9w80P4lQ1//+tcLXqPecsstdR7wnj17PHNaNhOG5v7F/W3qBJx1liT/IAFnniK5K1kOOLUubS7HbHAl4Lztttu8a6+91orsySefzD8JmCeDr33ta1bbaW3kSsCZ5RqaueVKwJnVOroccGbhOZKAU+szHONCAAEEEMgJEHDmJOr3U3vA+d3vfrfgNeo3v/nNogdqVm3mwk3zc968eUW3CdOAgNNOj4DTzinWVlkOOLUubY614P/r3JWAsxSrJUuWFDwRjB8/vpTN1bV1JeAsBda1GppjdyXgzGodXQ44s/AcScBZym8ubRFAAAEEkhAg4Aynrj3g/OUvf1nwGrVdu3Z1nnrNaDRr1qxgm5dffjkcUpGtCTiLAP3vYQJOO6dYWxFw/ndpt8bzhcRZ+CwGnLNnzy54Iij2DXVx+kfRdxYDTtdqaOZBFgNOl+pIwBnFX7Pk+iDgTM6ePSOAAAII2AkQcNo51dZKe8A5d+7cgteoZkWm+eKh2i4ff/zxXu3NfXFeCDjtdAk47ZxibUXAScAZ6wRT1PmkSZPyTwbmXa8NGzYoGl3pQ8liwOlaDU3VsxhwulRHAs7S/3Zp2oKAU1M1GAsCCCCAQE0CBJw1qdjfpz3g3L17t9evX7/861QTcHbv3t1bv359jQc5a9asgrb77LNPje2ivJOA006TgNPOKdZWBJwEnLFOMEWdjx49Ov9k8K1vfUvRyOo3lCwGnK7V0FQ+iwGnS3Uk4Kzf3y8tWxFwaqkE40AAAQQQqE2AgLM2Gbv7tQec5ihefPFFr6KiIv9a1YScvXv39t599938Qb799tveBRdc4DVo0KCg3RFHHJFvE9cVAk47WQJOO6dYWxFwEnDGOsGUdL5q1SrPvLtlniz2228/b82aNUpGVv9hZC3gdLGGpvpZCzhdqyMBZ/3/hmnYkoBTQxUYAwIIIIBAXQIEnHXpFH8sDQGnOYqJEyfuFV6a167dunXzDjjggIJQ09yf+3fuuecWRwjZgoDTDpCA084p1lYEnAScsU4wJZ1fcskl+SeBO++8U8mowg0jawGnizU0MyBrAadrdSTgDPd3LOmtCTiTrgD7RwABBBAoJkDAWUyo7sfLGXDefPPN3qBBg4r+M/8fruny7LPPeh06dMi/bs2FmObngAEDvEcffdRr3rx5wePm3PZxXwg47YQJOO2cYm1FwEnAGesEU9D5ggULvIYNGwZPBP379/d27typYFThh5ClgNPVGppZkKWA08U6EnCG/1uWZA8EnEnqs28EEEAAARsBAk4bpdrblDPgPO+88wrCx6oBZdXrxx57bK0DNufk/Pe//+3dc8893o9//GPPnHNz+fLlQfuHHnqooP/DDjus1n6ifICA006TgNPOKdZWBJwEnLFOMAWdDx06NHgiaNeunffhhx8qGFE0Q8hSwOlqDc1MyFLA6WIdCTij+XuWVC8EnEnJs18EEEAAAVsBAk5bqZrbpS3grPko/nvvSSedVBBwTpkypa7mkT1GwGlH6XrAWWEY/KRe9cUPfKRTp04yduxYmTZtmuqxRj24Y445Rl555ZWg2169eom/uijqXajtzz8PnrRv317GjBkj/rtDascZdmD+x9Fl/Pjx0qRJE3nuuefEX9oftks1248YMUJmzJgh27Ztk6ZNm6oZV9QDcbmGxmrkyJEyffp02bRpk7Ro0SJqPjX9uVrHJ554Qvz/zMjUqVPl0ksvVeMdxUCy8BzZo0cP8U/qL4sXL46CjD4QQAABBBCIXGD48OEyc+ZM2bFjhzRu3Djy/sN2qP3/C/6CLuncuXNZ8g7zf/o///nPRUn9b0kXPzQs2q5qg9z/OXP3+efmlNdff13875nI3RXbz2uuuUZuvfVWqaysFP/Lj2Lbj23HWuec/2aE+IsfxP/EqDRq1Mj2cNLTzi7nTbYVKzhZwZnsDIxv73PmzPH8/wQE73L9+te/jm9HCfWchRWcrtfQTJ0srOB0uY6s4EzoD2BEu2UFZ0SQdIMAAgggEJsAKzjD0ZZzBWe4kda+9fbt2z3/Tdn86k3zGvef//xn7RtE/AgrOO1AXV/BKXYMybYi4CTgTHYGxrP3RYsWefvvv3/wJHDDDTfEs5OEe3U94MxCDc0Ucj3gdL2OBJwJ/yEMuXsCzpCAbI4AAgggELsAAWc4YhcCzquuuiofbvrL/bzbb789HEqJWxNw2oERcNo5xdqKgJOAM9YJlkDnK1eu9Pwl+8GTwHe+850ERlCeXboccGalhmamuBxwZqGOBJzl+XsX114IOOOSpV8EEEAAgagEtAecffr0yYdvZpWhtkvaA07zZUMm1Mz9++pXv1p2Ym0Bp9Y5R8BZ9qm59w4JOAk4954V6b3n448/9o488sjgCeCcc87x9uzZk96DKTJyVwPOLNXQlNjVgDMrdSTgLPKHSvnDBJzKC8TwEEAAAQQ87QHnIYcckg/f/O/2UFexNAecTz75ZP6UaybgvOyyy7xdu3aV3VhbwKl1zhFwln1q7r1DAk4Czr1nRTrv+eSTT7zcuznmj4t/ct86D8T/Uhdv4sSJnllllsaLiwFn1mpo5p2LAWeW6kjAmca/np+OmYDzUwuuIYAAAgjoFNAccPpfdur5X5KZDzj9L1bx1q9frwoyjQGneR177bXXeg0aNAhszTk3f/nLXybmqing1DznCDgTm6Kf7jjLAWcuDDPvhmhcTv9plaK/ZkI9c9z+t6hH33kCPa5du9Y76qijgmM66aSTPPOHr67L1q1bvaFDh3r+t+d67733Xl1N1T7mWsCZxRqayeVawJm1OroccGbhOZKAU+1THANDAAEEEPifgLaA03zhzUsvveQ9+uij3oknnpgPN3MfoT7++OO9Rx55JGhj2iZ9SVPAuW7dOu+uu+7KfyLRmJr/j82ePTtRxqQDzrTMOdcDzgozC/1Jqfry4Ycfir+UXMaOHSvTpk1TPdaoB9erVy9ZuHBh0K0x8P/4Rb0Ltf2tWrVK2rdvL37AKf55PdSO02Zgq1evllNOOUVee+21oPndd98t/juJBZuaX0X/nTDZsmWLLFmyRB544AHxV5nJkCFD5Lnnnitom5YbI0aMkBkzZogf5krTpk3TMuwax5nVGhqMkSNHyvTp08VfUbzXvK0RS/GdWazjE088If5/ZmTq1Kly6aWXKq5O6UPLwnOk/+am+G90yeLFi0sHYgsEEEAAAQTKIDB8+HCZOXOm7NixQ/yVfGXYY927MK+levbsWXej/z367rvviv/dCFZt42rkL+iSzp07q807zOvyCy+8UJYuXSrGy9TZXAYPHizXXHONnHbaaXHRWPdrxnHrrbdKZWWl9O7d23q7qBqmZc75b0aIv/ghyB381cxRHb6afgg41ZRi74H47wJImzZtZPPmzcGDZgKawKtVq1Z7N3bwHlcCThNKn3zyyfV+cfqrX/1KLrroolRW2JWAM8s1NBPPlYAzq3V0NeDMynMkAWcqn/4YNAIIIJApAW0BZ9rwtQecZrHKDTfcEITX3bt3F/N/ExMgt23bVg110gGnGogiAyHgLAJUjoeztILTvBti3nVYsWKFTJkyRZ599tkCYn85vUyYMEE6duwo/lJwadKkScHjLt1wIeA073CdcMIJ9V5526xZMzEOrVu3TmVpXQg4s15DM/FcCDizXEeXAs4sPkcScKby6Y9BI4AAApkSIOAMV27tAWe4oyvP1gScds6uB5yS6IkSLHeepXNw+h9B2+scIf5UrfE+/wW7pWA6m7lwDk7/o/U11q62mla//6yzzkpn8f43ahfOwZn1GppSunAOzizX0aVzcGbxOZJzcKb6aZDBI4AAApkQ0HYOzrSh+58yCl4z+qfkS9vQ1Yw36XNwqoEoMhDOwWkXBMfaKksrOGOFTFnnLqzgTBl55MN1YQVn5Cgp7NCFFZwpZI9syC6t4IwMJUUdsYIzRcViqAgggEBGBVjBGa7wrOAM52e2ZgWnnaHrKzg5B6fdPKBVAgIEnAmgR7xLAs6IQRPqjoAzIfiIdkvAGRFkQt0QcCYEz24RQAABBKwFCDitqWpsSMBZI0tJdxJw2nERcNo5xdqKFZyx8qrtnIBTbWmsB0bAaU2luiEBp+ryFB0cAWdRItUNCDhVl4fBIYAAAgj4AgSc4aYBAWc4P7M1AaedIQGnnVOsrQg4Y+VV2zkBp9rSWA+MgNOaSnVDAk7V5Sk6OALOokSqGxBwqi4Pg0MAAQQQ8AUIOMNNAwLOcH5mawJOO0MCTjunWFsRcMbKq7ZzAk61pbEeGAGnNZXqhgScqstTdHAEnEWJVDcg4FRdHgaHAAIIIOALEHCGmwYEnOH8zNYEnHaGBJx2TrG2IuCMlVdt5wScaktjPTACTmsq1Q0JOFWXp+jgCDiLEqluQMCpujwMDgEEEEDAF7jgggtk7ty50rx5c9m1axcmJQrst99+8tFHH0mvXr3knXfeKXFrmhsB8/+lN998U7p06SIrV64EpRYB47NkyRJZuHChNGrUqJZW6b2bLxlKb+2cHzkBZ/pLTMCZ/hqaIyDgTHcdCTjTXT8CznTXj9EjgAACWRA499xz5e9//7s0a9aMgLMeBf/sZz8rq1evliOOOELeeuutevTAJocffrhUVlZKt27dxKyI5VKzgPl/pZlj7733HgFnzUTx32tWcJpl78cdd5yYwIRLNgQ2b94sN910k/Tv31++9rWvZeOgHTvK++67T9544w2ZOHGiNGzY0LGjy87hPPDAA/Laa6/JzTffLI0bN87OgTtypIsWLZJ77rlHzjzzTDnmmGMcOarsHMZPfvKT4O/nk08+mZ2D5kgRQAABBFIlwEfUw5WLj6iH8zNb8xF1O0M+om7nFGur3EfUBw0aJHPmzIl1X3SuR6Bt27bBO1kDBw4MPvKgZ2SMxFZgwIAB8uKLL0rTpk1l+/bttpvRTpmAeXNp3rx50qJFCzFvPHBJl0C/fv3k1VdflcGDB8vs2bPTNXhGG3zUqkmTJrJ48WI0EEAAAQQQUClAwBmuLASc4fzM1gScdoYEnHZOsbYyAec3vvENOfjgg6Vnz56x7ovO9Qjs2bNHZs2aFdTc1J5L+gT+/e9/y9KlS2XYsGHpGzwjzgvk6njGGWdIRUVF/n6upENg/fr1QbB57LHHinnjiEu6BEwobVZOT58+PV0DZ7QIIIAAApkRIOAMV2oCznB+ZmsCTjtDAk47p1hb5VZwjh07VqZNmxbrvuhcjwDn4NRTi/qOhHNw1ldO13acg1NXPUodDefgLFVMV3vOwamrHowGAQQQQGBvAQLOvU1KuYeAsxStmtsScNbsUv1eAs7qIgncJuBMAF3BLgk4FRQh5BAIOEMCKtmcgFNJIeo5DALOesIp2YyAU0khGAYCCCCAQK0CBJy10lg9QMBpxVRnIwLOOnnyDxJw5imSu0LAmZx9knsm4ExSP5p9E3BG45h0LwScSVcg3P4JOMP5Jb01AWfSFWD/CCCAAALFBAg4iwnV/TgBZ90+No8ScNooiRBw2jnF2oqAM1ZetZ0TcKotjfXACDitqVQ3JOBUXZ6igyPgLEqkugEBp+ryMDgEEEAAAV+AgDPcNCDgDOdntibgtDMk4LRzirUVAWesvGo7J+BUWxrrgRFwWlOpbkjAqbo8RQdHwFmUSHUDAk7V5WFwCCCAAAK+AAFnuGlAwBnOz2xNwGlnSMBp5xRrKwLOWHnVdk7AqbY01gMj4LSmUt2QgFN1eYoOjoCzKJHqBgScqsvD4BBAAAEEfAECznDTgIAznJ/ZmoDTzpCA084p1lYEnLHyqu2cgFNtaawHRsBpTaW6IQGn6vIUHRwBZ1Ei1Q0IOFWXh8EhgAACCPgCaQk4t2zZIhs2bJB27dqpqltaAk6tfqaYWgNObWYEnAp+9Qk4FRQhgSEQcCaAHvEuCTgjBk2oOwLOhOAj2i0BZ0SQCXVDwJkQPLtFAAEEELAW0B5wrlu3Tu644w6ZPHmytG/fXhYsWGB9bOVoqD3g1O5naqQt4NRq5nrA+f8AAAD//+shUnsAAC9SSURBVO3de4xU5f3H8e8isCiIUozuVhakVcraUqEUAkVAqpKItWq9VCVNg5ZojBqkTYptUk3TNCZSQJRqKdLUJvQS2xqvf1QbwGtVLGqDsFi0KMvKNXKTZYH5zXP6m+0uzOWc2Zk53+f5vjcxuzvnOed8n9f32TnuZ88MdZnshyj/+Oijj6SpqUlmz54tS5cuVV4t5VVKoK2tTRobG2XWrFmyfPnySh2W49RQ4Morr5THH39cDh48KPX19TU8M6eqpMA111wjjz32mOzbt0/69+9fyUNzrBoIPPXUU3LZZZfJkiVL5NZbb63BGTlFJQXOOeccqaurk5aWlkoelmMhgAACCCBQMYHLL79cnnjiCTl06JD06dOnYsft6YG2b98uCxYsiP4faO/evdHhmpubZd26dT09dEX3//DDD2Xo0KHq8g5f/Fwz7rrrLrn33ntl7dq1ct5551W0P0kOpt3sm9/8pjz55JPS0dEhvXv3TjI1L8bWEXB60Sc5cOCA7NmzRxoaGvwouAJVWgg4XU+PHDkigwYNqoCYvkNYCDhD76FbVRYCzpD7aCHgDPkaScCp79pGRQgggAAC3QW0BZxbt26V+fPny8MPPxz9Ht21WgLOrhr5v/bNz80i7YDTF7PQA05xAaf2j+xfNNxdppnsHZzaS614fbt27cr85Cc/yZx66qmZ7JNxxY+v+YDZJ4mo79k7ODWXmbi2v/3tb5lLL700k/0rXTQ/t7azd6pmpk+fnsneoZw5evRo4mNq3eGKK66I5pi9g1NriWXVZamHDujqq6+O+pi9g7MsL607Welj9q+0Uf+yd3BqbUXZdVm4Rp599tmZbMhZthE7IoAAAgggUG2BbGgS/b9G9g7Oap8q1vF/+MMfZgYPHpy5/vrrM2PHjo1qc79zuf80/k69efPmqDYteYdvfm5RzJs3LzLM3sEZa41UepAvZtlXdUVO2Ts4K02g4ngEnCracHwR27Zti35ITz755GgBan0yPr7yyj0SWsD5ySefZL773e929jN3kT328+TJkzPr16+vHGSKRwot4LTYQ7d8Qgs4rfUxxIDT0jWSgDPFixinRgABBBCIJaAt4Dx8+HAm+yq5qPYtW7ZkevXq1fk7GAFn6Zb65udmlHbA6YsZAWfp9V/1EZbu4Gxtbc3MnTs3c9JJJ3U+CecCMI1PxtVsfmgB5w033HBcT3O9PfbzGWeckfn444+ryVuTY4cWcFrsoVsooQWc1voYUsBp8RpJwFmTyxUnQQABBBDogYC2gPPYqZx55pmdv4dp/J1a2x2cvvm5etMOOH0xI+A8tlMpfG8p4PTl1uZaLIOQAs7f//73nRdVF17ffPPNmV/+8peZhQsXRi+dOOGEEzq358LOGTNm1IK5qucIKeC02kO3QEIKOC32MaSA0+I1koCzqpcpDo4AAgggUAEB7QHnueee2/m7FgFn8oZr93Mz0hZwajUj4Ey+/iu+h6WA05dbmyve5DwHDCngPOuss6KL6iWXXJJx8zr246WXXsoMGzas88KbCzlXrVp17FCvvg8p4LTaQ7fgQgo4LfYxpIDT4jWSgNOryx7FIoAAAiYFtAeco0eP7vw9i4Az+RLV7udmpC3g1GpGwJl8/Vd8D0sB57F42m+nP7beSn4fSsC5YcOG6II6bdq0TLF/bOfNN9/MHHsn53333VdJ0pofK5SA03IP3aIJJeC02seQAs5jn8QsXCMJOI/tOt8jgAACCGgT0B5wfvWrXyXg7MGi0e7npqYt4NRqRsDZgx+ESu1qOeDUemtzpXpb7DihBJwPPPBAFFy2tLQUm2607fbbb++8+Lq7OK+77rqS+2geEErAabmHbn2FEnBa7WPIAaeFayQBp+arHLUhgAACCDgBAs6erQPt78GpNazrqk7A2VWj8NcEnIVtarbFcsCp9dbmWjQ/lIDzF7/4RebHP/5xLLJnnnmmW8B51VVXxdpP66BQAk7LPXRrK5SA02ofQw44LVwjCTi1XuGoCwEEEEAgJ0DAmZMo7zMBZ3luXfci4OyqUfhrAs7CNjXbYjng9OGvJdVaCKEEnEl8Nm7c2C3gnDNnTpLd1Y0NJeBMAhtaD93cQwk4rfYx5IDTwjWSgDPJTy5jEUAAAQTSECDg7Jk6AWfP/NzeBJzxDAk44zlVdRQBp0Shl8Y3RK5m4y0GnKtXr+4WcD766KPVJK76sS0GnKH10C0SiwFnSH0k4Kz6U11VT0DAWVVeDo4AAgggUAEBAs6eIRJw9szP7U3AGc+QgDOeU1VHEXAScFZ1gSk6+MKFCzsDzn79+mX27NmjqLrkpVgMOEProeu6xYAzpD4ScCZ/7tK0BwGnpm5QCwIIIIBAPgECznwq8R8j4IxvVWgkAWchme6PE3B290jlOwJOAs5UFl4KJ73hhhs6A85bbrklhQoqe0qLAWdoPXQrwmLAGVIfCTgr+7xW66MRcNZanPMhgAACCCQVIOBMKtZ9PAFnd49yviPgjKdGwBnPqaqjCDgJOKu6wJQcvK2tLTNgwIAo4Bw0aFBm+/btSiorvwxrAWeIPXTdtxZwhtZHAs7yn8M07EnAqaEL1IAAAgggUEyAgLOYTultBJyljUqNIOAsJfTf7QSc8ZyqOoqAk4CzqgtMycFvvvnmzrs377//fiVV9awMawFniD10K8BawBlaHwk4e/Y8lvbeBJxpd4DzI4AAAgiUEiDgLCVUfDsBZ3GfOFsJOOMoZTIEnPGcqjqKgJOAs6oLTMHB161blznhhBOigHP8+PGZjo4OBVX1vARLAWeoPXSrwFLAGWIfCTh7/lyW5hEIONPU59wIIIAAAnEECDjjKBUeQ8BZ2CbuFgLOeFIEnPGcqjqKgJOAs6oLTMHBZ8yYEYWbDQ0NmY8++khBRZUpwVLAGWoP3UqwFHCG2EcCzso8n6V1FALOtOQ5LwIIIIBAXAECzrhS+ccRcOZ3SfIoAWc8LQLOeE5VHUXAScBZ1QWW8sEXLVoUhZt9+/bNvPzyyylXU9nTWwk4Q+6hWxFWAs5Q+0jAWdnntVofjYCz1uKcDwEEEEAgqQABZ1Kx7uMJOLt7lPMdAWc8NQLOeE5VHUXAScBZ1QWW4sFfeOGFTJ8+faKA85FHHkmxkuqc2kLAGXoP3cqwEHCG3EcCzuo8v9XqqASctZLmPAgggAAC5QoQcJYr99/9CDh75uf2JuCMZ0jAGc+pqqMIOAk4q7rAUjr4hg0bMqeddloUbt5zzz0pVVHd04YecFrooVshoQecofeRgLO6z3PVPjoBZ7WFOT4CCCCAQE8FCDh7JkjA2TM/tzcBZzxDAs54TlUdRcBJwFnVBZbCwbdu3ZoZPnx4FG7edtttKVRQm1OGHHBa6aFbKSEHnBb6SMBZm+e7ap2FgLNashwXAQQQQKBSAtoDztGjR0e/d4lI5pxzzqnUtCt2HO0Bp3Y/1whtAadWMwLOiv3Yln8gAk4CzvJXj749d+zYkfnyl78cXWRnzpyZOXr0qL4iK1RRqAGnpR66pRBqwGmljwScFXpCS+kwBJwpwXNaBBBAAIHYAtoDzpEjR3YGnE1NTbHnVauB2gNO7X6uT9oCTq1mBJy1+qkuch4CTgLOIsvDq007d+7M5P6a455cOjo6ita/b9++zM9//vOMu8vMx48QA05rPXTrLsSA01IfCTh9fPb8X80EnP+z4CsEEEAAAZ0CmgPOgwcPZvr3798ZcPbu3TvzySefqILUHHD64OeaqSng1GxGwKngR99ywJkLw7TeTl/N5eFCPTfvWbNmVfM0NTv2rl27Ml/5yleiOV100UUZ98RX7OPTTz/NzJgxI1NXV5f54IMPig1Vuy20gNNiD93iCi3gtNbHkANOC9dIAk61lzgKQwABBBD4fwFtAWd7e3vmH//4R+avf/1r5sILL+wMN93vlu6/SZMmZf785z9HY9zYtD+0BZy++bn+pR1w+mIWesBZ5xZD9odc9cdHH30k2VvJZfbs2bJ06VLVtVa6uObmZlm/fn10WGeQffKr9CnUHq+trU0aGxslG3DK8uXL1dYZp7Bt27bJ9OnT5a233oqGP/TQQ5L9S2K3Xd2PYvaOTjlw4IBs3LhRVqxYIdm7zGTq1KmycuXKbmN9+ebKK6+Uxx9/XLJhrtTX1/tSdt46rfbQYVxzzTXy2GOPSfaO4uPWbV4sxQ9a7ONTTz0l2f+ZkSVLlsitt96quDvJS7Nwjcy+V5hk/9AlLS0tyYHYAwEEEEAAgRoIXH755fLEE0/IoUOHpE+fPjU4Y/FTuN+lRowYUXzQ/2/dtGmTZP9thFhjqzUoe0OXDB06VE3e4Zuf68tdd90l9957r6xdu1bOO++8arWq4HF9Mcv+MUKyNz9EuUP2buaC8/F1AwGn4s5l/woggwcPlv3790dVugXoAq+BAwcqrrpypYUScLpQ+uKLLy77l9Nly5bJTTfdVDnYGh4plIDTcg/dcgkl4LTax1ADTivXSALOGl60OBUCCCCAQFkC2gLOsiaR4k7aAs4UKco+ddoBZ9mF13hHAs4ag+c7naU7ON1fvdxfHVpbW+XBBx+U559/vhtJ9nZ6mTt3rgwZMkSyL82Tvn37dtse0jchBJzuL4LTpk0r+87bfv36iXM45ZRTvGxtCAGn9R66hRdCwGm5jyEFnBavkQScXl7+KBoBBBAwJUDA2bN2E3D2zM/tTcAZzzD0gFPcS9S1f1h6D87sS9COe4+Q7FLN+1j2F3btretRfSG8B2f2pfV5e1eop8c+fu211/bIMO2dQ3gPTus9dGsohPfgtNzHkN6D0+I1kvfgTPtKxvkRQAABBEoJaHsPzlL1atuefZVR9Dtj9i35tJXmTT1pvwenL1C8B2e8ILiqoyzdwVlVSM8OHsIdnJ6RV7zcEO7grDiKhwcM4Q5OD9krVnJId3BWDMWjA3EHp0fNolQEEEDAqAB3cPas8dzB2TM/tzd3cMYzDP0OTt6DM946YFQKAgScKaBX+JQEnBUGTelwBJwpwVfotAScFYJM6TAEnCnBc1oEEEAAgdgCBJyxqfIOJODMy5LoQQLOeFwEnPGcqjqKOziryqv24AScalsTuzACzthUqgcScKpuT8niCDhLEqkeQMCpuj0UhwACCCCQFSDg7NkyIODsmZ/bm4AzniEBZzynqo4i4Kwqr9qDE3CqbU3swgg4Y1OpHkjAqbo9JYsj4CxJpHoAAafq9lAcAggggEBWgICzZ8uAgLNnfm5vAs54hgSc8ZyqOoqAs6q8ag9OwKm2NbELI+CMTaV6IAGn6vaULI6AsySR6gEEnKrbQ3EIIIAAAlkBAs6eLQMCzp75ub0JOOMZEnDGc6rqKALOqvKqPTgBp9rWxC6MgDM2leqBBJyq21OyOALOkkSqBxBwqm4PxSGAAAIIZAUmTpwoLS0tMm3aNMn+a9KYJBQ48cQT5d///recddZZcujQoYR7M9wJnHTSSfLee+/JiBEjZN++faAUEHA/p62trdF/9fX1BUb5+zD/yJC/vQu+cgJO/1tMwOl/D90MCDj97iMBp9/9I+D0u39UjwACCFgQaGxsFPe7W58+faSjo8PClCs6x89+9rNR4DR58mR54YUXKnpsKwebOnWqrFq1Kgo4XYjHR36BQYMGye7du+XTTz+Vfv365R/k8aNeBJxbtmyRcePGybe+9S25++67Peam9CQC27dvl4suuih6ycNPf/rTJLsyVonAnXfeKX//+9/l9ddfl759+yqpijKSCnz/+9+X5557Tl599VVxf2Hmwy+B1atXy+233y4/+tGP5Nvf/rZfxVOtfOMb35BevXrJK6+8ggYCCCCAAAIqBfbs2RMFm/x/osr2UBQCnQLt7e1y9OhRGTx4cOdjIX3hRcCZe4k6f9EIaemVnsvpp58u27Ztk/PPP19efPHF0jswQp2Ae7mK+6Xc3f7unkz58FNgwoQJUbjZv39/2b9/v5+TMFz12LFjZc2aNTJlyhRxYScffgkMGzYs+gMRdyP41TeqRQABBBBAAAEEEKitgBcBp7uD84orrpDPfe5z4v46xIcNAfcXQPeGy8OHD5e9e/famHRgs3TvhbJ582Y544wz5MiRI4HNzs50cn1saGiQw4cP25l4IDN1L0XZuHGjjBw5Unbs2BHIrOxMw73Uz/2R6Omnn7YzaWaKAAIIIIAAAggggEBCAS8CztwdnLNnz5alS5cmnCLDfRXgPTh97dz/6uY9OP9n4fNXvAenz90T4T04/e4f78Hpd/+oHgEEEEAAAQQQQKA2AgSctXHmLGUIEHCWgaZsFwJOZQ0psxwCzjLhlOxGwKmkEWWWQcBZJhy7IYAAAggggAACCJgSIOA01W6/JkvA6Ve/8lVLwJlPxb/HCDj961nXigk4u2r49zUBp389o2IEEEAAAQQQQACB2gsQcNbenDPGFCDgjAmleBgBp+LmJCiNgDMBlsKhBJwKm5KgJALOBFgMRQABBBBAAAEEEDArQMBptvX6J07Aqb9HpSok4Cwl5Md2Ak4/+lSoSgLOQjJ+PE7A6UefqBIBBBBAAAEEEEAgXQECznT9OXsRAQLOIjiebCLg9KRRJcok4CwBpHwzAafyBpUoj4CzBBCbEUAAAQQQQAABBBDIChBwsgzUChBwqm1N7MIIOGNTqR5IwKm6PSWLI+AsSaR6AAGn6vZQHAIIIIAAAggggIASAQJOJY2gjOMFCDiPN/HtEQJO3zqWv14CzvwuvjxKwOlLp/LXScCZ34VHEUAAAQQQQAABBBDoKkDA2VWDr1UJEHCqakdZxRBwlsWmbicCTnUtSVQQAWciLnWDCTjVtYSCEEAAAQQQQAABBBQKEHAqbEq+kg4cOCB79uyRhoaGfJuDfMxCwOl6euTIERk0aFCQPbQQcIbeQ7cwLQScIffRQsAZ8jWSgDPIyyOTQgABBBBAAAEEEKiwAAFnhUErfbjdu3fLokWLZPHixdLY2Cjr1q2r9CnUHi/UgPO5556LevrOO+/I5s2bI3/X21GjRsnVV18t3/ve96Surk5tX5IUFmrAaamHrt+hBpxW+hhywGnhGknAmeSqw1gEEEAAAQQQQAABqwIEnEo7v337dlmwYIEsWbJE9u7dG1XZ3NxMwKm0X3HKcneI3XHHHfLb3/626PDJkyfLr3/9a/nCF75QdJwPG0MLOC320K2z0AJOa30MMeC0dI0k4PThakeNCCCAAAIIIIAAAmkLEHCm3YFjzr9161aZP3++PPzww+Jectf1g4Czq4Z/X8+cOVNWrFgRq/AzzjhD3n77bTn99NNjjdc6KLSA02IP3doKLeC01seQAk6L10gCTq1XOOpCAAEEEEAAAQQQ0CRAwKmpG9la5s2bJ8uWLZPp06dLS0uLrFmzprNCAs5OCu+++MMf/iDXX399VPdJJ50k3/nOd+S8886T9vZ2ee211+RPf/pT9F6cXSc2Y8YMefrpp7s+5N3XIQWcVnvoFl1IAafFPoYUcFq8RhJwenfpo2AEEEAAAQQQQACBFAQIOFNAL3ZK9w/OuPdf7NWrl7S2tkpTU5McPXo02oWAs5ic7m3Dhw+XDz74QC655BJZvnz5cf9Y1Msvvyw33HCD/Oc//+k2kVWrVsmUKVO6PebTNyEFnFZ76NZbSAGnxT6GFHBavEYScPp01aNWBBBAAAEEEEAAgbQECDjTko953iFDhsiWLVui0QScMdGUDXN34rr305w2bZo8++yzUl9fn7fCf/7znzJu3Lhud3Led9998oMf/CDveB8eDCXgtNxDt85CCTit9jGkgPPY5z0L10gCzmO7zvcIIIAAAggggAACCOQRyHjw8eGHH2aypWdmz57tQbWVLfHcc8+N5u7mnw04K3tw5UfLvtdaNPdZs2Ypr7R4eQ888EDmhBNOyGTDleIDs1tvv/32zn67nl933XUl99E84Iorrojmc/DgQc1llqzNcg8dztVXXx31cd++fSWtNA+w2scnn3wy6l/2H63T3J6yarNwjTz77LMz2ZCzLB92QgABBBBAAAEEEEDAigB3cOYJfTU9NGbMGFm7dm1UEndwaupM/FoWLFggu3btkp/97Gcld3J3eLr33sx9XHXVVfLYY4/lvvXucyh3cFruoVt0odzBabWPId/BaeEayR2c3l36KBgBBBBAAAEEEEAgBQECzhTQk5zSvWT5jTfeiHYh4Ewi5+fY9957T9wvs7mPOXPmyMKFC3Pfevc5lIAzCXxoPXRzDyXgtNrHkANOC9dIAs4kP7mMRQABBBBAAAEEELAqQMCpvPMWfnkr1IK2tjZpbGyU7EvUo3+Yp9C4kB5/4YUXuv2jQo8++mj0L677OkeLAWdoPXRrz2LAGVIfCTh9fQb9b90EnH73j+oRQAABBBBAAAEEaiNAwFkb57LPQsBpK+BctGiR3HnnndF66devn2zbtk1OPvnkstdP2jtaDDhD66FbQxYDzpD6SMCZ9jNhz85PwNkzP/ZGAAEEEEAAAQQQsCFAwKm8zwSctgLOmTNnyooVK6JVecstt8hDDz2kfIUWL89iwBlaD12HLQacIfWRgLP485T2rQSc2jtEfQgggAACCCCAAAIaBAg4NXShSA0EnHYCzo8//liy/1quZP+lahk0aJBk/9V1Oe2004qsDv2brAWcIfbQrTJrAWdofSTg1P9cWaxCAs5iOmxDAAEEEEAAAQQQQOC/AgScylcCAaedgNPdsfmrX/0qWpH333+/3HHHHcpXZ+nyrAWcIfbQddlawBlaHwk4Sz9XaR5BwKm5O9SGAAIIIIAAAgggoEWAgFNLJwrUQcBpI+B89913ZdSoUXLkyBEZP368vPTSS9K7d+8Cq8Kfhy0FnKH20K02SwFniH0k4PTnOTNfpQSc+VR4DAEEEEAAAQQQQACB7gIEnN091H1HwGkj4Lz00kvlmWeekYaGBnnjjTfkzDPPVLcWyynIUsAZag9d3y0FnCH2kYCznGcvPfsQcOrpBZUggAACCCCAAAII6BUg4NTbm6gyAs7wA073cvQ5c+ZI3759ZeXKlTJx4kTlqzJ+eVYCzpB76LptJeAMtY8EnPGfszSOJODU2BVqQgABBBBAAAEEENAmQMCprSPH1EPAGXbA+eKLL8rXv/516ejokEceeURuvPHGY1aA399aCDhD76FbgRYCzpD7SMDp9/MoAaff/aN6BBBAAAEEEEAAgdoIEHDWxrnssxBwhhtwun8lfdKkSbJjxw6555575O677y57nWjdMfSA00IP3doKPeAMvY8EnFqfIePVRcAZz4lRCCCAAAIIIIAAArYFCDiV95+AM8yAs62tTb72ta/J+++/L7fddps88MADyldieeWFHHBa6aHrfMgBp4U+EnCW9/ylZS8CTi2doA4EEEAAAQQQQAABzQIEnJq7k62NgDO8gHPnzp3Ry9LffvttmTlzpvzud7+Turo65SuxvPJCDTgt9dB1PtSA00ofCTjLe/7SshcBp5ZOUAcCCCCAAAIIIICAZgECTs3dydZGwBlWwLlr1y658MILZe3atXLZZZfJX/7yF+ndu3fBVbh//35ZvHixzJo1K/oX1gsOVLohxIDTWg/d0gox4LTURwJOpU+QMcsi4IwJxTAEEEAAAQQQQAAB0wIEnMrbP2bMmCgMc2W6X3Lce8VZ+XAvHW1sDCfg3L17t1x00UXy5ptvRp9d6FBfX1+wnQcPHpSrrrpKnn322eil7MOGDSs4VuuG0AJOiz10ayu0gNNaH0MOOC1cIwk4tV7hqAsBBBBAAAEEEEBAkwABp6Zu5KmlublZ1q9fH21pamqSzZs35xkV5kMhBZzbtm2T6dOny1tvvRU166GHHpL+/ft3a1wmk4n+NfUDBw7Ixo0bZcWKFeJeQjt16lRZuXJlt7G+fBNSwGm1h26thRRwWuxjyAGnhWskAacvVzzqRAABBBBAAAEEEEhTgIAzTf0S525vb5fBgweLe5my+3AvZXaB18CBA0vsGcbmUAJOF0pffPHFZd99u2zZMrnpppu8bGooAaflHrqFF0rAabWPoQacVq6RBJxeXv4oGgEEEEAAAQQQQKDGAgScNQYvdbpDhw5FL0lvbW2VBx98UJ5//vluu0yaNEnmzp0rQ4YMkdGjR0vfvn27bQ/pmxACzk2bNsm0adPKvvO2X79+4hxOOeUUL1sbQsBpvYdu4YUQcFruY0gBp8VrJAGnl5c/ikYAAQQQQAABBBCosQABZ43BS53OvTR5xIgRpYZF290v7MOHD4811sdBIQScv/nNb+TGG28sm//aa6+VP/7xj2Xvn/aOIQSc1nvo1lAIAaflPoYUcFq8RhJwpn0l4/wIIIAAAggggAACPggQcPrQJaM1hhBwGm1d57RDCDg7J2P4ixACTsPtk5ACTot9JOC02HXmjAACCCCAAAIIIJBUgIAzqRjjayZAwFkz6qqdiICzarQ1PTABZ025K34yAs6Kk9b0gAScNeXmZAgggAACCCCAAAKeChBweto4C2UTcPrfZQJO/3voZkDA6XcfCTj97h8Bp9/9o3oEEEAAAQQQQACB2ggQcNbGmbOUIUDAWQaasl0IOJU1pMxyCDjLhFOyGwGnkkaUWQYBZ5lw7IYAAggggAACCCBgSoCA01S7/ZosAadf/cpXLQFnPhX/HiPg9K9nXSsm4Oyq4d/XBJz+9YyKEUAAAQQQQAABBGovQMBZe3POGFOAgDMmlOJhBJyKm5OgNALOBFgKhxJwKmxKgpIIOBNgMRQBBBBAAAEEEEDArAABp9nW6584Aaf+HpWqkICzlJAf2wk4/ehToSoJOAvJ+PE4AacffaJKBBBAAAEEEEAAgXQFCDjT9efsRQQIOIvgeLKJgNOTRpUok4CzBJDyzQScyhtUojwCzhJAbEYAAQQQQAABBBBAICvgTcB5wQUXSHNzs2zatInGGREYOHCgbN++XUaOHCnvv/++kVmHNc1hw4ZJS0uL9O/fXw4fPhzW5AzNZujQobJx40ZxP5Pt7e2GZh7GVHM/h1/60peiPoYxKzuzGDBggPTr109WrVplZ9LMFAEEEEAAAQQQQACBhALeBJwTJkyQUaNGybvvvptwigz3VeDUU0+VHTt2iPulfP369b5Ow3TdI0aMkHXr1smJJ54oHR0dpi18nry7g8w997qg5eDBgz5PxWTtZ599dvQcOnr0aPnXv/5l0sDnSX/mM5+R+vp6eeWVV3yeBrUjgAACCCCAAAIIIFBVAW8CzqamJpk9e7YsXbq0qiAcXI8AL1HX04tyK+El6uXK6dqPl6jr6kfSaniJelIxXeN5ibquflANAggggAACCCCAgE4BAk6dfaGqrAABp//LgIDT/x66GRBw+t1HAk6/+0fA6Xf/qB4BBBBAAAEEEECgNgIEnLVx5ixlCBBwloGmbBcCTmUNKbMcAs4y4ZTsRsCppBFllkHAWSYcuyGAAAIIIIAAAgiYEiDgNNVuvyZLwOlXv/JVS8CZT8W/xwg4/etZ14oJOLtq+Pc1Aad/PaNiBBBAAAEEEEAAgdoLEHDW3pwzxhQg4IwJpXgYAafi5iQojYAzAZbCoQScCpuSoCQCzgRYDEUAAQQQQAABBBAwK0DAabb1+idOwKm/R6UqJOAsJeTHdgJOP/pUqEoCzkIyfjxOwOlHn6gSAQQQQAABBBBAIF0BAs50/Tl7EQECziI4nmwi4PSkUSXKJOAsAaR8MwGn8gaVKI+AswQQmxFAAAEEEEAAAQQQyAoQcLIM1AoQcKptTezCCDhjU6keSMCpuj0liyPgLEmkegABp+r2UBwCCCCAAAIIIICAEgECTiWNoIzjBQg4jzfx7RECTt86lr9eAs78Lr48SsDpS6fy10nAmd+FRxFAAAEEEEAAAQQQ6CpAwNlVQ/HXBw4ckD179khDQ4PiKitbmqWAM9T+Wgo4Q+2h+6m2FHCG2EcLAWeIfctdUQk4cxJ8RgABBBBAAAEEEECgsAABZ2EbFVt2794tixYtksWLF0tjY6OsW7dORV21KMJCwBl6fy0EnKH30P2sWwg4Q+5jyAFnyH3LXWcJOHMSfEYAAQQQQAABBBBAoLAAAWdhm1S3bN++XRYsWCBLliyRvXv3RrU0NzcTcKbalcqd3Ep/Qw44rfTQrfqQA04LfQwx4LTQt9wVh4AzJ8FnBBBAAAEEEEAAAQQKCxBwFrZJZcvWrVtl/vz58vDDD4t7yV3XDwLOrhp+fm2tvyEGnNZ66H7SQgw4LfUxpIDTUt9yVzkCzpwEnxFAAAEEEEAAAQQQKCxAwFnYJpUt8+bNk2XLlsn06dOlpaVF1qxZ01kHAWcnhbdfWOtviAGntR66H7YQA05LfQwp4LTUt9yFjoAzJ8FnBBBAAAEEEEAAAQQKCxBwFrZJZcuRI0ekrq5OevXqJa2trdLU1CRHjx6NaiHgTKUlFT2ptf6GGHBa66H7AQgx4LTUx5ACTkt9y118CDhzEnxGAAEEEEAAAQQQQKCwAAFnYRsVW4YMGSJbtmyJaiHgVNGSihYRen9DDDiPXQCh99DNN8SA01IfQwo4LfUtN1cCzpwEnxFAAAEEEEAAAQQQKCxAwFnYRsWWL37xi53/sBABp4qWVLSI0PtrIeAMvYduwVsIOEPuY8gBZ8h9y11sCDhzEnxGAAEEEEAAAQQQQKCwAAFnYRsVW8aMGSNr166NaiHgVNGSihYRen8tBJyh99AteAsBZ8h9DDngDLlvuYsNAWdOgs8IIIAAAggggAACCBQWIOAsbKNiy7hx4+SNN96IaiHgVNGSihYRen8tBJyh99AteAsBZ8h9DDngDLlvuYsNAWdOgs8IIIAAAggggAACCBQWIOAsbKNii4Vf3gpBt7W1SWNjo8yaNUuWL19eaJjXj4feXwJOr5dnZ/EEnJ0UXn5BwOll2zqLJuDspOALBBBAAAEEEEAAAQQKChBwFqTRsSH0AKyYMgFnMR0/thFw+tGnUlUScJYS0r2dgFN3f0pVR8BZSojtCCCAAAIIIIAAAgiIEHAqXwUEnNzBqXyJFi2PgLMojzcbCTi9aVXeQgk487J48yABpzetolAEEEAAAQQQQACBFAUIOFPEj3NqAk4CzjjrROsYAk6tnUlWFwFnMi9towk4tXUkWT0EnMm8GI0AAggggAACCCBgU4CAU3nfCTgJOJUv0aLlEXAW5fFmIwGnN63KWygBZ14Wbx4k4PSmVRSKAAIIIIAAAgggkKIAAWeK+HFOTcBJwBlnnWgdQ8CptTPJ6iLgTOalbTQBp7aOJKuHgDOZF6MRQAABBBBAAAEEbAoQcCrvOwEnAafyJVq0PALOojzebCTg9KZVeQsl4MzL4s2DBJzetIpCEUAAAQQQQAABBFIUIOBMET/OqQk4CTjjrBOtYwg4tXYmWV0EnMm8tI0m4NTWkWT1EHAm82I0AggggAACCCCAgE0BAk7lfSfgJOBUvkSLlkfAWZTHm40EnN60Km+hBJx5Wbx5kIDTm1ZRKAIIIIAAAggggECKAgScKeLHOTUBJwFnnHWidQwBp9bOJKuLgDOZl7bRBJzaOpKsHgLOZF6MRgABBBBAAAEEELApQMCpvO8EnAScypdo0fIIOIvyeLORgNObVuUtlIAzL4s3DxJwetMqCkUAAQQQQAABBBBIUYCAM0X8OKcm4CTgjLNOtI4h4NTamWR1EXAm89I2moBTW0eS1UPAmcyL0QgggAACCCCAAAI2BQg4lfedgJOAU/kSLVoeAWdRHm82EnB606q8hRJw5mXx5kECTm9aRaEIIIAAAggggAACKQoQcKaIH+fUY8aMkbVr10ZD3S85LS0tcXYLYkxbW5s0NoYdcIbeXwsBZ+g9dE8mFgLOkPsYcsAZct9yF3ICzpwEnxFAAAEEEEAAAQQQKCxAwFnYRsWW5uZmWb9+fVRLU1OTbN68WUVdtSjCQsAZen8tBJyh99D9rFsIOEPuY8gBZ8h9y11nCThzEnxGAAEEEEAAAQQQQKCwAAFnYZvUt7S3t8vgwYNl//79US29e/eWnTt3ysCBA1OvrRYFhB5wWuhv6AGnhR66n/XQA87Q+xhqwBl633LXWQLOnASfEUAAAQQQQAABBBAoLEDAWdgmlS2HDh2KXpLe2toqDz74oDz//PPd6pg0aZLMnTtXhgwZIqNHj5a+fft22x7SNyEGnNb6G2LAaa2H7jklxIDTUh9DCjgt9S13PSfgzEnwGQEEEEAAAQQQQACBwgIEnIVtUtmyceNGGTFiRKxzb9q0SYYPHx5rrI+DQgw4rfU3xIDTWg/dc0eIAaelPoYUcFrqW+66TcCZk+AzAggggAACCCCAAAKFBQg4C9uwJWWBEAPOlElrfvoQA86aIyo4YYgBpwLWmpUQUsBZMzRFJyLgVNQMSkEAAQQQQAABBBBQK0DAqbY1FEbA6f8aIOD0v4duBgScfveRgNPv/hFw+t0/qkcAAQQQQAABBBCojQABZ22cOUsZAgScZaAp24WAU1lDyiyHgLNMOCW7EXAqaUSZZRBwlgnHbggggAACCCCAAAKmBAg4TbXbr8kScPrVr3zVEnDmU/HvMQJO/3rWtWICzq4a/n1NwOlfz6gYAQQQQAABBBBAoPYCBJy1N+eMMQUIOGNCKR5GwKm4OQlKI+BMgKVwKAGnwqYkKImAMwEWQxFAAAEEEEAAAQTMChBwmm29/okTcOrvUakKCThLCfmxnYDTjz4VqpKAs5CMH48TcPrRJ6pEAAEEEEAAAQQQSFeAgDNdf85eRICAswiOJ5sIOD1pVIkyCThLACnfTMCpvEElyiPgLAHEZgQQQAABBBBAAAEEsgIEnCwDtQIEnGpbE7swAs7YVKoHEnCqbk/J4gg4SxKpHkDAqbo9FIcAAggggAACCCCgRMCLgPOdd96RCy64QD7/+c/L0KFDldBRRrUF6uvrZdOmTXLWWWdJR0dHtU/H8asg0KtXL/nwww+lqalJjh49WoUzcMhaCOT66J5/jxw5UotTco4KCgwYMEA2bNggI0eOlL1791bwyByqFgKvvfaa9O7dO7oe1uJ8nAMBBBBAAAEEEEAAAR8FvAg4X3/9dRk/frw0NDSIu6uPDxsCp59+umzbtk3OP/98efHFF21MOrBZTpw4UV555RVxYXV7e3tgs7MznQkTJsirr74q/fv3l/3799uZeCAzHTt2rKxZs0amTJkiq1evDmRWdqbhws26ujo5dOiQnUkzUwQQQAABBBBAAAEEEgp4EXAmnBPDEUAAAQQQQAABBBBAAAEEEEAAAQQQQMCIAAGnkUYzTQQQQAABBBBAAAEEEEAAAQQQQAABBEIUIOAMsavMCQEEEEAAAQQQQAABBBBAAAEEEEAAASMCBJxGGs00EUAAAQQQQAABBBBAAAEEEEAAAQQQCFGAgDPErjInBBBAAAEEEEAAAQQQQAABBBBAAAEEjAgQcBppNNNEAAEEEEAAAQQQQAABBBBAAAEEEEAgRAECzhC7ypwQQAABBBBAAAEEEEAAAQQQQAABBBAwIkDAaaTRTBMBBBBAAAEEEEAAAQQQQAABBBBAAIEQBQg4Q+wqc0IAAQQQQAABBBBAAAEEEEAAAQQQQMCIAAGnkUYzTQQQQAABBBBAAAEEEEAAAQQQQAABBEIUIOAMsavMCQEEEEAAAQQQQAABBBBAAAEEEEAAASMCBJxGGs00EUAAAQQQQAABBBBAAAEEEEAAAQQQCFGAgDPErjInBBBAAAEEEEAAAQQQQAABBBBAAAEEjAgQcBppNNNEAAEEEEAAAQQQQAABBBBAAAEEEEAgRAECzhC7ypwQQAABBBBAAAEEEEAAAQQQQAABBBAwIkDAaaTRTBMBBBBAAAEEEEAAAQQQQAABBBBAAIEQBQg4Q+wqc0IAAQQQQAABBBBAAAEEEEAAAQQQQMCIAAGnkUYzTQQQQAABBBBAAAEEEEAAAQQQQAABBEIUIOAMsavMCQEEEEAAAQQQQAABBBBAAAEEEEAAASMCBJxGGs00EUAAAQQQQAABBBBAAAEEEEAAAQQQCFGAgDPErjInBBBAAAEEEEAAAQQQQAABBBBAAAEEjAgQcBppNNNEAAEEEEAAAQQQQAABBBBAAAEEEEAgRAECzhC7ypwQQAABBBBAAAEEEEAAAQQQQAABBBAwIkDAaaTRTBMBBBBAAAEEEEAAAQQQQAABBBBAAIEQBf4PAweLhT4Yl6sAAAAASUVORK5CYII=)\n",
        "\n",
        "\n",
        "<font color='orange'><b> For a better understanding of the question, pay attention to the following guide\n",
        "\n",
        "The meaning of sliding matrix A on B is as follows\n",
        "\n",
        "![Screenshot 1403-07-06 at 15.27.48.png](data:image/png;base64,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)\n",
        "\n",
        "In the specified area, do the multiplication step by step and then add the product of the multiplications and then put it in the resulting matrix:\n",
        "\n",
        "![Screenshot 1403-07-06 at 15.29.01.png](data:image/png;base64,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)\n",
        "\n",
        "Then move the matrix A to the right by one row and repeat the same operation and place the result in the corresponding row in the output matrix:\n",
        "\n",
        "![Screenshot 1403-07-06 at 15.30.36.png](data:image/png;base64,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)"
      ]
    },
    {
      "cell_type": "code",
      "execution_count": 3,
      "metadata": {},
      "outputs": [
        {
          "data": {
            "text/plain": [
              "array([[-7., -5., -7.],\n",
              "       [-5., -2., -5.],\n",
              "       [-7., -5., -7.]])"
            ]
          },
          "execution_count": 3,
          "metadata": {},
          "output_type": "execute_result"
        }
      ],
      "source": [
        "B = np.array([\n",
        "    [1 ,1 ,1 ,1 ,1],\n",
        "    [1 ,2 ,2 ,2 ,1],\n",
        "    [1 ,2 ,2 ,2 ,1],\n",
        "    [1 ,2 ,2 ,2 ,1],\n",
        "    [1 ,1 ,1 ,1 ,1]\n",
        "])\n",
        "A = np.array([\n",
        "    [1 ,1 ,1],\n",
        "    [1 ,-9 ,1],\n",
        "    [1 ,1 ,1]\n",
        "])\n",
        "def slide(A , B):\n",
        "    Hi, Wi = B.shape\n",
        "    Hk, Wk = A.shape\n",
        "    pad_width0 = Hk // 2\n",
        "    pad_width1 = Wk // 2\n",
        "    result = np.zeros((Hi - pad_width0 * 2, Wi - pad_width1  * 2))\n",
        "\n",
        "    delta_h = int((Hk - 1) / 2)\n",
        "    delta_w = int((Wk - 1) / 2)\n",
        "    for image_h in range(0, Hi - pad_width0 - 1):\n",
        "        for image_w in range(0, Wi - pad_width1 - 1):\n",
        "            result[image_h][image_w] = np.sum(\n",
        "                A * B[pad_width0 + image_h - delta_h:pad_width0 + image_h + delta_h + 1,\n",
        "                         pad_width1 + image_w - delta_w : pad_width1 + image_w + delta_w + 1])\n",
        "\n",
        "    return result\n",
        "C = slide(A,B)\n",
        "C"
      ]
    },
    {
      "cell_type": "code",
      "execution_count": null,
      "metadata": {},
      "outputs": [],
      "source": []
    }
  ],
  "metadata": {
    "colab": {
      "provenance": []
    },
    "kernelspec": {
      "display_name": "Python 3",
      "name": "python3"
    },
    "language_info": {
      "codemirror_mode": {
        "name": "ipython",
        "version": 3
      },
      "file_extension": ".py",
      "mimetype": "text/x-python",
      "name": "python",
      "nbconvert_exporter": "python",
      "pygments_lexer": "ipython3",
      "version": "3.12.0"
    }
  },
  "nbformat": 4,
  "nbformat_minor": 0
}
